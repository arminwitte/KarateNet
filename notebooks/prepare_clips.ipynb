{
 "cells": [
  {
   "cell_type": "code",
   "execution_count": null,
   "metadata": {
    "vscode": {
     "languageId": "plaintext"
    }
   },
   "outputs": [],
   "source": [
    "import cv2\n",
    "import moviepy.editor as mpy\n",
    "from IPython.display import Video\n",
    "import cv2\n",
    "import ipywidgets as widgets\n",
    "from IPython.display import Video, display"
   ]
  },
  {
   "cell_type": "code",
   "execution_count": null,
   "metadata": {
    "vscode": {
     "languageId": "plaintext"
    }
   },
   "outputs": [],
   "source": [
    "import cv2\n",
    "import moviepy.editor as mpy\n",
    "\n",
    "def manual_selection_and_extraction(video_path):\n",
    "    \"\"\"\n",
    "    Combines manual selection of movements using OpenCV and extraction using MoviePy.\n",
    "\n",
    "    Args:\n",
    "        video_path: Path to the input video file.\n",
    "    \"\"\"\n",
    "\n",
    "    cap = cv2.VideoCapture(video_path)\n",
    "\n",
    "    timestamps = []\n",
    "    start_time = None\n",
    "\n",
    "    while True:\n",
    "        ret, frame = cap.read()\n",
    "\n",
    "        if not ret:\n",
    "            break\n",
    "\n",
    "        cv2.imshow('Video', frame)\n",
    "\n",
    "        key = cv2.waitKey(1) & 0xFF\n",
    "\n",
    "        if key == ord('s'):  # Start selection\n",
    "            if start_time is None:\n",
    "                start_time = cap.get(cv2.CAP_PROP_POS_MSEC) / 1000  # Convert to seconds\n",
    "                print(\"Start time:\", start_time)\n",
    "            else:\n",
    "                print(\"Start time already set. Press 'e' to end selection.\")\n",
    "        elif key == ord('e'):  # End selection\n",
    "            if start_time is not None:\n",
    "                end_time = cap.get(cv2.CAP_PROP_POS_MSEC) / 1000  # Convert to seconds\n",
    "                print(\"End time:\", end_time)\n",
    "                timestamps.append((start_time, end_time))\n",
    "                start_time = None\n",
    "        elif key == ord('q'):  # Quit\n",
    "            break\n",
    "\n",
    "    cap.release()\n",
    "    cv2.destroyAllWindows()\n",
    "\n",
    "    # Extract and save clips using MoviePy\n",
    "    clip = mpy.VideoFileClip(video_path)\n",
    "    for start, end in timestamps:\n",
    "        subclip = clip.subclip(start, end)\n",
    "        output_path = f\"clip_{start}_{end}.mp4\"\n",
    "        subclip.write_videofile(output_path)\n",
    "\n",
    "# Example usage:\n",
    "video_path = \"your_video.mp4\"\n",
    "manual_selection_and_extraction(video_path)"
   ]
  },
  {
   "cell_type": "code",
   "execution_count": null,
   "metadata": {
    "vscode": {
     "languageId": "plaintext"
    }
   },
   "outputs": [],
   "source": [
    "def play_video_and_save_timestamps(video_path):\n",
    "    \"\"\"\n",
    "    Plays a video and allows user to manually select start and end times for movements using interactive widgets.\n",
    "\n",
    "    Args:\n",
    "        video_path: Path to the input video file.\n",
    "\n",
    "    Returns:\n",
    "        A list of tuples, where each tuple contains (start_time, end_time) of a selected movement.\n",
    "    \"\"\"\n",
    "\n",
    "    cap = cv2.VideoCapture(video_path)\n",
    "\n",
    "    timestamps = []\n",
    "    start_time = None\n",
    "\n",
    "    # Create interactive widgets\n",
    "    video_widget = Video(data=video_path, autoplay=False)\n",
    "    slider = widgets.IntSlider(min=0, max=int(cap.get(cv2.CAP_PROP_FRAME_COUNT)) - 1, step=1, value=0)\n",
    "    start_button = widgets.Button(description='Start Selection')\n",
    "    end_button = widgets.Button(description='End Selection')\n",
    "\n",
    "    def on_slider_change(change):\n",
    "        cap.set(cv2.CAP_PROP_POS_FRAMES, change['new'])\n",
    "        ret, frame = cap.read()\n",
    "        video_widget.value = frame\n",
    "\n",
    "    def on_start_button_click(b):\n",
    "        nonlocal start_time\n",
    "        start_time = slider.value\n",
    "\n",
    "    def on_end_button_click(b):\n",
    "        nonlocal start_time\n",
    "        if start_time is not None:\n",
    "            end_time = slider.value\n",
    "            timestamps.append((start_time, end_time))\n",
    "            start_time = None\n",
    "\n",
    "    slider.observe(on_slider_change, names='value')\n",
    "    start_button.on_click(on_start_button_click)\n",
    "    end_button.on_click(on_end_button_click)\n",
    "\n",
    "    display(video_widget, slider, start_button, end_button)\n",
    "\n",
    "    return timestamps\n",
    "\n",
    "# Example usage:\n",
    "video_path = \"your_video.mp4\"\n",
    "timestamps = play_video_and_save_timestamps(video_path)\n",
    "\n",
    "print(\"Selected timestamps:\", timestamps)"
   ]
  },
  {
   "cell_type": "code",
   "execution_count": null,
   "metadata": {
    "vscode": {
     "languageId": "plaintext"
    }
   },
   "outputs": [],
   "source": []
  }
 ],
 "metadata": {
  "language_info": {
   "name": "python"
  }
 },
 "nbformat": 4,
 "nbformat_minor": 2
}
