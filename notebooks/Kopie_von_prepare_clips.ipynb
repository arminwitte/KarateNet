{
  "cells": [
    {
      "cell_type": "markdown",
      "metadata": {
        "id": "view-in-github",
        "colab_type": "text"
      },
      "source": [
        "<a href=\"https://colab.research.google.com/github/arminwitte/KarateNet/blob/main/notebooks/Kopie_von_prepare_clips.ipynb\" target=\"_parent\"><img src=\"https://colab.research.google.com/assets/colab-badge.svg\" alt=\"Open In Colab\"/></a>"
      ]
    },
    {
      "cell_type": "code",
      "execution_count": 43,
      "metadata": {
        "vscode": {
          "languageId": "plaintext"
        },
        "id": "rOgXtaFbLGIW"
      },
      "outputs": [],
      "source": [
        "import cv2\n",
        "import os\n",
        "import moviepy.editor as mpy\n",
        "from IPython.display import Video\n",
        "import numpy as np\n",
        "import cv2\n",
        "import ipywidgets as widgets\n",
        "from IPython.display import Video, display\n",
        "from IPython.display import display, clear_output\n",
        "import ipywidgets as widgets\n",
        "import matplotlib.pyplot as plt\n",
        "from google.colab.patches import cv2_imshow"
      ]
    },
    {
      "cell_type": "code",
      "source": [
        "from google.colab import drive\n",
        "drive.mount('/content/drive')"
      ],
      "metadata": {
        "id": "XhYhB782LQFu",
        "outputId": "613214b5-d563-4618-ffd2-441bfe94849f",
        "colab": {
          "base_uri": "https://localhost:8080/"
        }
      },
      "execution_count": 2,
      "outputs": [
        {
          "output_type": "stream",
          "name": "stdout",
          "text": [
            "Mounted at /content/drive\n"
          ]
        }
      ]
    },
    {
      "cell_type": "code",
      "execution_count": 27,
      "metadata": {
        "vscode": {
          "languageId": "plaintext"
        },
        "id": "QjQrP2U5LGIa"
      },
      "outputs": [],
      "source": [
        "def play_video_and_save_timestamps(video_path):\n",
        "    \"\"\"\n",
        "    Plays a video and allows user to manually select start and end times for movements using interactive widgets.\n",
        "\n",
        "    Args:\n",
        "        video_path: Path to the input video file.\n",
        "\n",
        "    Returns:\n",
        "        A list of tuples, where each tuple contains (start_time, end_time) of a selected movement.\n",
        "    \"\"\"\n",
        "\n",
        "    cap = cv2.VideoCapture(video_path)\n",
        "\n",
        "    global FPS\n",
        "    FPS = cap.get(cv2.CAP_PROP_FPS)\n",
        "\n",
        "    #timestamps = []\n",
        "    start_time = None\n",
        "\n",
        "    # Create interactive widgets\n",
        "    # video_widget = Video(data=video_path)\n",
        "    output = widgets.Output()\n",
        "    slider = widgets.IntSlider(min=0, max=int(cap.get(cv2.CAP_PROP_FRAME_COUNT)) - 1, step=1, value=0)\n",
        "    rr_button = widgets.Button(description='<<')\n",
        "    r_button = widgets.Button(description='<')\n",
        "    cut_button = widgets.Button(description='o')\n",
        "    f_button = widgets.Button(description='>')\n",
        "    ff_button = widgets.Button(description='>>')\n",
        "    # end_button = widgets.Button(description='End Selection')\n",
        "\n",
        "    def on_slider_change(change):\n",
        "        cap.set(cv2.CAP_PROP_POS_FRAMES, change['new'])\n",
        "        ret, frame = cap.read()\n",
        "        with output:\n",
        "            clear_output(wait=True)\n",
        "            cv2_imshow(frame)\n",
        "        # video_widget.value = frame\n",
        "\n",
        "    FRAMES = 10000# int(cv2.CAP_PROP_FRAME_COUNT)\n",
        "\n",
        "    def on_rr_button_click(b):\n",
        "        slider.value = max(0, slider.value-10)\n",
        "    def on_r_button_click(b):\n",
        "        slider.value = max(0, slider.value-1)\n",
        "    def on_cut_button_click(b):\n",
        "        global timestamps\n",
        "        timestamps.append(slider.value)\n",
        "    def on_f_button_click(b):\n",
        "        slider.value = min(FRAMES, slider.value+1)\n",
        "    def on_ff_button_click(b):\n",
        "        slider.value = min(FRAMES, slider.value+10)\n",
        "\n",
        "    slider.observe(on_slider_change, names='value')\n",
        "    rr_button.on_click(on_rr_button_click)\n",
        "    r_button.on_click(on_r_button_click)\n",
        "    cut_button.on_click(on_cut_button_click)\n",
        "    f_button.on_click(on_f_button_click)\n",
        "    ff_button.on_click(on_ff_button_click)\n",
        "    #end_button.on_click(on_end_button_click)\n",
        "\n",
        "    display(output, slider, widgets.HBox([rr_button, r_button, cut_button, f_button, ff_button]))"
      ]
    },
    {
      "cell_type": "code",
      "source": [
        "input_path = os.path.join(\"/content/drive/MyDrive/K/Kanazawa/Heian Shodan - Hirokazu Kanazawa [Ux2sgGTrTDk].mp4\")\n",
        "timestamps = []\n",
        "play_video_and_save_timestamps(input_path)"
      ],
      "metadata": {
        "id": "8YKYbQ4ULxQw",
        "outputId": "dcc86791-fa50-4d9c-e7f6-f323f7a363b1",
        "colab": {
          "base_uri": "https://localhost:8080/",
          "height": 247,
          "referenced_widgets": [
            "1ba72ab1700e44ec9cbdd7f1d6092e14",
            "fdd138a5320049bf8c5a3dee5c85c84e",
            "723328859cff4fb8bd753676a2454f74",
            "c47bb595d06b43889cc63b6c4c7ef5ab",
            "3223692828d24835994817bc8ab482dc",
            "503683656c0a4645add7b763a9712789",
            "337a86d11b9f4afd852216dcb123e1a4",
            "fcc2b45dfb0d4d949c3e93ae8f1d6090",
            "950de8d3e6124c1f9cee680d696049a3",
            "01ed4aa2565d4f3b85e7c902901b72df",
            "c66e5349f7e745b9b53f517682a492b9",
            "0a4c30ecdc914456a8866ffc2b87bbb8",
            "e7b26938d5ca411fba8556caea79e02c",
            "1d034cbf7561406e927c24b2385e3110",
            "dcb07d7e8f8b4cfe844bb53d40b686ab",
            "30763353c78140c2b1633d54c997c06a",
            "b50ef53c7c2f43f6a32ac693f7719b9d",
            "b834634f3c534377a81f598213baa340",
            "4f76f908f4f240a7abf81d1826e7f3a4",
            "385ad95624d34d2fa29fc3c008e0c163",
            "257f6425f55a4db2b575af9e7e2be02d",
            "85daa48d3525455e99366949861e8157"
          ]
        }
      },
      "execution_count": 45,
      "outputs": [
        {
          "output_type": "display_data",
          "data": {
            "text/plain": [
              "Output()"
            ],
            "application/vnd.jupyter.widget-view+json": {
              "version_major": 2,
              "version_minor": 0,
              "model_id": "1ba72ab1700e44ec9cbdd7f1d6092e14"
            }
          },
          "metadata": {}
        },
        {
          "output_type": "display_data",
          "data": {
            "text/plain": [
              "IntSlider(value=0, max=1873)"
            ],
            "application/vnd.jupyter.widget-view+json": {
              "version_major": 2,
              "version_minor": 0,
              "model_id": "723328859cff4fb8bd753676a2454f74"
            }
          },
          "metadata": {}
        },
        {
          "output_type": "display_data",
          "data": {
            "text/plain": [
              "HBox(children=(Button(description='<<', style=ButtonStyle()), Button(description='<', style=ButtonStyle()), Bu…"
            ],
            "application/vnd.jupyter.widget-view+json": {
              "version_major": 2,
              "version_minor": 0,
              "model_id": "503683656c0a4645add7b763a9712789"
            }
          },
          "metadata": {}
        }
      ]
    },
    {
      "cell_type": "code",
      "source": [
        "print(\"Selected timestamps:\", timestamps)"
      ],
      "metadata": {
        "id": "Vo6CDhd8LutR",
        "colab": {
          "base_uri": "https://localhost:8080/"
        },
        "outputId": "f10368e7-c231-472c-c1e4-a6136a934838"
      },
      "execution_count": 48,
      "outputs": [
        {
          "output_type": "stream",
          "name": "stdout",
          "text": [
            "Selected timestamps: [424, 954, 1484]\n"
          ]
        }
      ]
    },
    {
      "cell_type": "code",
      "source": [
        "times = np.array(timestamps, dtype=float)/FPS\n",
        "print(\"selected times: \",times)"
      ],
      "metadata": {
        "colab": {
          "base_uri": "https://localhost:8080/"
        },
        "id": "vI7Il3cGDh7_",
        "outputId": "cf2584a9-94a5-4972-d5f7-82bd34472a43"
      },
      "execution_count": 50,
      "outputs": [
        {
          "output_type": "stream",
          "name": "stdout",
          "text": [
            "selected times:  [16.96 38.16 59.36]\n"
          ]
        }
      ]
    },
    {
      "cell_type": "code",
      "source": [
        "\n",
        "clip = mpy.VideoFileClip(input_path)\n",
        "split_path = os.path.split(input_path)\n",
        "\n",
        "for i in range(1,len(times)):\n",
        "    start_time = times[i-1]\n",
        "    end_time = times[i]\n",
        "    subclip = clip.subclip(start_time, end_time)\n",
        "    output_path = os.path.join(split_path[0], \"clips\", os.path.splitext(split_path[1])[0] + \"_\" + str(i) + \".mp4\")\n",
        "    subclip.write_videofile(output_path)"
      ],
      "metadata": {
        "colab": {
          "base_uri": "https://localhost:8080/"
        },
        "id": "mi83C9Zi-UR5",
        "outputId": "222a14ff-5598-4fdf-9e30-d9fb45becd88"
      },
      "execution_count": 55,
      "outputs": [
        {
          "output_type": "stream",
          "name": "stderr",
          "text": [
            "t:   0%|          | 2/530 [01:07<4:55:07, 33.54s/it, now=None]"
          ]
        },
        {
          "output_type": "stream",
          "name": "stdout",
          "text": [
            "Moviepy - Building video /content/drive/MyDrive/K/Kanazawa/clips/Heian Shodan - Hirokazu Kanazawa [Ux2sgGTrTDk]_1.mp4.\n",
            "MoviePy - Writing audio in Heian Shodan - Hirokazu Kanazawa [Ux2sgGTrTDk]_1TEMP_MPY_wvf_snd.mp3\n"
          ]
        },
        {
          "output_type": "stream",
          "name": "stderr",
          "text": [
            "\n",
            "chunk:   0%|          | 0/468 [00:00<?, ?it/s, now=None]\u001b[A\n",
            "chunk:  11%|█         | 52/468 [00:00<00:00, 511.45it/s, now=None]\u001b[A\n",
            "chunk:  30%|██▉       | 139/468 [00:00<00:00, 718.90it/s, now=None]\u001b[A\n",
            "chunk:  47%|████▋     | 221/468 [00:00<00:00, 760.53it/s, now=None]\u001b[A\n",
            "chunk:  64%|██████▎   | 298/468 [00:00<00:00, 707.30it/s, now=None]\u001b[A\n",
            "chunk:  79%|███████▉  | 370/468 [00:00<00:00, 700.50it/s, now=None]\u001b[A\n",
            "chunk:  97%|█████████▋| 454/468 [00:00<00:00, 742.36it/s, now=None]\u001b[A\n",
            "t:   0%|          | 2/530 [01:07<4:58:12, 33.89s/it, now=None]"
          ]
        },
        {
          "output_type": "stream",
          "name": "stdout",
          "text": [
            "MoviePy - Done.\n",
            "Moviepy - Writing video /content/drive/MyDrive/K/Kanazawa/clips/Heian Shodan - Hirokazu Kanazawa [Ux2sgGTrTDk]_1.mp4\n",
            "\n"
          ]
        },
        {
          "output_type": "stream",
          "name": "stderr",
          "text": [
            "\n",
            "t:   0%|          | 0/530 [00:00<?, ?it/s, now=None]\u001b[A\n",
            "t:   1%|          | 3/530 [00:00<01:55,  4.56it/s, now=None]\u001b[A\n",
            "t:   6%|▌         | 33/530 [00:00<00:08, 57.28it/s, now=None]\u001b[A\n",
            "t:  11%|█▏        | 60/530 [00:00<00:04, 100.40it/s, now=None]\u001b[A\n",
            "t:  15%|█▌        | 82/530 [00:01<00:04, 107.98it/s, now=None]\u001b[A\n",
            "t:  19%|█▉        | 101/530 [00:01<00:03, 116.28it/s, now=None]\u001b[A\n",
            "t:  22%|██▏       | 118/530 [00:01<00:03, 117.54it/s, now=None]\u001b[A\n",
            "t:  25%|██▌       | 134/530 [00:01<00:03, 120.33it/s, now=None]\u001b[A\n",
            "t:  28%|██▊       | 149/530 [00:01<00:03, 122.03it/s, now=None]\u001b[A\n",
            "t:  31%|███       | 163/530 [00:01<00:03, 106.98it/s, now=None]\u001b[A\n",
            "t:  33%|███▎      | 175/530 [00:01<00:03, 98.14it/s, now=None] \u001b[A\n",
            "t:  35%|███▌      | 186/530 [00:02<00:03, 96.07it/s, now=None]\u001b[A\n",
            "t:  37%|███▋      | 197/530 [00:02<00:03, 90.88it/s, now=None]\u001b[A\n",
            "t:  39%|███▉      | 207/530 [00:02<00:03, 87.85it/s, now=None]\u001b[A\n",
            "t:  41%|████      | 217/530 [00:02<00:03, 87.36it/s, now=None]\u001b[A\n",
            "t:  44%|████▎     | 231/530 [00:02<00:03, 98.92it/s, now=None]\u001b[A\n",
            "t:  46%|████▌     | 243/530 [00:02<00:02, 104.32it/s, now=None]\u001b[A\n",
            "t:  48%|████▊     | 254/530 [00:02<00:02, 102.46it/s, now=None]\u001b[A\n",
            "t:  50%|█████     | 265/530 [00:02<00:02, 89.76it/s, now=None] \u001b[A\n",
            "t:  52%|█████▏    | 275/530 [00:03<00:03, 81.37it/s, now=None]\u001b[A\n",
            "t:  54%|█████▎    | 284/530 [00:03<00:03, 80.22it/s, now=None]\u001b[A\n",
            "t:  55%|█████▌    | 293/530 [00:03<00:03, 72.82it/s, now=None]\u001b[A\n",
            "t:  57%|█████▋    | 301/530 [00:03<00:03, 65.26it/s, now=None]\u001b[A\n",
            "t:  58%|█████▊    | 308/530 [00:03<00:04, 54.51it/s, now=None]\u001b[A\n",
            "t:  59%|█████▉    | 314/530 [00:03<00:04, 52.65it/s, now=None]\u001b[A\n",
            "t:  61%|██████    | 324/530 [00:03<00:03, 62.37it/s, now=None]\u001b[A\n",
            "t:  63%|██████▎   | 333/530 [00:03<00:02, 67.74it/s, now=None]\u001b[A\n",
            "t:  64%|██████▍   | 341/530 [00:04<00:02, 67.29it/s, now=None]\u001b[A\n",
            "t:  66%|██████▌   | 349/530 [00:04<00:02, 62.77it/s, now=None]\u001b[A\n",
            "t:  67%|██████▋   | 357/530 [00:04<00:02, 65.88it/s, now=None]\u001b[A\n",
            "t:  70%|██████▉   | 370/530 [00:04<00:01, 81.19it/s, now=None]\u001b[A\n",
            "t:  72%|███████▏  | 379/530 [00:04<00:01, 79.71it/s, now=None]\u001b[A\n",
            "t:  73%|███████▎  | 388/530 [00:04<00:01, 78.11it/s, now=None]\u001b[A\n",
            "t:  75%|███████▍  | 396/530 [00:04<00:01, 70.21it/s, now=None]\u001b[A\n",
            "t:  76%|███████▌  | 404/530 [00:04<00:01, 65.89it/s, now=None]\u001b[A\n",
            "t:  78%|███████▊  | 411/530 [00:05<00:01, 66.21it/s, now=None]\u001b[A\n",
            "t:  79%|███████▉  | 418/530 [00:05<00:01, 66.18it/s, now=None]\u001b[A\n",
            "t:  81%|████████  | 427/530 [00:05<00:01, 71.25it/s, now=None]\u001b[A\n",
            "t:  82%|████████▏ | 435/530 [00:05<00:01, 71.08it/s, now=None]\u001b[A\n",
            "t:  84%|████████▎ | 443/530 [00:05<00:01, 70.83it/s, now=None]\u001b[A\n",
            "t:  85%|████████▌ | 451/530 [00:05<00:01, 62.05it/s, now=None]\u001b[A\n",
            "t:  86%|████████▋ | 458/530 [00:05<00:01, 58.83it/s, now=None]\u001b[A\n",
            "t:  88%|████████▊ | 465/530 [00:05<00:01, 59.17it/s, now=None]\u001b[A\n",
            "t:  89%|████████▉ | 473/530 [00:06<00:00, 60.15it/s, now=None]\u001b[A\n",
            "t:  91%|█████████ | 483/530 [00:06<00:00, 66.78it/s, now=None]\u001b[A\n",
            "t:  93%|█████████▎| 491/530 [00:06<00:00, 65.25it/s, now=None]\u001b[A\n",
            "t:  94%|█████████▍| 499/530 [00:06<00:00, 68.57it/s, now=None]\u001b[A\n",
            "t:  96%|█████████▌| 508/530 [00:06<00:00, 72.94it/s, now=None]\u001b[A\n",
            "t:  97%|█████████▋| 516/530 [00:06<00:00, 70.33it/s, now=None]\u001b[A\n",
            "t:  99%|█████████▉| 524/530 [00:06<00:00, 72.39it/s, now=None]\u001b[A\n",
            "t:   0%|          | 2/530 [01:15<5:30:49, 37.59s/it, now=None]"
          ]
        },
        {
          "output_type": "stream",
          "name": "stdout",
          "text": [
            "Moviepy - Done !\n",
            "Moviepy - video ready /content/drive/MyDrive/K/Kanazawa/clips/Heian Shodan - Hirokazu Kanazawa [Ux2sgGTrTDk]_1.mp4\n",
            "Moviepy - Building video /content/drive/MyDrive/K/Kanazawa/clips/Heian Shodan - Hirokazu Kanazawa [Ux2sgGTrTDk]_2.mp4.\n",
            "MoviePy - Writing audio in Heian Shodan - Hirokazu Kanazawa [Ux2sgGTrTDk]_2TEMP_MPY_wvf_snd.mp3\n"
          ]
        },
        {
          "output_type": "stream",
          "name": "stderr",
          "text": [
            "\n",
            "chunk:   0%|          | 0/468 [00:00<?, ?it/s, now=None]\u001b[A\n",
            "chunk:   9%|▉         | 43/468 [00:00<00:01, 376.04it/s, now=None]\u001b[A\n",
            "chunk:  20%|██        | 94/468 [00:00<00:00, 445.47it/s, now=None]\u001b[A\n",
            "chunk:  30%|██▉       | 139/468 [00:00<00:00, 402.01it/s, now=None]\u001b[A\n",
            "chunk:  39%|███▉      | 184/468 [00:00<00:00, 417.96it/s, now=None]\u001b[A\n",
            "chunk:  50%|█████     | 235/468 [00:00<00:00, 445.10it/s, now=None]\u001b[A\n",
            "chunk:  61%|██████    | 286/468 [00:00<00:00, 464.68it/s, now=None]\u001b[A\n",
            "chunk:  71%|███████   | 333/468 [00:00<00:00, 466.03it/s, now=None]\u001b[A\n",
            "chunk:  81%|████████  | 380/468 [00:00<00:00, 440.31it/s, now=None]\u001b[A\n",
            "chunk:  91%|█████████ | 425/468 [00:00<00:00, 430.31it/s, now=None]\u001b[A\n",
            "t:   0%|          | 2/530 [01:16<5:35:42, 38.15s/it, now=None]"
          ]
        },
        {
          "output_type": "stream",
          "name": "stdout",
          "text": [
            "MoviePy - Done.\n",
            "Moviepy - Writing video /content/drive/MyDrive/K/Kanazawa/clips/Heian Shodan - Hirokazu Kanazawa [Ux2sgGTrTDk]_2.mp4\n",
            "\n"
          ]
        },
        {
          "output_type": "stream",
          "name": "stderr",
          "text": [
            "\n",
            "t:   0%|          | 0/531 [00:00<?, ?it/s, now=None]\u001b[A\n",
            "t:   5%|▍         | 24/531 [00:00<00:02, 234.48it/s, now=None]\u001b[A\n",
            "t:   9%|▉         | 48/531 [00:00<00:02, 200.07it/s, now=None]\u001b[A\n",
            "t:  13%|█▎        | 69/531 [00:00<00:02, 166.80it/s, now=None]\u001b[A\n",
            "t:  16%|█▋        | 87/531 [00:00<00:03, 121.35it/s, now=None]\u001b[A\n",
            "t:  19%|█▉        | 101/531 [00:00<00:03, 107.74it/s, now=None]\u001b[A\n",
            "t:  21%|██▏       | 113/531 [00:00<00:04, 94.50it/s, now=None] \u001b[A\n",
            "t:  23%|██▎       | 124/531 [00:01<00:04, 82.93it/s, now=None]\u001b[A\n",
            "t:  25%|██▌       | 134/531 [00:01<00:04, 84.16it/s, now=None]\u001b[A\n",
            "t:  27%|██▋       | 143/531 [00:01<00:04, 84.55it/s, now=None]\u001b[A\n",
            "t:  29%|██▊       | 152/531 [00:01<00:04, 83.90it/s, now=None]\u001b[A\n",
            "t:  30%|███       | 161/531 [00:01<00:04, 80.07it/s, now=None]\u001b[A\n",
            "t:  32%|███▏      | 171/531 [00:01<00:04, 84.55it/s, now=None]\u001b[A\n",
            "t:  34%|███▍      | 180/531 [00:01<00:04, 79.64it/s, now=None]\u001b[A\n",
            "t:  36%|███▌      | 190/531 [00:01<00:04, 83.11it/s, now=None]\u001b[A\n",
            "t:  38%|███▊      | 204/531 [00:02<00:03, 97.81it/s, now=None]\u001b[A\n",
            "t:  41%|████      | 218/531 [00:02<00:02, 106.69it/s, now=None]\u001b[A\n",
            "t:  43%|████▎     | 229/531 [00:02<00:02, 102.52it/s, now=None]\u001b[A\n",
            "t:  45%|████▌     | 241/531 [00:02<00:02, 106.00it/s, now=None]\u001b[A\n",
            "t:  49%|████▉     | 259/531 [00:02<00:02, 124.47it/s, now=None]\u001b[A\n",
            "t:  51%|█████     | 272/531 [00:02<00:02, 123.29it/s, now=None]\u001b[A\n",
            "t:  54%|█████▎    | 285/531 [00:02<00:02, 121.92it/s, now=None]\u001b[A\n",
            "t:  56%|█████▋    | 300/531 [00:02<00:01, 129.61it/s, now=None]\u001b[A\n",
            "t:  59%|█████▉    | 314/531 [00:02<00:01, 121.31it/s, now=None]\u001b[A\n",
            "t:  62%|██████▏   | 328/531 [00:03<00:01, 125.77it/s, now=None]\u001b[A\n",
            "t:  64%|██████▍   | 341/531 [00:03<00:01, 122.10it/s, now=None]\u001b[A\n",
            "t:  67%|██████▋   | 356/531 [00:03<00:01, 126.87it/s, now=None]\u001b[A\n",
            "t:  70%|███████   | 372/531 [00:03<00:01, 135.29it/s, now=None]\u001b[A\n",
            "t:  73%|███████▎  | 386/531 [00:03<00:01, 131.96it/s, now=None]\u001b[A\n",
            "t:  76%|███████▌  | 402/531 [00:03<00:00, 137.20it/s, now=None]\u001b[A\n",
            "t:  78%|███████▊  | 416/531 [00:03<00:00, 133.97it/s, now=None]\u001b[A\n",
            "t:  81%|████████  | 430/531 [00:03<00:00, 130.19it/s, now=None]\u001b[A\n",
            "t:  84%|████████▍ | 446/531 [00:03<00:00, 136.94it/s, now=None]\u001b[A\n",
            "t:  87%|████████▋ | 460/531 [00:04<00:00, 137.65it/s, now=None]\u001b[A\n",
            "t:  89%|████████▉ | 474/531 [00:04<00:00, 134.47it/s, now=None]\u001b[A\n",
            "t:  92%|█████████▏| 488/531 [00:04<00:00, 131.34it/s, now=None]\u001b[A\n",
            "t:  95%|█████████▍| 502/531 [00:04<00:00, 132.28it/s, now=None]\u001b[A\n",
            "t:  97%|█████████▋| 516/531 [00:04<00:00, 125.51it/s, now=None]\u001b[A\n",
            "t:   0%|          | 2/530 [01:21<5:57:00, 40.57s/it, now=None]"
          ]
        },
        {
          "output_type": "stream",
          "name": "stdout",
          "text": [
            "Moviepy - Done !\n",
            "Moviepy - video ready /content/drive/MyDrive/K/Kanazawa/clips/Heian Shodan - Hirokazu Kanazawa [Ux2sgGTrTDk]_2.mp4\n"
          ]
        }
      ]
    }
  ],
  "metadata": {
    "language_info": {
      "name": "python"
    },
    "colab": {
      "provenance": [],
      "include_colab_link": true
    },
    "kernelspec": {
      "name": "python3",
      "display_name": "Python 3"
    },
    "widgets": {
      "application/vnd.jupyter.widget-state+json": {
        "1ba72ab1700e44ec9cbdd7f1d6092e14": {
          "model_module": "@jupyter-widgets/output",
          "model_name": "OutputModel",
          "model_module_version": "1.0.0",
          "state": {
            "_dom_classes": [],
            "_model_module": "@jupyter-widgets/output",
            "_model_module_version": "1.0.0",
            "_model_name": "OutputModel",
            "_view_count": null,
            "_view_module": "@jupyter-widgets/output",
            "_view_module_version": "1.0.0",
            "_view_name": "OutputView",
            "layout": "IPY_MODEL_fdd138a5320049bf8c5a3dee5c85c84e",
            "msg_id": "",
            "outputs": [
              {
                "output_type": "display_data",
                "data": {
                  "text/plain": "<PIL.Image.Image image mode=RGB size=384x288>",
                  "image/png": "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\n",
                  "image/jpeg": "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\n"
                },
                "metadata": {}
              }
            ]
          }
        },
        "fdd138a5320049bf8c5a3dee5c85c84e": {
          "model_module": "@jupyter-widgets/base",
          "model_name": "LayoutModel",
          "model_module_version": "1.2.0",
          "state": {
            "_model_module": "@jupyter-widgets/base",
            "_model_module_version": "1.2.0",
            "_model_name": "LayoutModel",
            "_view_count": null,
            "_view_module": "@jupyter-widgets/base",
            "_view_module_version": "1.2.0",
            "_view_name": "LayoutView",
            "align_content": null,
            "align_items": null,
            "align_self": null,
            "border": null,
            "bottom": null,
            "display": null,
            "flex": null,
            "flex_flow": null,
            "grid_area": null,
            "grid_auto_columns": null,
            "grid_auto_flow": null,
            "grid_auto_rows": null,
            "grid_column": null,
            "grid_gap": null,
            "grid_row": null,
            "grid_template_areas": null,
            "grid_template_columns": null,
            "grid_template_rows": null,
            "height": null,
            "justify_content": null,
            "justify_items": null,
            "left": null,
            "margin": null,
            "max_height": null,
            "max_width": null,
            "min_height": null,
            "min_width": null,
            "object_fit": null,
            "object_position": null,
            "order": null,
            "overflow": null,
            "overflow_x": null,
            "overflow_y": null,
            "padding": null,
            "right": null,
            "top": null,
            "visibility": null,
            "width": null
          }
        },
        "723328859cff4fb8bd753676a2454f74": {
          "model_module": "@jupyter-widgets/controls",
          "model_name": "IntSliderModel",
          "model_module_version": "1.5.0",
          "state": {
            "_dom_classes": [],
            "_model_module": "@jupyter-widgets/controls",
            "_model_module_version": "1.5.0",
            "_model_name": "IntSliderModel",
            "_view_count": null,
            "_view_module": "@jupyter-widgets/controls",
            "_view_module_version": "1.5.0",
            "_view_name": "IntSliderView",
            "continuous_update": true,
            "description": "",
            "description_tooltip": null,
            "disabled": false,
            "layout": "IPY_MODEL_c47bb595d06b43889cc63b6c4c7ef5ab",
            "max": 1873,
            "min": 0,
            "orientation": "horizontal",
            "readout": true,
            "readout_format": "d",
            "step": 1,
            "style": "IPY_MODEL_3223692828d24835994817bc8ab482dc",
            "value": 1484
          }
        },
        "c47bb595d06b43889cc63b6c4c7ef5ab": {
          "model_module": "@jupyter-widgets/base",
          "model_name": "LayoutModel",
          "model_module_version": "1.2.0",
          "state": {
            "_model_module": "@jupyter-widgets/base",
            "_model_module_version": "1.2.0",
            "_model_name": "LayoutModel",
            "_view_count": null,
            "_view_module": "@jupyter-widgets/base",
            "_view_module_version": "1.2.0",
            "_view_name": "LayoutView",
            "align_content": null,
            "align_items": null,
            "align_self": null,
            "border": null,
            "bottom": null,
            "display": null,
            "flex": null,
            "flex_flow": null,
            "grid_area": null,
            "grid_auto_columns": null,
            "grid_auto_flow": null,
            "grid_auto_rows": null,
            "grid_column": null,
            "grid_gap": null,
            "grid_row": null,
            "grid_template_areas": null,
            "grid_template_columns": null,
            "grid_template_rows": null,
            "height": null,
            "justify_content": null,
            "justify_items": null,
            "left": null,
            "margin": null,
            "max_height": null,
            "max_width": null,
            "min_height": null,
            "min_width": null,
            "object_fit": null,
            "object_position": null,
            "order": null,
            "overflow": null,
            "overflow_x": null,
            "overflow_y": null,
            "padding": null,
            "right": null,
            "top": null,
            "visibility": null,
            "width": null
          }
        },
        "3223692828d24835994817bc8ab482dc": {
          "model_module": "@jupyter-widgets/controls",
          "model_name": "SliderStyleModel",
          "model_module_version": "1.5.0",
          "state": {
            "_model_module": "@jupyter-widgets/controls",
            "_model_module_version": "1.5.0",
            "_model_name": "SliderStyleModel",
            "_view_count": null,
            "_view_module": "@jupyter-widgets/base",
            "_view_module_version": "1.2.0",
            "_view_name": "StyleView",
            "description_width": "",
            "handle_color": null
          }
        },
        "503683656c0a4645add7b763a9712789": {
          "model_module": "@jupyter-widgets/controls",
          "model_name": "HBoxModel",
          "model_module_version": "1.5.0",
          "state": {
            "_dom_classes": [],
            "_model_module": "@jupyter-widgets/controls",
            "_model_module_version": "1.5.0",
            "_model_name": "HBoxModel",
            "_view_count": null,
            "_view_module": "@jupyter-widgets/controls",
            "_view_module_version": "1.5.0",
            "_view_name": "HBoxView",
            "box_style": "",
            "children": [
              "IPY_MODEL_337a86d11b9f4afd852216dcb123e1a4",
              "IPY_MODEL_fcc2b45dfb0d4d949c3e93ae8f1d6090",
              "IPY_MODEL_950de8d3e6124c1f9cee680d696049a3",
              "IPY_MODEL_01ed4aa2565d4f3b85e7c902901b72df",
              "IPY_MODEL_c66e5349f7e745b9b53f517682a492b9"
            ],
            "layout": "IPY_MODEL_0a4c30ecdc914456a8866ffc2b87bbb8"
          }
        },
        "337a86d11b9f4afd852216dcb123e1a4": {
          "model_module": "@jupyter-widgets/controls",
          "model_name": "ButtonModel",
          "model_module_version": "1.5.0",
          "state": {
            "_dom_classes": [],
            "_model_module": "@jupyter-widgets/controls",
            "_model_module_version": "1.5.0",
            "_model_name": "ButtonModel",
            "_view_count": null,
            "_view_module": "@jupyter-widgets/controls",
            "_view_module_version": "1.5.0",
            "_view_name": "ButtonView",
            "button_style": "",
            "description": "<<",
            "disabled": false,
            "icon": "",
            "layout": "IPY_MODEL_e7b26938d5ca411fba8556caea79e02c",
            "style": "IPY_MODEL_1d034cbf7561406e927c24b2385e3110",
            "tooltip": ""
          }
        },
        "fcc2b45dfb0d4d949c3e93ae8f1d6090": {
          "model_module": "@jupyter-widgets/controls",
          "model_name": "ButtonModel",
          "model_module_version": "1.5.0",
          "state": {
            "_dom_classes": [],
            "_model_module": "@jupyter-widgets/controls",
            "_model_module_version": "1.5.0",
            "_model_name": "ButtonModel",
            "_view_count": null,
            "_view_module": "@jupyter-widgets/controls",
            "_view_module_version": "1.5.0",
            "_view_name": "ButtonView",
            "button_style": "",
            "description": "<",
            "disabled": false,
            "icon": "",
            "layout": "IPY_MODEL_dcb07d7e8f8b4cfe844bb53d40b686ab",
            "style": "IPY_MODEL_30763353c78140c2b1633d54c997c06a",
            "tooltip": ""
          }
        },
        "950de8d3e6124c1f9cee680d696049a3": {
          "model_module": "@jupyter-widgets/controls",
          "model_name": "ButtonModel",
          "model_module_version": "1.5.0",
          "state": {
            "_dom_classes": [],
            "_model_module": "@jupyter-widgets/controls",
            "_model_module_version": "1.5.0",
            "_model_name": "ButtonModel",
            "_view_count": null,
            "_view_module": "@jupyter-widgets/controls",
            "_view_module_version": "1.5.0",
            "_view_name": "ButtonView",
            "button_style": "",
            "description": "o",
            "disabled": false,
            "icon": "",
            "layout": "IPY_MODEL_b50ef53c7c2f43f6a32ac693f7719b9d",
            "style": "IPY_MODEL_b834634f3c534377a81f598213baa340",
            "tooltip": ""
          }
        },
        "01ed4aa2565d4f3b85e7c902901b72df": {
          "model_module": "@jupyter-widgets/controls",
          "model_name": "ButtonModel",
          "model_module_version": "1.5.0",
          "state": {
            "_dom_classes": [],
            "_model_module": "@jupyter-widgets/controls",
            "_model_module_version": "1.5.0",
            "_model_name": "ButtonModel",
            "_view_count": null,
            "_view_module": "@jupyter-widgets/controls",
            "_view_module_version": "1.5.0",
            "_view_name": "ButtonView",
            "button_style": "",
            "description": ">",
            "disabled": false,
            "icon": "",
            "layout": "IPY_MODEL_4f76f908f4f240a7abf81d1826e7f3a4",
            "style": "IPY_MODEL_385ad95624d34d2fa29fc3c008e0c163",
            "tooltip": ""
          }
        },
        "c66e5349f7e745b9b53f517682a492b9": {
          "model_module": "@jupyter-widgets/controls",
          "model_name": "ButtonModel",
          "model_module_version": "1.5.0",
          "state": {
            "_dom_classes": [],
            "_model_module": "@jupyter-widgets/controls",
            "_model_module_version": "1.5.0",
            "_model_name": "ButtonModel",
            "_view_count": null,
            "_view_module": "@jupyter-widgets/controls",
            "_view_module_version": "1.5.0",
            "_view_name": "ButtonView",
            "button_style": "",
            "description": ">>",
            "disabled": false,
            "icon": "",
            "layout": "IPY_MODEL_257f6425f55a4db2b575af9e7e2be02d",
            "style": "IPY_MODEL_85daa48d3525455e99366949861e8157",
            "tooltip": ""
          }
        },
        "0a4c30ecdc914456a8866ffc2b87bbb8": {
          "model_module": "@jupyter-widgets/base",
          "model_name": "LayoutModel",
          "model_module_version": "1.2.0",
          "state": {
            "_model_module": "@jupyter-widgets/base",
            "_model_module_version": "1.2.0",
            "_model_name": "LayoutModel",
            "_view_count": null,
            "_view_module": "@jupyter-widgets/base",
            "_view_module_version": "1.2.0",
            "_view_name": "LayoutView",
            "align_content": null,
            "align_items": null,
            "align_self": null,
            "border": null,
            "bottom": null,
            "display": null,
            "flex": null,
            "flex_flow": null,
            "grid_area": null,
            "grid_auto_columns": null,
            "grid_auto_flow": null,
            "grid_auto_rows": null,
            "grid_column": null,
            "grid_gap": null,
            "grid_row": null,
            "grid_template_areas": null,
            "grid_template_columns": null,
            "grid_template_rows": null,
            "height": null,
            "justify_content": null,
            "justify_items": null,
            "left": null,
            "margin": null,
            "max_height": null,
            "max_width": null,
            "min_height": null,
            "min_width": null,
            "object_fit": null,
            "object_position": null,
            "order": null,
            "overflow": null,
            "overflow_x": null,
            "overflow_y": null,
            "padding": null,
            "right": null,
            "top": null,
            "visibility": null,
            "width": null
          }
        },
        "e7b26938d5ca411fba8556caea79e02c": {
          "model_module": "@jupyter-widgets/base",
          "model_name": "LayoutModel",
          "model_module_version": "1.2.0",
          "state": {
            "_model_module": "@jupyter-widgets/base",
            "_model_module_version": "1.2.0",
            "_model_name": "LayoutModel",
            "_view_count": null,
            "_view_module": "@jupyter-widgets/base",
            "_view_module_version": "1.2.0",
            "_view_name": "LayoutView",
            "align_content": null,
            "align_items": null,
            "align_self": null,
            "border": null,
            "bottom": null,
            "display": null,
            "flex": null,
            "flex_flow": null,
            "grid_area": null,
            "grid_auto_columns": null,
            "grid_auto_flow": null,
            "grid_auto_rows": null,
            "grid_column": null,
            "grid_gap": null,
            "grid_row": null,
            "grid_template_areas": null,
            "grid_template_columns": null,
            "grid_template_rows": null,
            "height": null,
            "justify_content": null,
            "justify_items": null,
            "left": null,
            "margin": null,
            "max_height": null,
            "max_width": null,
            "min_height": null,
            "min_width": null,
            "object_fit": null,
            "object_position": null,
            "order": null,
            "overflow": null,
            "overflow_x": null,
            "overflow_y": null,
            "padding": null,
            "right": null,
            "top": null,
            "visibility": null,
            "width": null
          }
        },
        "1d034cbf7561406e927c24b2385e3110": {
          "model_module": "@jupyter-widgets/controls",
          "model_name": "ButtonStyleModel",
          "model_module_version": "1.5.0",
          "state": {
            "_model_module": "@jupyter-widgets/controls",
            "_model_module_version": "1.5.0",
            "_model_name": "ButtonStyleModel",
            "_view_count": null,
            "_view_module": "@jupyter-widgets/base",
            "_view_module_version": "1.2.0",
            "_view_name": "StyleView",
            "button_color": null,
            "font_weight": ""
          }
        },
        "dcb07d7e8f8b4cfe844bb53d40b686ab": {
          "model_module": "@jupyter-widgets/base",
          "model_name": "LayoutModel",
          "model_module_version": "1.2.0",
          "state": {
            "_model_module": "@jupyter-widgets/base",
            "_model_module_version": "1.2.0",
            "_model_name": "LayoutModel",
            "_view_count": null,
            "_view_module": "@jupyter-widgets/base",
            "_view_module_version": "1.2.0",
            "_view_name": "LayoutView",
            "align_content": null,
            "align_items": null,
            "align_self": null,
            "border": null,
            "bottom": null,
            "display": null,
            "flex": null,
            "flex_flow": null,
            "grid_area": null,
            "grid_auto_columns": null,
            "grid_auto_flow": null,
            "grid_auto_rows": null,
            "grid_column": null,
            "grid_gap": null,
            "grid_row": null,
            "grid_template_areas": null,
            "grid_template_columns": null,
            "grid_template_rows": null,
            "height": null,
            "justify_content": null,
            "justify_items": null,
            "left": null,
            "margin": null,
            "max_height": null,
            "max_width": null,
            "min_height": null,
            "min_width": null,
            "object_fit": null,
            "object_position": null,
            "order": null,
            "overflow": null,
            "overflow_x": null,
            "overflow_y": null,
            "padding": null,
            "right": null,
            "top": null,
            "visibility": null,
            "width": null
          }
        },
        "30763353c78140c2b1633d54c997c06a": {
          "model_module": "@jupyter-widgets/controls",
          "model_name": "ButtonStyleModel",
          "model_module_version": "1.5.0",
          "state": {
            "_model_module": "@jupyter-widgets/controls",
            "_model_module_version": "1.5.0",
            "_model_name": "ButtonStyleModel",
            "_view_count": null,
            "_view_module": "@jupyter-widgets/base",
            "_view_module_version": "1.2.0",
            "_view_name": "StyleView",
            "button_color": null,
            "font_weight": ""
          }
        },
        "b50ef53c7c2f43f6a32ac693f7719b9d": {
          "model_module": "@jupyter-widgets/base",
          "model_name": "LayoutModel",
          "model_module_version": "1.2.0",
          "state": {
            "_model_module": "@jupyter-widgets/base",
            "_model_module_version": "1.2.0",
            "_model_name": "LayoutModel",
            "_view_count": null,
            "_view_module": "@jupyter-widgets/base",
            "_view_module_version": "1.2.0",
            "_view_name": "LayoutView",
            "align_content": null,
            "align_items": null,
            "align_self": null,
            "border": null,
            "bottom": null,
            "display": null,
            "flex": null,
            "flex_flow": null,
            "grid_area": null,
            "grid_auto_columns": null,
            "grid_auto_flow": null,
            "grid_auto_rows": null,
            "grid_column": null,
            "grid_gap": null,
            "grid_row": null,
            "grid_template_areas": null,
            "grid_template_columns": null,
            "grid_template_rows": null,
            "height": null,
            "justify_content": null,
            "justify_items": null,
            "left": null,
            "margin": null,
            "max_height": null,
            "max_width": null,
            "min_height": null,
            "min_width": null,
            "object_fit": null,
            "object_position": null,
            "order": null,
            "overflow": null,
            "overflow_x": null,
            "overflow_y": null,
            "padding": null,
            "right": null,
            "top": null,
            "visibility": null,
            "width": null
          }
        },
        "b834634f3c534377a81f598213baa340": {
          "model_module": "@jupyter-widgets/controls",
          "model_name": "ButtonStyleModel",
          "model_module_version": "1.5.0",
          "state": {
            "_model_module": "@jupyter-widgets/controls",
            "_model_module_version": "1.5.0",
            "_model_name": "ButtonStyleModel",
            "_view_count": null,
            "_view_module": "@jupyter-widgets/base",
            "_view_module_version": "1.2.0",
            "_view_name": "StyleView",
            "button_color": null,
            "font_weight": ""
          }
        },
        "4f76f908f4f240a7abf81d1826e7f3a4": {
          "model_module": "@jupyter-widgets/base",
          "model_name": "LayoutModel",
          "model_module_version": "1.2.0",
          "state": {
            "_model_module": "@jupyter-widgets/base",
            "_model_module_version": "1.2.0",
            "_model_name": "LayoutModel",
            "_view_count": null,
            "_view_module": "@jupyter-widgets/base",
            "_view_module_version": "1.2.0",
            "_view_name": "LayoutView",
            "align_content": null,
            "align_items": null,
            "align_self": null,
            "border": null,
            "bottom": null,
            "display": null,
            "flex": null,
            "flex_flow": null,
            "grid_area": null,
            "grid_auto_columns": null,
            "grid_auto_flow": null,
            "grid_auto_rows": null,
            "grid_column": null,
            "grid_gap": null,
            "grid_row": null,
            "grid_template_areas": null,
            "grid_template_columns": null,
            "grid_template_rows": null,
            "height": null,
            "justify_content": null,
            "justify_items": null,
            "left": null,
            "margin": null,
            "max_height": null,
            "max_width": null,
            "min_height": null,
            "min_width": null,
            "object_fit": null,
            "object_position": null,
            "order": null,
            "overflow": null,
            "overflow_x": null,
            "overflow_y": null,
            "padding": null,
            "right": null,
            "top": null,
            "visibility": null,
            "width": null
          }
        },
        "385ad95624d34d2fa29fc3c008e0c163": {
          "model_module": "@jupyter-widgets/controls",
          "model_name": "ButtonStyleModel",
          "model_module_version": "1.5.0",
          "state": {
            "_model_module": "@jupyter-widgets/controls",
            "_model_module_version": "1.5.0",
            "_model_name": "ButtonStyleModel",
            "_view_count": null,
            "_view_module": "@jupyter-widgets/base",
            "_view_module_version": "1.2.0",
            "_view_name": "StyleView",
            "button_color": null,
            "font_weight": ""
          }
        },
        "257f6425f55a4db2b575af9e7e2be02d": {
          "model_module": "@jupyter-widgets/base",
          "model_name": "LayoutModel",
          "model_module_version": "1.2.0",
          "state": {
            "_model_module": "@jupyter-widgets/base",
            "_model_module_version": "1.2.0",
            "_model_name": "LayoutModel",
            "_view_count": null,
            "_view_module": "@jupyter-widgets/base",
            "_view_module_version": "1.2.0",
            "_view_name": "LayoutView",
            "align_content": null,
            "align_items": null,
            "align_self": null,
            "border": null,
            "bottom": null,
            "display": null,
            "flex": null,
            "flex_flow": null,
            "grid_area": null,
            "grid_auto_columns": null,
            "grid_auto_flow": null,
            "grid_auto_rows": null,
            "grid_column": null,
            "grid_gap": null,
            "grid_row": null,
            "grid_template_areas": null,
            "grid_template_columns": null,
            "grid_template_rows": null,
            "height": null,
            "justify_content": null,
            "justify_items": null,
            "left": null,
            "margin": null,
            "max_height": null,
            "max_width": null,
            "min_height": null,
            "min_width": null,
            "object_fit": null,
            "object_position": null,
            "order": null,
            "overflow": null,
            "overflow_x": null,
            "overflow_y": null,
            "padding": null,
            "right": null,
            "top": null,
            "visibility": null,
            "width": null
          }
        },
        "85daa48d3525455e99366949861e8157": {
          "model_module": "@jupyter-widgets/controls",
          "model_name": "ButtonStyleModel",
          "model_module_version": "1.5.0",
          "state": {
            "_model_module": "@jupyter-widgets/controls",
            "_model_module_version": "1.5.0",
            "_model_name": "ButtonStyleModel",
            "_view_count": null,
            "_view_module": "@jupyter-widgets/base",
            "_view_module_version": "1.2.0",
            "_view_name": "StyleView",
            "button_color": null,
            "font_weight": ""
          }
        }
      }
    }
  },
  "nbformat": 4,
  "nbformat_minor": 0
}