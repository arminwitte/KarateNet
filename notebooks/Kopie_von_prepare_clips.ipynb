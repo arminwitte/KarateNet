{
  "cells": [
    {
      "cell_type": "markdown",
      "metadata": {
        "id": "view-in-github",
        "colab_type": "text"
      },
      "source": [
        "<a href=\"https://colab.research.google.com/github/arminwitte/KarateNet/blob/main/notebooks/Kopie_von_prepare_clips.ipynb\" target=\"_parent\"><img src=\"https://colab.research.google.com/assets/colab-badge.svg\" alt=\"Open In Colab\"/></a>"
      ]
    },
    {
      "cell_type": "code",
      "execution_count": 56,
      "metadata": {
        "vscode": {
          "languageId": "plaintext"
        },
        "id": "rOgXtaFbLGIW"
      },
      "outputs": [],
      "source": [
        "import cv2\n",
        "import os\n",
        "import moviepy.editor as mpy\n",
        "from IPython.display import Video\n",
        "import numpy as np\n",
        "import cv2\n",
        "import ipywidgets as widgets\n",
        "from IPython.display import Video, display\n",
        "from IPython.display import display, clear_output\n",
        "import ipywidgets as widgets\n",
        "import matplotlib.pyplot as plt\n",
        "from google.colab.patches import cv2_imshow"
      ]
    },
    {
      "cell_type": "code",
      "source": [
        "from google.colab import drive\n",
        "drive.mount('/content/drive')"
      ],
      "metadata": {
        "id": "XhYhB782LQFu",
        "outputId": "0faba3a5-e71d-4349-c260-ae60e907612b",
        "colab": {
          "base_uri": "https://localhost:8080/"
        }
      },
      "execution_count": 57,
      "outputs": [
        {
          "output_type": "stream",
          "name": "stdout",
          "text": [
            "Drive already mounted at /content/drive; to attempt to forcibly remount, call drive.mount(\"/content/drive\", force_remount=True).\n"
          ]
        }
      ]
    },
    {
      "cell_type": "code",
      "execution_count": 58,
      "metadata": {
        "vscode": {
          "languageId": "plaintext"
        },
        "id": "QjQrP2U5LGIa"
      },
      "outputs": [],
      "source": [
        "def play_video_and_save_timestamps(video_path):\n",
        "    \"\"\"\n",
        "    Plays a video and allows user to manually select start and end times for movements using interactive widgets.\n",
        "\n",
        "    Args:\n",
        "        video_path: Path to the input video file.\n",
        "\n",
        "    Returns:\n",
        "        A list of tuples, where each tuple contains (start_time, end_time) of a selected movement.\n",
        "    \"\"\"\n",
        "\n",
        "    cap = cv2.VideoCapture(video_path)\n",
        "\n",
        "    global FPS\n",
        "    FPS = cap.get(cv2.CAP_PROP_FPS)\n",
        "\n",
        "    #timestamps = []\n",
        "    start_time = None\n",
        "\n",
        "    # Create interactive widgets\n",
        "    # video_widget = Video(data=video_path)\n",
        "    output = widgets.Output()\n",
        "    slider = widgets.IntSlider(min=0, max=int(cap.get(cv2.CAP_PROP_FRAME_COUNT)) - 1, step=1, value=0)\n",
        "    rr_button = widgets.Button(description='<<')\n",
        "    r_button = widgets.Button(description='<')\n",
        "    cut_button = widgets.Button(description='o')\n",
        "    drop_button = widgets.Button(description=\"x\")\n",
        "    f_button = widgets.Button(description='>')\n",
        "    ff_button = widgets.Button(description='>>')\n",
        "    # end_button = widgets.Button(description='End Selection')\n",
        "\n",
        "    def on_slider_change(change):\n",
        "        cap.set(cv2.CAP_PROP_POS_FRAMES, change['new'])\n",
        "        ret, frame = cap.read()\n",
        "        with output:\n",
        "            clear_output(wait=True)\n",
        "            cv2_imshow(frame)\n",
        "        # video_widget.value = frame\n",
        "\n",
        "    FRAMES = 10000# int(cv2.CAP_PROP_FRAME_COUNT)\n",
        "\n",
        "    def on_rr_button_click(b):\n",
        "        slider.value = max(0, slider.value-10)\n",
        "    def on_r_button_click(b):\n",
        "        slider.value = max(0, slider.value-1)\n",
        "    def on_cut_button_click(b):\n",
        "        global timestamps\n",
        "        timestamps.append(slider.value)\n",
        "    def on_drop_button_click(b):\n",
        "        global timestamps\n",
        "        timestamps.pop(-1)\n",
        "    def on_f_button_click(b):\n",
        "        slider.value = min(FRAMES, slider.value+1)\n",
        "    def on_ff_button_click(b):\n",
        "        slider.value = min(FRAMES, slider.value+10)\n",
        "\n",
        "    slider.observe(on_slider_change, names='value')\n",
        "    rr_button.on_click(on_rr_button_click)\n",
        "    r_button.on_click(on_r_button_click)\n",
        "    cut_button.on_click(on_cut_button_click)\n",
        "    drop_button.on_click(on_drop_button_click)\n",
        "    f_button.on_click(on_f_button_click)\n",
        "    ff_button.on_click(on_ff_button_click)\n",
        "    #end_button.on_click(on_end_button_click)\n",
        "\n",
        "    display(output, slider, widgets.HBox([rr_button, r_button, cut_button, drop_button, f_button, ff_button]))"
      ]
    },
    {
      "cell_type": "code",
      "source": [
        "input_path = os.path.join(\"/content/drive/MyDrive/K/Kanazawa/Heian Shodan - Hirokazu Kanazawa [Ux2sgGTrTDk].mp4\")\n",
        "timestamps = []\n",
        "play_video_and_save_timestamps(input_path)"
      ],
      "metadata": {
        "id": "8YKYbQ4ULxQw",
        "outputId": "3d8a7728-1ac4-4e73-9165-71015fad79b8",
        "colab": {
          "base_uri": "https://localhost:8080/",
          "height": 322,
          "referenced_widgets": [
            "47de29017b7b4408873501e8bb3dc383",
            "b0734afae6d44ebcb0a64de4546de31f",
            "d6d6b141b32f434386d76e522638caea",
            "c60a98da4764484f812fa6031d2869c3",
            "d56800d354fa4a828d870912a43faa85",
            "29ab8100f7774599bb8b583b1a85b39c",
            "12853ee5f9624f0cb6ca05a7e609ca81",
            "49757925f4e4494a9ff89e91bb30647b",
            "a71eec3fb39041b2914da303bb3288ba",
            "f06fdb68f4d549d28823fe26d259c991",
            "d5626630f68d4981a444e6459c956c8c",
            "7a6b6a7202094fa2b5cfe83644acb696",
            "ba51e380e3fc4ae69460c4719267b20a",
            "1838c30af1dd47748088adb48f7451fb",
            "12178fb955ba482a84bb8ba65b5d3adb",
            "ea8baaa323e048389c0f0a6915784083",
            "a92cc84bbebe4bbda80fecd4cc2295f3",
            "0d81f79a52e64ccc8cf57a7964d5a2f9",
            "5d427b53e8094c3eb973b81e12cc5012",
            "8d404fe6f6924823a72b9966f8382c1e",
            "0a536aa6064b4acdb10fb473f8a0c544",
            "c8ee0d912f1645fbafd23ed50f0ac88b",
            "b812692c503b43debbf507df898b7191",
            "4625f132b36543f6bcd8af9476e7037a",
            "33194acadc944f7fb852087db7139663"
          ]
        }
      },
      "execution_count": 59,
      "outputs": [
        {
          "output_type": "display_data",
          "data": {
            "text/plain": [
              "Output()"
            ],
            "application/vnd.jupyter.widget-view+json": {
              "version_major": 2,
              "version_minor": 0,
              "model_id": "47de29017b7b4408873501e8bb3dc383"
            }
          },
          "metadata": {}
        },
        {
          "output_type": "display_data",
          "data": {
            "text/plain": [
              "IntSlider(value=0, max=1873)"
            ],
            "application/vnd.jupyter.widget-view+json": {
              "version_major": 2,
              "version_minor": 0,
              "model_id": "d6d6b141b32f434386d76e522638caea"
            }
          },
          "metadata": {}
        },
        {
          "output_type": "display_data",
          "data": {
            "text/plain": [
              "HBox(children=(Button(description='<<', style=ButtonStyle()), Button(description='<', style=ButtonStyle()), Bu…"
            ],
            "application/vnd.jupyter.widget-view+json": {
              "version_major": 2,
              "version_minor": 0,
              "model_id": "29ab8100f7774599bb8b583b1a85b39c"
            }
          },
          "metadata": {}
        }
      ]
    },
    {
      "cell_type": "code",
      "source": [
        "print(\"Selected timestamps:\", timestamps)"
      ],
      "metadata": {
        "id": "Vo6CDhd8LutR",
        "colab": {
          "base_uri": "https://localhost:8080/"
        },
        "outputId": "8717cef0-1289-4cce-8a1e-83fa77224cd7"
      },
      "execution_count": 63,
      "outputs": [
        {
          "output_type": "stream",
          "name": "stdout",
          "text": [
            "Selected timestamps: [620, 650, 693, 729, 754, 798, 838, 878, 908, 958, 989, 1029, 1059, 1099, 1139, 1179, 1209, 1236, 1296, 1336, 1386, 1436]\n"
          ]
        }
      ]
    },
    {
      "cell_type": "code",
      "source": [
        "times = np.array(timestamps, dtype=float)/FPS\n",
        "print(\"selected times: \",times)"
      ],
      "metadata": {
        "colab": {
          "base_uri": "https://localhost:8080/"
        },
        "id": "vI7Il3cGDh7_",
        "outputId": "3f2ad09f-2c73-48be-ba63-8cb9fca182cb"
      },
      "execution_count": 64,
      "outputs": [
        {
          "output_type": "stream",
          "name": "stdout",
          "text": [
            "selected times:  [24.8  26.   27.72 29.16 30.16 31.92 33.52 35.12 36.32 38.32 39.56 41.16\n",
            " 42.36 43.96 45.56 47.16 48.36 49.44 51.84 53.44 55.44 57.44]\n"
          ]
        }
      ]
    },
    {
      "cell_type": "code",
      "source": [
        "\n",
        "clip = mpy.VideoFileClip(input_path)\n",
        "split_path = os.path.split(input_path)\n",
        "\n",
        "for i in range(1,len(times)):\n",
        "    start_time = times[i-1]\n",
        "    end_time = times[i]\n",
        "    subclip = clip.subclip(start_time, end_time)\n",
        "    output_path = os.path.join(split_path[0], \"clips\", os.path.splitext(split_path[1])[0] + \"_\" + str(i) + \".mp4\")\n",
        "    subclip.write_videofile(output_path)"
      ],
      "metadata": {
        "colab": {
          "base_uri": "https://localhost:8080/"
        },
        "id": "mi83C9Zi-UR5",
        "outputId": "aae49b01-6665-4d5d-ea2b-969b070d1453"
      },
      "execution_count": 65,
      "outputs": [
        {
          "output_type": "stream",
          "name": "stderr",
          "text": [
            "t:   0%|          | 2/530 [21:58<96:42:03, 659.32s/it, now=None]"
          ]
        },
        {
          "output_type": "stream",
          "name": "stdout",
          "text": [
            "Moviepy - Building video /content/drive/MyDrive/K/Kanazawa/clips/Heian Shodan - Hirokazu Kanazawa [Ux2sgGTrTDk]_1.mp4.\n",
            "MoviePy - Writing audio in Heian Shodan - Hirokazu Kanazawa [Ux2sgGTrTDk]_1TEMP_MPY_wvf_snd.mp3\n"
          ]
        },
        {
          "output_type": "stream",
          "name": "stderr",
          "text": [
            "\n",
            "chunk:   0%|          | 0/27 [00:00<?, ?it/s, now=None]\u001b[A\n",
            "t:   0%|          | 2/530 [21:58<96:42:33, 659.38s/it, now=None]"
          ]
        },
        {
          "output_type": "stream",
          "name": "stdout",
          "text": [
            "MoviePy - Done.\n",
            "Moviepy - Writing video /content/drive/MyDrive/K/Kanazawa/clips/Heian Shodan - Hirokazu Kanazawa [Ux2sgGTrTDk]_1.mp4\n",
            "\n"
          ]
        },
        {
          "output_type": "stream",
          "name": "stderr",
          "text": [
            "\n",
            "t:   0%|          | 0/30 [00:00<?, ?it/s, now=None]\u001b[A\n",
            "t:   0%|          | 2/530 [21:59<96:43:43, 659.51s/it, now=None]"
          ]
        },
        {
          "output_type": "stream",
          "name": "stdout",
          "text": [
            "Moviepy - Done !\n",
            "Moviepy - video ready /content/drive/MyDrive/K/Kanazawa/clips/Heian Shodan - Hirokazu Kanazawa [Ux2sgGTrTDk]_1.mp4\n",
            "Moviepy - Building video /content/drive/MyDrive/K/Kanazawa/clips/Heian Shodan - Hirokazu Kanazawa [Ux2sgGTrTDk]_2.mp4.\n",
            "MoviePy - Writing audio in Heian Shodan - Hirokazu Kanazawa [Ux2sgGTrTDk]_2TEMP_MPY_wvf_snd.mp3\n"
          ]
        },
        {
          "output_type": "stream",
          "name": "stderr",
          "text": [
            "\n",
            "chunk:   0%|          | 0/38 [00:00<?, ?it/s, now=None]\u001b[A\n",
            "t:   0%|          | 2/530 [21:59<96:44:11, 659.57s/it, now=None]"
          ]
        },
        {
          "output_type": "stream",
          "name": "stdout",
          "text": [
            "MoviePy - Done.\n",
            "Moviepy - Writing video /content/drive/MyDrive/K/Kanazawa/clips/Heian Shodan - Hirokazu Kanazawa [Ux2sgGTrTDk]_2.mp4\n",
            "\n"
          ]
        },
        {
          "output_type": "stream",
          "name": "stderr",
          "text": [
            "\n",
            "t:   0%|          | 0/43 [00:00<?, ?it/s, now=None]\u001b[A\n",
            "t: 100%|██████████| 43/43 [00:00<00:00, 428.22it/s, now=None]\u001b[A\n",
            "t:   0%|          | 2/530 [21:59<96:46:10, 659.79s/it, now=None]"
          ]
        },
        {
          "output_type": "stream",
          "name": "stdout",
          "text": [
            "Moviepy - Done !\n",
            "Moviepy - video ready /content/drive/MyDrive/K/Kanazawa/clips/Heian Shodan - Hirokazu Kanazawa [Ux2sgGTrTDk]_2.mp4\n",
            "Moviepy - Building video /content/drive/MyDrive/K/Kanazawa/clips/Heian Shodan - Hirokazu Kanazawa [Ux2sgGTrTDk]_3.mp4.\n",
            "MoviePy - Writing audio in Heian Shodan - Hirokazu Kanazawa [Ux2sgGTrTDk]_3TEMP_MPY_wvf_snd.mp3\n"
          ]
        },
        {
          "output_type": "stream",
          "name": "stderr",
          "text": [
            "\n",
            "chunk:   0%|          | 0/32 [00:00<?, ?it/s, now=None]\u001b[A\n",
            "t:   0%|          | 2/530 [21:59<96:46:38, 659.85s/it, now=None]"
          ]
        },
        {
          "output_type": "stream",
          "name": "stdout",
          "text": [
            "MoviePy - Done.\n",
            "Moviepy - Writing video /content/drive/MyDrive/K/Kanazawa/clips/Heian Shodan - Hirokazu Kanazawa [Ux2sgGTrTDk]_3.mp4\n",
            "\n"
          ]
        },
        {
          "output_type": "stream",
          "name": "stderr",
          "text": [
            "\n",
            "t:   0%|          | 0/37 [00:00<?, ?it/s, now=None]\u001b[A\n",
            "t:   0%|          | 2/530 [22:00<96:48:26, 660.05s/it, now=None]"
          ]
        },
        {
          "output_type": "stream",
          "name": "stdout",
          "text": [
            "Moviepy - Done !\n",
            "Moviepy - video ready /content/drive/MyDrive/K/Kanazawa/clips/Heian Shodan - Hirokazu Kanazawa [Ux2sgGTrTDk]_3.mp4\n",
            "Moviepy - Building video /content/drive/MyDrive/K/Kanazawa/clips/Heian Shodan - Hirokazu Kanazawa [Ux2sgGTrTDk]_4.mp4.\n",
            "MoviePy - Writing audio in Heian Shodan - Hirokazu Kanazawa [Ux2sgGTrTDk]_4TEMP_MPY_wvf_snd.mp3\n"
          ]
        },
        {
          "output_type": "stream",
          "name": "stderr",
          "text": [
            "\n",
            "chunk:   0%|          | 0/23 [00:00<?, ?it/s, now=None]\u001b[A\n",
            "t:   0%|          | 2/530 [22:00<96:48:46, 660.09s/it, now=None]"
          ]
        },
        {
          "output_type": "stream",
          "name": "stdout",
          "text": [
            "MoviePy - Done.\n",
            "Moviepy - Writing video /content/drive/MyDrive/K/Kanazawa/clips/Heian Shodan - Hirokazu Kanazawa [Ux2sgGTrTDk]_4.mp4\n",
            "\n"
          ]
        },
        {
          "output_type": "stream",
          "name": "stderr",
          "text": [
            "\n",
            "t:   0%|          | 0/25 [00:00<?, ?it/s, now=None]\u001b[A\n",
            "t:   0%|          | 2/530 [22:00<96:49:51, 660.21s/it, now=None]"
          ]
        },
        {
          "output_type": "stream",
          "name": "stdout",
          "text": [
            "Moviepy - Done !\n",
            "Moviepy - video ready /content/drive/MyDrive/K/Kanazawa/clips/Heian Shodan - Hirokazu Kanazawa [Ux2sgGTrTDk]_4.mp4\n",
            "Moviepy - Building video /content/drive/MyDrive/K/Kanazawa/clips/Heian Shodan - Hirokazu Kanazawa [Ux2sgGTrTDk]_5.mp4.\n",
            "MoviePy - Writing audio in Heian Shodan - Hirokazu Kanazawa [Ux2sgGTrTDk]_5TEMP_MPY_wvf_snd.mp3\n"
          ]
        },
        {
          "output_type": "stream",
          "name": "stderr",
          "text": [
            "\n",
            "chunk:   0%|          | 0/39 [00:00<?, ?it/s, now=None]\u001b[A\n",
            "t:   0%|          | 2/530 [22:00<96:50:25, 660.28s/it, now=None]"
          ]
        },
        {
          "output_type": "stream",
          "name": "stdout",
          "text": [
            "MoviePy - Done.\n",
            "Moviepy - Writing video /content/drive/MyDrive/K/Kanazawa/clips/Heian Shodan - Hirokazu Kanazawa [Ux2sgGTrTDk]_5.mp4\n",
            "\n"
          ]
        },
        {
          "output_type": "stream",
          "name": "stderr",
          "text": [
            "\n",
            "t:   0%|          | 0/45 [00:00<?, ?it/s, now=None]\u001b[A\n",
            "t:  87%|████████▋ | 39/45 [00:00<00:00, 384.33it/s, now=None]\u001b[A\n",
            "t:   0%|          | 2/530 [22:01<96:52:29, 660.51s/it, now=None]"
          ]
        },
        {
          "output_type": "stream",
          "name": "stdout",
          "text": [
            "Moviepy - Done !\n",
            "Moviepy - video ready /content/drive/MyDrive/K/Kanazawa/clips/Heian Shodan - Hirokazu Kanazawa [Ux2sgGTrTDk]_5.mp4\n",
            "Moviepy - Building video /content/drive/MyDrive/K/Kanazawa/clips/Heian Shodan - Hirokazu Kanazawa [Ux2sgGTrTDk]_6.mp4.\n",
            "MoviePy - Writing audio in Heian Shodan - Hirokazu Kanazawa [Ux2sgGTrTDk]_6TEMP_MPY_wvf_snd.mp3\n"
          ]
        },
        {
          "output_type": "stream",
          "name": "stderr",
          "text": [
            "\n",
            "chunk:   0%|          | 0/36 [00:00<?, ?it/s, now=None]\u001b[A\n",
            "t:   0%|          | 2/530 [22:01<96:52:53, 660.56s/it, now=None]"
          ]
        },
        {
          "output_type": "stream",
          "name": "stdout",
          "text": [
            "MoviePy - Done.\n",
            "Moviepy - Writing video /content/drive/MyDrive/K/Kanazawa/clips/Heian Shodan - Hirokazu Kanazawa [Ux2sgGTrTDk]_6.mp4\n",
            "\n"
          ]
        },
        {
          "output_type": "stream",
          "name": "stderr",
          "text": [
            "\n",
            "t:   0%|          | 0/41 [00:00<?, ?it/s, now=None]\u001b[A\n",
            "t:   0%|          | 2/530 [22:01<96:54:32, 660.74s/it, now=None]"
          ]
        },
        {
          "output_type": "stream",
          "name": "stdout",
          "text": [
            "Moviepy - Done !\n",
            "Moviepy - video ready /content/drive/MyDrive/K/Kanazawa/clips/Heian Shodan - Hirokazu Kanazawa [Ux2sgGTrTDk]_6.mp4\n",
            "Moviepy - Building video /content/drive/MyDrive/K/Kanazawa/clips/Heian Shodan - Hirokazu Kanazawa [Ux2sgGTrTDk]_7.mp4.\n",
            "MoviePy - Writing audio in Heian Shodan - Hirokazu Kanazawa [Ux2sgGTrTDk]_7TEMP_MPY_wvf_snd.mp3\n"
          ]
        },
        {
          "output_type": "stream",
          "name": "stderr",
          "text": [
            "\n",
            "chunk:   0%|          | 0/36 [00:00<?, ?it/s, now=None]\u001b[A\n",
            "t:   0%|          | 2/530 [22:01<96:55:07, 660.81s/it, now=None]"
          ]
        },
        {
          "output_type": "stream",
          "name": "stdout",
          "text": [
            "MoviePy - Done.\n",
            "Moviepy - Writing video /content/drive/MyDrive/K/Kanazawa/clips/Heian Shodan - Hirokazu Kanazawa [Ux2sgGTrTDk]_7.mp4\n",
            "\n"
          ]
        },
        {
          "output_type": "stream",
          "name": "stderr",
          "text": [
            "\n",
            "t:   0%|          | 0/40 [00:00<?, ?it/s, now=None]\u001b[A\n",
            "t:   0%|          | 2/530 [22:02<96:56:53, 661.01s/it, now=None]"
          ]
        },
        {
          "output_type": "stream",
          "name": "stdout",
          "text": [
            "Moviepy - Done !\n",
            "Moviepy - video ready /content/drive/MyDrive/K/Kanazawa/clips/Heian Shodan - Hirokazu Kanazawa [Ux2sgGTrTDk]_7.mp4\n",
            "Moviepy - Building video /content/drive/MyDrive/K/Kanazawa/clips/Heian Shodan - Hirokazu Kanazawa [Ux2sgGTrTDk]_8.mp4.\n",
            "MoviePy - Writing audio in Heian Shodan - Hirokazu Kanazawa [Ux2sgGTrTDk]_8TEMP_MPY_wvf_snd.mp3\n"
          ]
        },
        {
          "output_type": "stream",
          "name": "stderr",
          "text": [
            "\n",
            "chunk:   0%|          | 0/27 [00:00<?, ?it/s, now=None]\u001b[A\n",
            "t:   0%|          | 2/530 [22:02<96:57:15, 661.05s/it, now=None]"
          ]
        },
        {
          "output_type": "stream",
          "name": "stdout",
          "text": [
            "MoviePy - Done.\n",
            "Moviepy - Writing video /content/drive/MyDrive/K/Kanazawa/clips/Heian Shodan - Hirokazu Kanazawa [Ux2sgGTrTDk]_8.mp4\n",
            "\n"
          ]
        },
        {
          "output_type": "stream",
          "name": "stderr",
          "text": [
            "\n",
            "t:   0%|          | 0/31 [00:00<?, ?it/s, now=None]\u001b[A\n",
            "t:   0%|          | 2/530 [22:02<96:58:32, 661.20s/it, now=None]"
          ]
        },
        {
          "output_type": "stream",
          "name": "stdout",
          "text": [
            "Moviepy - Done !\n",
            "Moviepy - video ready /content/drive/MyDrive/K/Kanazawa/clips/Heian Shodan - Hirokazu Kanazawa [Ux2sgGTrTDk]_8.mp4\n",
            "Moviepy - Building video /content/drive/MyDrive/K/Kanazawa/clips/Heian Shodan - Hirokazu Kanazawa [Ux2sgGTrTDk]_9.mp4.\n",
            "MoviePy - Writing audio in Heian Shodan - Hirokazu Kanazawa [Ux2sgGTrTDk]_9TEMP_MPY_wvf_snd.mp3\n"
          ]
        },
        {
          "output_type": "stream",
          "name": "stderr",
          "text": [
            "\n",
            "chunk:   0%|          | 0/45 [00:00<?, ?it/s, now=None]\u001b[A\n",
            "t:   0%|          | 2/530 [22:02<96:59:04, 661.26s/it, now=None]"
          ]
        },
        {
          "output_type": "stream",
          "name": "stdout",
          "text": [
            "MoviePy - Done.\n",
            "Moviepy - Writing video /content/drive/MyDrive/K/Kanazawa/clips/Heian Shodan - Hirokazu Kanazawa [Ux2sgGTrTDk]_9.mp4\n",
            "\n"
          ]
        },
        {
          "output_type": "stream",
          "name": "stderr",
          "text": [
            "\n",
            "t:   0%|          | 0/50 [00:00<?, ?it/s, now=None]\u001b[A\n",
            "t:  72%|███████▏  | 36/50 [00:00<00:00, 356.37it/s, now=None]\u001b[A\n",
            "t:   0%|          | 2/530 [22:02<97:01:08, 661.49s/it, now=None]"
          ]
        },
        {
          "output_type": "stream",
          "name": "stdout",
          "text": [
            "Moviepy - Done !\n",
            "Moviepy - video ready /content/drive/MyDrive/K/Kanazawa/clips/Heian Shodan - Hirokazu Kanazawa [Ux2sgGTrTDk]_9.mp4\n",
            "Moviepy - Building video /content/drive/MyDrive/K/Kanazawa/clips/Heian Shodan - Hirokazu Kanazawa [Ux2sgGTrTDk]_10.mp4.\n",
            "MoviePy - Writing audio in Heian Shodan - Hirokazu Kanazawa [Ux2sgGTrTDk]_10TEMP_MPY_wvf_snd.mp3\n"
          ]
        },
        {
          "output_type": "stream",
          "name": "stderr",
          "text": [
            "\n",
            "chunk:   0%|          | 0/28 [00:00<?, ?it/s, now=None]\u001b[A\n",
            "t:   0%|          | 2/530 [22:03<97:01:33, 661.54s/it, now=None]"
          ]
        },
        {
          "output_type": "stream",
          "name": "stdout",
          "text": [
            "MoviePy - Done.\n",
            "Moviepy - Writing video /content/drive/MyDrive/K/Kanazawa/clips/Heian Shodan - Hirokazu Kanazawa [Ux2sgGTrTDk]_10.mp4\n",
            "\n"
          ]
        },
        {
          "output_type": "stream",
          "name": "stderr",
          "text": [
            "\n",
            "t:   0%|          | 0/32 [00:00<?, ?it/s, now=None]\u001b[A\n",
            "t:   0%|          | 2/530 [22:03<97:02:53, 661.69s/it, now=None]"
          ]
        },
        {
          "output_type": "stream",
          "name": "stdout",
          "text": [
            "Moviepy - Done !\n",
            "Moviepy - video ready /content/drive/MyDrive/K/Kanazawa/clips/Heian Shodan - Hirokazu Kanazawa [Ux2sgGTrTDk]_10.mp4\n",
            "Moviepy - Building video /content/drive/MyDrive/K/Kanazawa/clips/Heian Shodan - Hirokazu Kanazawa [Ux2sgGTrTDk]_11.mp4.\n",
            "MoviePy - Writing audio in Heian Shodan - Hirokazu Kanazawa [Ux2sgGTrTDk]_11TEMP_MPY_wvf_snd.mp3\n"
          ]
        },
        {
          "output_type": "stream",
          "name": "stderr",
          "text": [
            "\n",
            "chunk:   0%|          | 0/36 [00:00<?, ?it/s, now=None]\u001b[A\n",
            "t:   0%|          | 2/530 [22:03<97:03:21, 661.75s/it, now=None]"
          ]
        },
        {
          "output_type": "stream",
          "name": "stdout",
          "text": [
            "MoviePy - Done.\n",
            "Moviepy - Writing video /content/drive/MyDrive/K/Kanazawa/clips/Heian Shodan - Hirokazu Kanazawa [Ux2sgGTrTDk]_11.mp4\n",
            "\n"
          ]
        },
        {
          "output_type": "stream",
          "name": "stderr",
          "text": [
            "\n",
            "t:   0%|          | 0/40 [00:00<?, ?it/s, now=None]\u001b[A\n",
            "t:  92%|█████████▎| 37/40 [00:00<00:00, 364.31it/s, now=None]\u001b[A\n",
            "t:   0%|          | 2/530 [22:04<97:05:51, 662.03s/it, now=None]"
          ]
        },
        {
          "output_type": "stream",
          "name": "stdout",
          "text": [
            "Moviepy - Done !\n",
            "Moviepy - video ready /content/drive/MyDrive/K/Kanazawa/clips/Heian Shodan - Hirokazu Kanazawa [Ux2sgGTrTDk]_11.mp4\n",
            "Moviepy - Building video /content/drive/MyDrive/K/Kanazawa/clips/Heian Shodan - Hirokazu Kanazawa [Ux2sgGTrTDk]_12.mp4.\n",
            "MoviePy - Writing audio in Heian Shodan - Hirokazu Kanazawa [Ux2sgGTrTDk]_12TEMP_MPY_wvf_snd.mp3\n"
          ]
        },
        {
          "output_type": "stream",
          "name": "stderr",
          "text": [
            "\n",
            "chunk:   0%|          | 0/27 [00:00<?, ?it/s, now=None]\u001b[A\n",
            "t:   0%|          | 2/530 [22:04<97:06:20, 662.08s/it, now=None]"
          ]
        },
        {
          "output_type": "stream",
          "name": "stdout",
          "text": [
            "MoviePy - Done.\n",
            "Moviepy - Writing video /content/drive/MyDrive/K/Kanazawa/clips/Heian Shodan - Hirokazu Kanazawa [Ux2sgGTrTDk]_12.mp4\n",
            "\n"
          ]
        },
        {
          "output_type": "stream",
          "name": "stderr",
          "text": [
            "\n",
            "t:   0%|          | 0/31 [00:00<?, ?it/s, now=None]\u001b[A\n",
            "t:  87%|████████▋ | 27/31 [00:00<00:00, 269.85it/s, now=None]\u001b[A\n",
            "t:   0%|          | 2/530 [22:04<97:08:50, 662.37s/it, now=None]"
          ]
        },
        {
          "output_type": "stream",
          "name": "stdout",
          "text": [
            "Moviepy - Done !\n",
            "Moviepy - video ready /content/drive/MyDrive/K/Kanazawa/clips/Heian Shodan - Hirokazu Kanazawa [Ux2sgGTrTDk]_12.mp4\n",
            "Moviepy - Building video /content/drive/MyDrive/K/Kanazawa/clips/Heian Shodan - Hirokazu Kanazawa [Ux2sgGTrTDk]_13.mp4.\n",
            "MoviePy - Writing audio in Heian Shodan - Hirokazu Kanazawa [Ux2sgGTrTDk]_13TEMP_MPY_wvf_snd.mp3\n"
          ]
        },
        {
          "output_type": "stream",
          "name": "stderr",
          "text": [
            "\n",
            "chunk:   0%|          | 0/36 [00:00<?, ?it/s, now=None]\u001b[A\n",
            "t:   0%|          | 2/530 [22:04<97:09:24, 662.43s/it, now=None]"
          ]
        },
        {
          "output_type": "stream",
          "name": "stdout",
          "text": [
            "MoviePy - Done.\n",
            "Moviepy - Writing video /content/drive/MyDrive/K/Kanazawa/clips/Heian Shodan - Hirokazu Kanazawa [Ux2sgGTrTDk]_13.mp4\n",
            "\n"
          ]
        },
        {
          "output_type": "stream",
          "name": "stderr",
          "text": [
            "\n",
            "t:   0%|          | 0/41 [00:00<?, ?it/s, now=None]\u001b[A\n",
            "t:  73%|███████▎  | 30/41 [00:00<00:00, 292.84it/s, now=None]\u001b[A\n",
            "t:   0%|          | 2/530 [22:05<97:12:06, 662.74s/it, now=None]"
          ]
        },
        {
          "output_type": "stream",
          "name": "stdout",
          "text": [
            "Moviepy - Done !\n",
            "Moviepy - video ready /content/drive/MyDrive/K/Kanazawa/clips/Heian Shodan - Hirokazu Kanazawa [Ux2sgGTrTDk]_13.mp4\n",
            "Moviepy - Building video /content/drive/MyDrive/K/Kanazawa/clips/Heian Shodan - Hirokazu Kanazawa [Ux2sgGTrTDk]_14.mp4.\n",
            "MoviePy - Writing audio in Heian Shodan - Hirokazu Kanazawa [Ux2sgGTrTDk]_14TEMP_MPY_wvf_snd.mp3\n"
          ]
        },
        {
          "output_type": "stream",
          "name": "stderr",
          "text": [
            "\n",
            "chunk:   0%|          | 0/36 [00:00<?, ?it/s, now=None]\u001b[A\n",
            "t:   0%|          | 2/530 [22:05<97:12:43, 662.81s/it, now=None]"
          ]
        },
        {
          "output_type": "stream",
          "name": "stdout",
          "text": [
            "MoviePy - Done.\n",
            "Moviepy - Writing video /content/drive/MyDrive/K/Kanazawa/clips/Heian Shodan - Hirokazu Kanazawa [Ux2sgGTrTDk]_14.mp4\n",
            "\n"
          ]
        },
        {
          "output_type": "stream",
          "name": "stderr",
          "text": [
            "\n",
            "t:   0%|          | 0/41 [00:00<?, ?it/s, now=None]\u001b[A\n",
            "t:  49%|████▉     | 20/41 [00:00<00:00, 199.73it/s, now=None]\u001b[A\n",
            "t:  98%|█████████▊| 40/41 [00:00<00:00, 192.96it/s, now=None]\u001b[A\n",
            "t:   0%|          | 2/530 [22:06<97:15:50, 663.16s/it, now=None]"
          ]
        },
        {
          "output_type": "stream",
          "name": "stdout",
          "text": [
            "Moviepy - Done !\n",
            "Moviepy - video ready /content/drive/MyDrive/K/Kanazawa/clips/Heian Shodan - Hirokazu Kanazawa [Ux2sgGTrTDk]_14.mp4\n",
            "Moviepy - Building video /content/drive/MyDrive/K/Kanazawa/clips/Heian Shodan - Hirokazu Kanazawa [Ux2sgGTrTDk]_15.mp4.\n",
            "MoviePy - Writing audio in Heian Shodan - Hirokazu Kanazawa [Ux2sgGTrTDk]_15TEMP_MPY_wvf_snd.mp3\n"
          ]
        },
        {
          "output_type": "stream",
          "name": "stderr",
          "text": [
            "\n",
            "chunk:   0%|          | 0/36 [00:00<?, ?it/s, now=None]\u001b[A\n",
            "t:   0%|          | 2/530 [22:06<97:16:23, 663.23s/it, now=None]"
          ]
        },
        {
          "output_type": "stream",
          "name": "stdout",
          "text": [
            "MoviePy - Done.\n",
            "Moviepy - Writing video /content/drive/MyDrive/K/Kanazawa/clips/Heian Shodan - Hirokazu Kanazawa [Ux2sgGTrTDk]_15.mp4\n",
            "\n"
          ]
        },
        {
          "output_type": "stream",
          "name": "stderr",
          "text": [
            "\n",
            "t:   0%|          | 0/40 [00:00<?, ?it/s, now=None]\u001b[A\n",
            "t:  72%|███████▎  | 29/40 [00:00<00:00, 278.88it/s, now=None]\u001b[A\n",
            "t:   0%|          | 2/530 [22:07<97:18:54, 663.51s/it, now=None]"
          ]
        },
        {
          "output_type": "stream",
          "name": "stdout",
          "text": [
            "Moviepy - Done !\n",
            "Moviepy - video ready /content/drive/MyDrive/K/Kanazawa/clips/Heian Shodan - Hirokazu Kanazawa [Ux2sgGTrTDk]_15.mp4\n",
            "Moviepy - Building video /content/drive/MyDrive/K/Kanazawa/clips/Heian Shodan - Hirokazu Kanazawa [Ux2sgGTrTDk]_16.mp4.\n",
            "MoviePy - Writing audio in Heian Shodan - Hirokazu Kanazawa [Ux2sgGTrTDk]_16TEMP_MPY_wvf_snd.mp3\n"
          ]
        },
        {
          "output_type": "stream",
          "name": "stderr",
          "text": [
            "\n",
            "chunk:   0%|          | 0/27 [00:00<?, ?it/s, now=None]\u001b[A\n",
            "t:   0%|          | 2/530 [22:07<97:19:25, 663.57s/it, now=None]"
          ]
        },
        {
          "output_type": "stream",
          "name": "stdout",
          "text": [
            "MoviePy - Done.\n",
            "Moviepy - Writing video /content/drive/MyDrive/K/Kanazawa/clips/Heian Shodan - Hirokazu Kanazawa [Ux2sgGTrTDk]_16.mp4\n",
            "\n"
          ]
        },
        {
          "output_type": "stream",
          "name": "stderr",
          "text": [
            "\n",
            "t:   0%|          | 0/31 [00:00<?, ?it/s, now=None]\u001b[A\n",
            "t:  84%|████████▍ | 26/31 [00:00<00:00, 258.22it/s, now=None]\u001b[A\n",
            "t:   0%|          | 2/530 [22:07<97:21:29, 663.81s/it, now=None]"
          ]
        },
        {
          "output_type": "stream",
          "name": "stdout",
          "text": [
            "Moviepy - Done !\n",
            "Moviepy - video ready /content/drive/MyDrive/K/Kanazawa/clips/Heian Shodan - Hirokazu Kanazawa [Ux2sgGTrTDk]_16.mp4\n",
            "Moviepy - Building video /content/drive/MyDrive/K/Kanazawa/clips/Heian Shodan - Hirokazu Kanazawa [Ux2sgGTrTDk]_17.mp4.\n",
            "MoviePy - Writing audio in Heian Shodan - Hirokazu Kanazawa [Ux2sgGTrTDk]_17TEMP_MPY_wvf_snd.mp3\n"
          ]
        },
        {
          "output_type": "stream",
          "name": "stderr",
          "text": [
            "\n",
            "chunk:   0%|          | 0/24 [00:00<?, ?it/s, now=None]\u001b[A\n",
            "t:   0%|          | 2/530 [22:07<97:22:01, 663.87s/it, now=None]"
          ]
        },
        {
          "output_type": "stream",
          "name": "stdout",
          "text": [
            "MoviePy - Done.\n",
            "Moviepy - Writing video /content/drive/MyDrive/K/Kanazawa/clips/Heian Shodan - Hirokazu Kanazawa [Ux2sgGTrTDk]_17.mp4\n",
            "\n"
          ]
        },
        {
          "output_type": "stream",
          "name": "stderr",
          "text": [
            "\n",
            "t:   0%|          | 0/27 [00:00<?, ?it/s, now=None]\u001b[A\n",
            "t:  89%|████████▉ | 24/27 [00:00<00:00, 239.80it/s, now=None]\u001b[A\n",
            "t:   0%|          | 2/530 [22:08<97:24:00, 664.09s/it, now=None]"
          ]
        },
        {
          "output_type": "stream",
          "name": "stdout",
          "text": [
            "Moviepy - Done !\n",
            "Moviepy - video ready /content/drive/MyDrive/K/Kanazawa/clips/Heian Shodan - Hirokazu Kanazawa [Ux2sgGTrTDk]_17.mp4\n",
            "Moviepy - Building video /content/drive/MyDrive/K/Kanazawa/clips/Heian Shodan - Hirokazu Kanazawa [Ux2sgGTrTDk]_18.mp4.\n",
            "MoviePy - Writing audio in Heian Shodan - Hirokazu Kanazawa [Ux2sgGTrTDk]_18TEMP_MPY_wvf_snd.mp3\n"
          ]
        },
        {
          "output_type": "stream",
          "name": "stderr",
          "text": [
            "\n",
            "chunk:   0%|          | 0/53 [00:00<?, ?it/s, now=None]\u001b[A\n",
            "chunk:  85%|████████▍ | 45/53 [00:00<00:00, 449.18it/s, now=None]\u001b[A\n",
            "t:   0%|          | 2/530 [22:08<97:24:45, 664.18s/it, now=None]"
          ]
        },
        {
          "output_type": "stream",
          "name": "stdout",
          "text": [
            "MoviePy - Done.\n",
            "Moviepy - Writing video /content/drive/MyDrive/K/Kanazawa/clips/Heian Shodan - Hirokazu Kanazawa [Ux2sgGTrTDk]_18.mp4\n",
            "\n"
          ]
        },
        {
          "output_type": "stream",
          "name": "stderr",
          "text": [
            "\n",
            "t:   0%|          | 0/61 [00:00<?, ?it/s, now=None]\u001b[A\n",
            "t:  28%|██▊       | 17/61 [00:00<00:00, 169.95it/s, now=None]\u001b[A\n",
            "t:  64%|██████▍   | 39/61 [00:00<00:00, 189.72it/s, now=None]\u001b[A\n",
            "t:  95%|█████████▌| 58/61 [00:00<00:00, 185.65it/s, now=None]\u001b[A\n",
            "t:   0%|          | 2/530 [22:09<97:28:34, 664.61s/it, now=None]"
          ]
        },
        {
          "output_type": "stream",
          "name": "stdout",
          "text": [
            "Moviepy - Done !\n",
            "Moviepy - video ready /content/drive/MyDrive/K/Kanazawa/clips/Heian Shodan - Hirokazu Kanazawa [Ux2sgGTrTDk]_18.mp4\n",
            "Moviepy - Building video /content/drive/MyDrive/K/Kanazawa/clips/Heian Shodan - Hirokazu Kanazawa [Ux2sgGTrTDk]_19.mp4.\n",
            "MoviePy - Writing audio in Heian Shodan - Hirokazu Kanazawa [Ux2sgGTrTDk]_19TEMP_MPY_wvf_snd.mp3\n"
          ]
        },
        {
          "output_type": "stream",
          "name": "stderr",
          "text": [
            "\n",
            "chunk:   0%|          | 0/36 [00:00<?, ?it/s, now=None]\u001b[A\n",
            "t:   0%|          | 2/530 [22:09<97:29:14, 664.69s/it, now=None]"
          ]
        },
        {
          "output_type": "stream",
          "name": "stdout",
          "text": [
            "MoviePy - Done.\n",
            "Moviepy - Writing video /content/drive/MyDrive/K/Kanazawa/clips/Heian Shodan - Hirokazu Kanazawa [Ux2sgGTrTDk]_19.mp4\n",
            "\n"
          ]
        },
        {
          "output_type": "stream",
          "name": "stderr",
          "text": [
            "\n",
            "t:   0%|          | 0/40 [00:00<?, ?it/s, now=None]\u001b[A\n",
            "t:  48%|████▊     | 19/40 [00:00<00:00, 180.73it/s, now=None]\u001b[A\n",
            "t:   0%|          | 2/530 [22:09<97:31:57, 665.00s/it, now=None]"
          ]
        },
        {
          "output_type": "stream",
          "name": "stdout",
          "text": [
            "Moviepy - Done !\n",
            "Moviepy - video ready /content/drive/MyDrive/K/Kanazawa/clips/Heian Shodan - Hirokazu Kanazawa [Ux2sgGTrTDk]_19.mp4\n",
            "Moviepy - Building video /content/drive/MyDrive/K/Kanazawa/clips/Heian Shodan - Hirokazu Kanazawa [Ux2sgGTrTDk]_20.mp4.\n",
            "MoviePy - Writing audio in Heian Shodan - Hirokazu Kanazawa [Ux2sgGTrTDk]_20TEMP_MPY_wvf_snd.mp3\n"
          ]
        },
        {
          "output_type": "stream",
          "name": "stderr",
          "text": [
            "\n",
            "chunk:   0%|          | 0/45 [00:00<?, ?it/s, now=None]\u001b[A\n",
            "chunk: 100%|██████████| 45/45 [00:00<00:00, 429.49it/s, now=None]\u001b[A\n",
            "t:   0%|          | 2/530 [22:10<97:32:39, 665.07s/it, now=None]"
          ]
        },
        {
          "output_type": "stream",
          "name": "stdout",
          "text": [
            "MoviePy - Done.\n",
            "Moviepy - Writing video /content/drive/MyDrive/K/Kanazawa/clips/Heian Shodan - Hirokazu Kanazawa [Ux2sgGTrTDk]_20.mp4\n",
            "\n"
          ]
        },
        {
          "output_type": "stream",
          "name": "stderr",
          "text": [
            "\n",
            "t:   0%|          | 0/50 [00:00<?, ?it/s, now=None]\u001b[A\n",
            "t:  54%|█████▍    | 27/50 [00:00<00:00, 265.59it/s, now=None]\u001b[A\n",
            "t:   0%|          | 2/530 [22:10<97:35:42, 665.42s/it, now=None]"
          ]
        },
        {
          "output_type": "stream",
          "name": "stdout",
          "text": [
            "Moviepy - Done !\n",
            "Moviepy - video ready /content/drive/MyDrive/K/Kanazawa/clips/Heian Shodan - Hirokazu Kanazawa [Ux2sgGTrTDk]_20.mp4\n",
            "Moviepy - Building video /content/drive/MyDrive/K/Kanazawa/clips/Heian Shodan - Hirokazu Kanazawa [Ux2sgGTrTDk]_21.mp4.\n",
            "MoviePy - Writing audio in Heian Shodan - Hirokazu Kanazawa [Ux2sgGTrTDk]_21TEMP_MPY_wvf_snd.mp3\n"
          ]
        },
        {
          "output_type": "stream",
          "name": "stderr",
          "text": [
            "\n",
            "chunk:   0%|          | 0/45 [00:00<?, ?it/s, now=None]\u001b[A\n",
            "chunk:  93%|█████████▎| 42/45 [00:00<00:00, 419.25it/s, now=None]\u001b[A\n",
            "t:   0%|          | 2/530 [22:10<97:36:22, 665.50s/it, now=None]"
          ]
        },
        {
          "output_type": "stream",
          "name": "stdout",
          "text": [
            "MoviePy - Done.\n",
            "Moviepy - Writing video /content/drive/MyDrive/K/Kanazawa/clips/Heian Shodan - Hirokazu Kanazawa [Ux2sgGTrTDk]_21.mp4\n",
            "\n"
          ]
        },
        {
          "output_type": "stream",
          "name": "stderr",
          "text": [
            "\n",
            "t:   0%|          | 0/50 [00:00<?, ?it/s, now=None]\u001b[A\n",
            "t:  58%|█████▊    | 29/50 [00:00<00:00, 287.25it/s, now=None]\u001b[A\n",
            "t:   0%|          | 2/530 [22:11<97:38:24, 665.73s/it, now=None]"
          ]
        },
        {
          "output_type": "stream",
          "name": "stdout",
          "text": [
            "Moviepy - Done !\n",
            "Moviepy - video ready /content/drive/MyDrive/K/Kanazawa/clips/Heian Shodan - Hirokazu Kanazawa [Ux2sgGTrTDk]_21.mp4\n"
          ]
        }
      ]
    }
  ],
  "metadata": {
    "language_info": {
      "name": "python"
    },
    "colab": {
      "provenance": [],
      "include_colab_link": true
    },
    "kernelspec": {
      "name": "python3",
      "display_name": "Python 3"
    },
    "widgets": {
      "application/vnd.jupyter.widget-state+json": {
        "47de29017b7b4408873501e8bb3dc383": {
          "model_module": "@jupyter-widgets/output",
          "model_name": "OutputModel",
          "model_module_version": "1.0.0",
          "state": {
            "_dom_classes": [],
            "_model_module": "@jupyter-widgets/output",
            "_model_module_version": "1.0.0",
            "_model_name": "OutputModel",
            "_view_count": null,
            "_view_module": "@jupyter-widgets/output",
            "_view_module_version": "1.0.0",
            "_view_name": "OutputView",
            "layout": "IPY_MODEL_b0734afae6d44ebcb0a64de4546de31f",
            "msg_id": "",
            "outputs": [
              {
                "output_type": "display_data",
                "data": {
                  "text/plain": "<PIL.Image.Image image mode=RGB size=384x288>",
                  "image/png": "iVBORw0KGgoAAAANSUhEUgAAAYAAAAEgCAIAAAAyuTMGAAEAAElEQVR4Aez9eZdlx3XeDebNObPmAqoAECAGTuIITqZIWRSp11pqUa+9+gv4O/Rf7xfz6sHdq+1e9mq3LWqwqMGSSHESSYBAoQo15Dzcm/17nici7rk3783KLFQVsoAbKETG2bGn2BGxz444cc7t9Xq9ubOko6OjiejTuEzGnsjikYDzD6OKAk2NaXo+jM0HrW8KnJLRND3PyueU4mZoMws8YQtMnqmToU9YlRn7mQVmFphZQBZY/MibIaFECyg+rAhimqefpk9vrqk81kXTKMbQnvhl9Bs8cTkzAefSAtNWTlNWSNPa8NF3QNNa/hTgTNGHeotpjmbq0viMHfykmzlVzzMLfqipzszxNARnNee0eXcaWc8izlntc9Y2PvMO6GkO22nOYtToQ42GpZM8URerw+ls4A7h0y1O2xN8ulo8PWlPekI+vZY8bUmTY+XFj9sAmmj2KZN9HPfo4QHNCEkWKaeJg0bIZhczC5x/C5zGE2cClLaMXLT2nSECqsHnZEa9aZN4akXTYaRQpYwAT7g4I/vJnGLMaS1oNI8WAT2UbeM/K8ws8JG1wBSHtTg/bXf0mCXCYdqaf7JbgskZPcT8/FROxzQyYFAm+JQGTiYag8brTRE8NNC0to9y67dLVNK/dj0rzCzwsbLAKYZ+b3Fx8rzrTra2TDNw8lpufspTm97CGYIseqffH07g03RW5M7bj3Z1Pg3t6fAXGqtp+KPwon+AUaxxoAA8qQKH/CtEf8HpXnbKk+0zHb9DemLxuKonopfKo95k/afRDgaTxw89P43kicLb2D6llGl2PiufaeKm8Z+GPw3+uPSZ1lvT+B8dDfuRttDdh4eH5EdHPaY2VAE2tYmAhnf4BqXQhWfQVMjkiTHNAcGoy/ah5TN3QI2AHsr5rAhVE/6WJrfCGKtqmTHw5Mv0XKf/Jttzmqy5uclDYjr+ZDWOQzsqHa+cCjmarP50/KmR6uR2TWX0mCrO2uppdj4rn2nqT+M/DX8a/HHpM61XpvE/OhpS0BacDt6DdHDQVw0xEQOmExkRngwJpjXmdDjTqc9Sc9YO6HWWbGemrZ5looKVG+6l+NAKGUcfhXesO45YrrudN0o7JJgGdwcO0VppOn5DeUjhETmcaMOHiBypPqMnG6F9ehcTrUSHToQ/mlqPkdWjKdCl6tk/dEdsrZ08zqP8cfzifSAepZsaAVUx+psZeLJdpm7QPrYB2tWoU556R+3gPFIxRkT9tiqcZoHmoSynOHSQT4d/2olXuZ0W/5EaPSN6FAvUrmHLb3R6nbSUfhRBT5+mNe1MokOVPDaZXxgM+t4QHR2/Z9ugOZMSTwd5moGmwc+qFeZrrLqOpgGPMRwauEvbRUuXTOcg3JNru9xSPiv+cQ7d1h2vnQZhUJ0pTddzaLczMXzKyBP1T4eiyfHaVnUaPRt5K5yG6snhoPxx/RukFboKjGmeS5ZgQs5QIe909VQHBE3j+2hDs5E/04Uxg56pLR+EdmLvIn1aQDkN//QKd3v89FRzZ9yEnq7nGT3ZGVQ8CXW6PuNU6c1p+NPg41xOvIbJyVJOpB6pfCz6NI5dbt1yQ3jkwogD6k6Y407ncZnmkXX9iBIOnxqcroFPbqLmxnS2hwan07mLddb2dmln5fNrgeaY4ijIxwoTVR9xQBMxAIbRtNoZfGaBmQU+zhZorqcZ4fQeY8QBdRmNsTjhMlVTzxtOuWF3H992mXd1aO2h0MUZgU95ijdtqdKlPU15fr7bgHL3nqbMaRiC0yWf1t7prLr6TMeqNV1ZFTb5b9VkcoQyrb/O+oT0cfXL5DacBcqhFKF39iNOpq57GFOwpvCpVp1CdQy8cHqFCu38iSKGGyknoh3TowLSrJPHXBtjFkEEDRGwRgpknssjfASMRg014oCq0PG/ldc4/Elcn1XWWfGP63x8sXkcZwaZWeBZt0BmyqO5oUdreyQyv4aTdNT7wPZUDujRxH9UqYbWfDwtHN6jTsVvaqg5hfpxhRzdodPleXTGPaPeGdt7Vv5TzPDRBWPPkwOUD7/pJ0yZM46eD78tMw1mFng8FmBWnDAxHo+MjxmXZk+bttyyGnCiMR5DBFSCuiyofW8M5GTBE7WZAWcW+IhZoDsLpi1/ujjnv/kna9vrKaYZaykkgkwK1M7sgCL+uBJxd8fh59+gMw1nFphZ4MOywGJv6kGyM67VP6wWzOTOLDCzwDm2AEHJCXHJbA/oHHfdTLWZBZ5xCzTvM80HnbAEK76pS9ktH7dMq+0+JOmidVeGDbmLcHJ5Msmx1/9OZnL22uORYPeB0Mn8pmF24Gd9KjR2juJk+eew9kN6qnW8F0+2zeTBdjLNh1PLPJ20uVKUGW/3o7WrM14f0kh2eypGCgg88uckKhxetchYnkVA1VyzvzMLzCzw1C1wQgT01HWZCZxZYGaBM1uAGKdFFGcmfqIErHgeGnDNIqAn2gUz5jMLfNwtEB803JYZXc6dLQLKJs5DvdrH3eTPTvuPd2V3n+7Zacf51bRrz275uOXPbxtGNeu2YrRGx3+qu5Gb6WIOt2pHw7XHGQF15Y1pNrucWWBmgY+hBR7qEx6nA/oY2nfW5JkFZhaYZoGHeh8IH7MDOo3IaerO4DMLzCzwcbPAyE8zT1yX4lPG4MchWC3fixkeAqiGPOqecxnZfxpdC1b87t+uXIQOl5EdpKkfw+/gfFjFaFxa0bFDt+Xd7+w0PbsNb8BSGO7mjdcMr0fO2gxO4jakaexHOmlYPwU8RDhd6TQfP3nEj8NagfFzLw/T6kzGeRizCfUjd/jT9N0EHg8BtSZMniEPoX5IddeeD+WPJsferMAADJ3k3YFf5I7Y5yG6zKpnFphZ4GNsAfuXx3QjqmY821OwSjX7O7PAzAIfUwvghh5jy2cO6DEa8xljNXE19EGWP89Y+2fqntECp3M9ck8PXaw1ySMO6DRkUQLM02nTBH1sCp29ntLmx3rH+NjYcdbQc2eB0/mHs6k94oDORjrDnllgZoGZBUYtcBon1aWYOaCuNWblD98CXgN+kGcj3ec2H35zZhqcbIEP0tMnc57VzixwZgvMdqDObLJnnIAIaPIdo7vFM7qJoU2mbm0skO+AeH98wtP+R7PSWcO5R5PyEKqz7umMnMEpttGf43weIvjxVHPOiI/xHu8vuPePxruebemJ55JOUuX07ZpgmRHGE73PuIojFLOLJ26Bs87BUV/xcPXOvARrQ7kVqpDH5ncqw9nfp22BiS7g6SjxIYp+Og2cSZlogTM7oE7E9DiPA0xUbgb8aFtg5nQ+2v17mtbN9oBOY6UZzswCMws8EQuMREDdVdW0crTo1j4RvWZMP6IWmEU9z1bHdmf6tP2gLs5ZWzeLgM5qsRn+zAIzCzw2C4xEQI+N64zRzAJTLfDwe97syddU4537irNGQw8fDee+yTMFZxaYWeBZtQC/jPrwh1lt7XcC8vEvAcUk0+DTz5uczSceTRNw6h6ZrolYPNw6o4KO5o/dv09h4VEeJ121vmhItVM6cjtKAwXhlEck9HrqQHw6vIqcsV5pL7Ie9psiDy+YaozTkGrK9tBxXYYkT7/UGo7oKQqPKHVW7Y/37wi7Yxe1911xipF2Vv5dgSOyuhWlnJ5dGK3hkuGIGSgcuorLNh57syXYqLlmV1Ms0J14U1Bm4JkFzmyBc+iATrpn6GY+9iL+6U/ixjgPO48L1oinP3ZXad77zMZ+lglO6pXH1K4xH3ea+OIxSZ6x+dAscA4d0FRbxC+MeIepuB+ooivi4+luPpD5HhNx/NHMDT0mc55TNs+SAxqPfT6wScduuY3fyDq5s5/SEJ6tQprT9arT9Ge2T92hmUYzg88s8AEs8CyNt9NMoQ9gihnpzAIzCzxtCzxLEdDTts1M3iksMC2KPAXpBJTu/TC7To+X/3GRsyXecZs8TcjMAT1Na3/cZTmGLWvakXXux90wH9/2n8oBfbhrn8csvfvUbNr+zrEnX8/CAOlED90nfbW9p98JenKNtQ46OOQ+LV8pGvVEw1ak9BSevj259j4C58c82h9Bg6dLMuzvpyt3Ju3jbgFmWiZbK3zcLfKxbP+pIqCPpWVmjX5SFojHUeAzGLQYlIL9kQCjMdGTUmPG9zxYYBYBnYde+JjqwAbwwsJCv9+nkGjoY2qIj3GzRyKgJzEIpvJs975R68/ufqP2+EhdMRhyx9vb3eXx1vxcb2drGx/Um+/1D/yi0LzeJOo++fp47gR9pHr9xMaMOKATMWeVMwtMsIDOLuJJTpe4u+Rk+ZUrVzY3N48GR4l9lpaWwuTIDgosLqkyul6+OR37GdazZ4GZA3r2+uwZ0rg3P/QdLLXiZfAs21sbqyvLn/rUp1577bXPfvaz77777n/+z/+Zdi3ML+3u7oJ5cHCw4Jf4B9oa0huA1J7midjMWz1DwwNVz6kDYsg9W3acaTtmgfRgujFlXAOuB7SXX375O7/7bVwPlz/96U//8R//cWNjAyBO52C/v76+vre3R3xELc4oH0uxCzrCF41JmV0+6xboXVhbOqENExzBfBkEx6va/e0Eho+/qp5zefyczTGNOhPz45Y5gbyLzGd7updjVEdzXukca+8JJHA4OWqYRttdU5VuHdOmXnYxK0ytQC4ehwLkuhwMdrZI+//7D/7NSy+9RIxD7dFhHxDuZmVlZXFxEeCdO3dwPf25o/39/YMDnRjCB1GGnDTXG/vWTBM4LMC3XYjkoemYPR9KcSaEo+GDvjPRnYjc0Xm+e+brRCL21lx/Cpt0+NBLnauJvV3qM5aSB3R4eKgNvl6PO4u69dino7ihTI2Auow6GsyKMwuczQIZwQxBxuLXv/7lH/zgB5cuXfrlL3959+7df/6nH7/33nv4l0984hNra2v379/HARENHQz6DL9Ll64899xzCGPsgryzs9MfyKORRmfF2fSZYZ8rC0x1QNO+EzgLgs9V/51zZY6OcCXz+7t7N27cePPLX/rc5z43GBz+8If/4y9/+Oc4kcRB3AZv377FJaEQXmZ/f5c7J3HTYHWtv7+3vLZ+4cIFnBTIu3sHtHfmgM55p59JvelLsLrUGmNH9wfSCg2hxOrH4t7AG9oJhVPFzGP0nXB0rOaxXJ5e+SbuuGVa1fFCF/kjswSjmTXQ1wGf9dVVXM8nX/4E8c7bTod7+7gVVl4EPkRGWl/5mVccDWUbCtvPL66sgoZ7Yi22ubWDG4Ihl6TjxgQyW4JNNEvs6bz2zHS8bs2onZ/AEmws0unOh64eJ5cZKB5CahsaPxqTk0XMaqdZIEPk0Wz+QWin6RM4H5dOgfvV5csXl5YW3nnnHRZZc4PD61cvz3kxNZg7Ojjc4wAQajB+aML8Qm9xaWmOD2sPBqza8GN721uDg/1V0tLi0foqe0aHfT34j+Yn6zCrfZoWeLSxNHUJVkZPjXeeZktmsj5iFsBrsLNz5dLl5eXlnS1tMB/uH7DrjANqwywONHey3twCo5nIiBwIVQQ+nBUC8hGzzKw5D3FAMwM9TQv4Ode52GQ7W5g+3UY+yqMfLhkc9ne3Nw/2dglt2OLBoVDAuVDArcj7eMnPJcx69buM8kdzA1wVnogEKTGREI/6c9N+6WMspJ+u26zmPFjgfDkgBhxGYWieB9PMdPggFkhEg6uACds99GweeLGwijchj7uJFPwGEMpgxgFREGZvHocVt7XfPzTOufDRH8Q4HyJtjPwhKjAm+swOqA6sET5dlzERYQT7YReMvC7Dh6E/2fppmqDkkxU8jfuUcx9T9mTnjnoPf8+zDcoT+m6iHaYYIfcPuYmEKVvbG+z19Lzvszi/MJjrL66s4H3YipZEnq7jjObKMUUCogX/GtvhQJERCXYJawblTbLwH25C1/uVeyQPJaZYaZpRPxrw1o9uzvHxObTY2dtbuHVExOojUuiss3I+gwN6BO5n1abhnysf1LT6eBYmup7Tm4Ku5CDPxYsXbz73vBZfB4dXr1594YUX7t2796tf/BI3xJgm8VrYcZ7AA8yfIwVJH2QWHZcwgzzEAtXgT8rsZ3BAD9H0cVfPfNDjsmjG0GnuH2CeBu00ipUtGuKv+d7CoHdp/cJz165y0md1afkzn/nMq6+++qtf/Wr7/v233noLbgQ9nMe3p+M5WA14HLsN8sy959PV9f6qFtUy5LkLT3Bgp1F0hvOhWuCJO6ApUfqH2uiZ8CdsAXkx3zJzF1nigddgwLMwHqbjg7a3t8mJhniw1Vxe3Q/yxpDDnN6C9oDyJgNb1mJlN/SEdZ+xf6oWeOIO6IO0ZhYEfRDrPSrthLX9I7EKH/Kj/b3d7a3e66+88Nxz11mCLS/1jg53r11ev3rl4trqEi+gEvzMO47B3zgEw/PoQRep3MDY/TmaY0+IPC4pEVb3kVfioGPvGz2S7jOip2WBkT2krlB1/tm3lLocHku5jL/HwmvG5BQW0NQ/3T5LuqYNEo8X+QtSyuRhRfijPaCbN3mgfuvWLV7sosBOEBDeCwsJqzBL1lZ0qCCnyuuyondTrBVO0aAZytOzwCP0y7mOgGK5sVH49Mz50ZLUZvXjbVZ3zBUR9l9HPb0zwXlogKtL81cvrV+7ihe6uLxwxKunn/vUaxxH3N144/7t2z/b/4Veed8b8HiMt6PltvxIvs8+j9Zx3COHt0lt/nBcqsf5IKWy0+RyoqG8HZ5ag2fZiAW6/TVSMXIxNHgOUoxUPtaLZ8AB0V58EHn3ZvhYjTBj9igWoDvSLxDjNU5ggd/5/Oc/z94zJFcuXeLdrgcPHjATOBjNu2Ak9oP29/bZElpeWofP4YAdIfyP3U+CoAWFQuwKnSBlVvUsWkBnTJveuvn4shVSdfLwauRPqlBPdrTh3hU08fFtF+EJlSd6w2jYNWmTfiobclSmEUw5yXIqPo0JhXE+1VNMfYlXC6gugxPK9kGq55UJUxHvEMUkbjlky3hucEDd0vLFa9evEA1xlHllgfcsDvd3tnE6F1YWn7966fb6xf2tnbklLb4uXlxnaXbn7gN2qRcH+i4iL4phVSIacvgiZaJ50aFEQ7Zg3qSeOGDGmvNBPtczcQx0+UvzYY92a8qpyxHQyRdT+2vIqttxbN83fqMWm+bEh/jc6zu0GQzjzVB0O5oiHZt01RhFGb9itDwbEdC44rPr82eBdutiQkQ7IAxetnTwJryJurak5dXl9RLyEOPs7x0wRYmDFAqt6uX4S9eeZzPo7v1NSHYP9uHjNy/0rdbWYphI1qm9ZCP8qBYmTvhRp3N+m/6YHdBp7jnn1xgzzWwBOY4zTO+4huE9s1pREJ5Z4Y3u3d36s//xXzfe+wyfYb3y8icW5xbnFxcPjgYHR/3V5cXnrl0hX1xY5XTi7t7gJz/5ycb9Bwd7+319S4j9IHAXy5Ov+U6EXsXM/j7TFnjMDuiZtsXHQfnOjfEkL3NGHzTVcvgx/rGDd+fOwcYLG9yf4JyEcyEW4puHK8uX9O3nwQIHhe7evU8MTygkjv0DcPq9OeIj3gIDkLfnIT+Lf5yq26ziPFjgKTmg4yOGYXQe2v/M6XD+p1/pWW8d0Mm82TW/OLd+aa4/t7+1++DW7bmVteXLFy6wv7P5YPPgcGdlZRXfwqZzf7B48dL6wuKLu7/iePRga2N3Y2NzeX2V52WLK8saQqfdmzovvepNIvncMyk0Bb/DpLuvN8Um3bXIKMPJBGfU8UwNOgn5KTmg4yownkbtchxlBplsAex23KFPRv0A0A8oJZ2bwY7rODycY1uHNHdxjt2ffGqejwRpivrbY++++x6NunXrHp+LHszrhxJYeS0vL4GMqyICIlzi8XvSbOR8gI49X6QfmgPCDAym2Uh6tOHwAb3DKYU+opQF3asHvkvPE/fwujvLqcHczv7eg63NGy++dLi4sHO0t9vfXbywMj9Y+s0vb/3sZz/jHBC+5l99+/v/l//j//jk65/mkfzm1i7vi/313/zor//6r3/6i5+zQMMT8dIqD+PxaNNfTO1ECqds5wztw7PAh+mAaPXMBz1y1z+id+jIi/enCzqw8eIjSxnrWSL8jY1dPslKEBSJ7Ozwounf/d3f3X7nAe+mfu8P/s23vvWtT77++WV+F2xX3wxaXb8E/CtffZPfL/y//j/+7//8z//MKWqCpmV9JHolDuhk5ccbM7s+fxY4swPKqE1DHkv3j43U82eiJ6tR155dSSd5hYr3yN6hMtDfMQU+WJ/qHBAf71Gf6kdROYvCB57nFuYOWHsRCm3yaxdLK3uHg9XltZ29nc0HD3jefuXmzW9997tvfuvbL73++tLqyqB/OL+wjFZ7+3tLK8urg/XXPvXG177y5taDDVZhv/nNb/iOBy+UzS8usEbjZY0xhbOX0X0m131frNvwlIeP94/XPR6I7DCJU1fHYb36dHh1HkrRc9xObdg0+wfSLk+pOk8ihj6oEbdCuOQyeRNM1RgakO7WV1eD45jd2i7PLryU60HECVUK9fV85Jykac1HvZMtcFx/vot8HHgc8lC2k4e5FCo1D+VwMsJi+TBbuHV49vT1Qk4iIuqor5/TwQFdu7b2qU++/MUvfvHFmy9xGPr+3bu8H//5z33t29/+9isvf+ry1aucW2QhNjhaxpI886J86PdTmcRsG/34p//8F3/xF//tv/23f/iHf3iwucHmNLpxbigaZhQl7x4vfMiErnaQhmdM3mN+GM3RyFnfDnaxVQcyfjPoVrX+ErCzCX1y74TD6PwadyUVZ/JrvJV2MhW0Ywpw2SB0X3pHDxwm/TChyM+DA0KP2s5YYzSfOaBRe3SvWmd3gd3yhGGe6s7EO5nJybWjDqhIbiTsMDMKFxcGetd0zr/qdTTHC6hXrlxhGfXqJ17/+te//o2v/y5LrZvPvwSEqUVcQ/TE3M7JZghxNAe7e/oo/fIS4/gv//Iv+SH5//HDP2OHiJEdkYwfvT9f08wBVUvo7+jkmuxKutabRDuZCszW16HiskFO44CG4U9X6qw8s8AHtACjkHFPIONcj7TmF+aJYniW/tOfvr+09P6bb77xhS98gX2fT7z0SdD0rJ3k3whT4MQBan+qVUeE+IUMx1kMaFZh3/3ud59//vlLVy7/2Z/9GSsyNqfBISGwRUMj+1pTljSj0/IDNndG/ogWmDmgRzTcWcm6w73dIs7K5Anho9sHUCkx1jDSYlUEt4FeWe9p/TS3yPtcvbml/n5/d//owf0tXm6/9Pz16y99ZrB8Zau/fLR68cKVK73e4sHC4kBPuOS6eot8SHGe18NW+Yb0YMAXo1neoyeuio2hz3/xCxcvX+LXVv/Lf/kvP/7xj3mtrFmm2HnEA7XKWeHcWeApLcFo98lDvDs/x430kViCdRt1simCeco9oIcadugYuhqIbKTmBJVOqILNYonN9QpiOhEHJFHziwpqFpbZ5bm7cZeHX/y2xfr66vrFNX4l9Vvf+vYf//Eff/6zX7h+/ToIuJWD3QMtu7ynk2UdSzAYLnk1tXeg7R4ulfyxDhjyZcW//du//U//6T/xKI3l2ObmAzhItDZJhmHPtD0gOAl11A6CnDo1cSdRzPaAer0T9oBmEdBJg+eZqOt+E4eNWyZqIJmoefkh81JfFBwmwTKryZmztWZktU/ViKOqSMf+Ep6wbtKWMCeASCy18D6cAtrY3jnYP7p08dobb7yG0/n6N7/xpS996aUXXmTHJysmFlakspctNeoPM6MUJxiJfvi7ANQf6FALynnEl156iQ99cM02ND8rf3Cwx3IMnsWzVBWbNSpg9nfEAmPmGql78hdPzwHp1jUyAZ584z6uEppbaWMrwYX8TY1TsA3llrdCwoJYLggpT8xxNPiLVOFE6GEk8hCdRIEtnVt33sfRsNP8gx/84I//+I/Yu7ly7So/E8bvFHJXhCQ+SGrVR6gUM1QooDab2MdFIxfXQyVbQriz27dv8bY9j9WIudLS5k2P0zaIZQ79boM/E4XWs9E2bXkmNB9TUl9IGAMdv8yAGGszaF1I+ND9x8kDYdB08aehTYB3HjqmtgqxrKr+CcxP08YJcs8Oovmek1MpJ2hyrHWFuLZrjFfu510++kyOExZgyqIA31hm8h/N9fmIRemPAYdrEhpAGtbKKYuqMwbmiTpa0saLgpkTUvpCWJx4PuIQz+Haol4l5WMaeAQeXX3nO79L4PMHf/AHn/zkJ3X4kE9E7++vrvA5emmi3+Ox62G7iPFEUesnK8YudJ+oh28ksQnNoQSdqFZrUIfFGQs6yGnmzZde/OY3v3n79u0tPio0N//++7fZEmo2Ab+8SV+tNN6WLBjHoSPX04YWu1wNb+rI7x12rCv0adyoGsNszF3odAODoN0ovMI8gWeYGCHaTnDo4DyMw/F5Xdo+Rug+LbamKrVTjcMSfrSRs6tn0gLMf/qYxNzmG14Ly9p/WV7xCRRmybyfbdchmzHBQHm8TSWWWVji9y/YPV7EBbAa4nE7z7m+853vfOMb32C5tL6+jiZZPyG6q4AHqh0SG9cewrQFJlJ1VG2CJiBur37Mh2aSw/zNN9+8des256T5GXqohDZLp7NAxsPpcB8/1sfCAWHi7nB//FZ86hxzh88xP2KDweEBx2ze/NKXPvnJl99///3/9Y//8N57tzd3+dwXGyRzS0vsx+SMKE6HE8raJNZ3MvBBWIYLT3J5Bx3sLI3JZbk44U8iOPmEhXkOJy8sbu/tEvtAwYFDVl5f+cpX3vjUa1evXWazGb9AIlqqEYqiG8coCcRQQACgh/1DvnWpC/tJkHBFBDM4Jv31djWVOCAELS0svfbaG3zylafyRECREpVpYw50dk8GdVsjts9yKqY8etTlxYfd9o+FA/qwjfzE5TNR19fWCQQ4VkO4wQNsng39v//L/+d//a//td/XFPWc1eqMxMXjcsc4AqIr+MOQ2Acnx+Rnc4eV1yuvvMLKCKfAF3/Y9NEhQ3sXexwZhACHz9ITvxAzcYliVAGEA2xJQvJvFiq0Wliiand3T/6rp30D8MGJr+nP9S9fvswrY7wv9pvf/IqnYzgmah9XM6PJucqPNw1Is+25UvVkZT4uDih9c7zbTrbOea6lLflADmEMj4HWVtjwOewdHvzqZz9dWV/7/u//6z/4/X9NRPA3f/+j//gf/+MvfvU2nocDxvOLCn3kkUgUOp86rXNe7uA0Cfm4hvbpYcq7+/u8qMV55ddf1xFnHrfzkUO2fliOkfARJNwNgvZ2BDns7+OY1ub1OIzIa9Af7OzscNYZ6TDHi+kJ/dwim0GsxuR6pJqUVwsInPwDPuQ721vsLl27du3FF19koUcZb5jgSHgfOMnS9p4fmNOMwYgFsOvHxQGl3bihDKYRM3wkLnjRnI+ZvnjjJpOWUzDvvvvu2oULhCEsvliULa3+6Oc//wVvhBI04IYUrXiSjzXd9ikwJrbCpU4CkqvAQVbBkxPvcOfOnZ29PVwJv7rzu7/7u7ze9Tu/8zsogIu5cfO5vAQf+xMisUZjv4Zt8rgVHmbRL7gMghcSUtAQCBJJEUeOF+LEM0/b8E3LS3zGrCSYQAuQU0XkEEJetpAqzuzv+bTAx8sBnc8++OBaMbF3dvduvffO7fd+e/S5T/UGu9sbew/u33pvfn5lZen//IM/+rd//L0///M//6u/+mu+vHN/82D+kFeoeO2BWCIuRp5FZ4iSs8Dhl0pVHnocPRCrD33YII5TwDvozF+PF08Pd/Z3n3v+OgvAb33n21/+8pffeOMNYh/e3yJxQgc1WJzhYSDBiWzvbO7t7+C++v0l4iC+hQhaf3Cws7sFHH+0srq0uDQPZO5QqzO8E16GZ/eDIwrsDaG/3i9jtdYfHOLI8INwI/SBcGmZIGyBT9ofHH5k7zcffMycEw6THVDuVOdExY+2GszeD95AmLAjS+zwltPrb7yqPZeDfcKig4NlJurNm8//yZ/8yUsvvczHvf76b//u3XdvnfCYSEGHZr1+LVkupsRKQz3ZbQ4Qubt8Z2xv79LVS2z3/N7v/d4f/dEffeqzn+FdU8h5CsY+D+4mARcuw+eh2frRthQLJbk47/KAwJDzrpC4sYyy2yJUOujNKUcPILxtCpr9UQ9kaGk1jokqgOTwhBZuXJLLN4ExS+fYApMdkLt25O7ROvKxTJgP0SCtIWM6PJZ2Me7H2I5dRnpX1iPqw/lkPFc+RaLfIJ1bXWMqDt56+9f/9ON/uHR5jffL+aLpUX9tc+vBznbvzrua82+8/MIL1773xmuv/9f/+l9//dvb7Lbsbelx9eLqBamR7eQ55nyPd7LYMZo7WuIQEHERGzQ5ER3Ne70V8A/2d4k/1i+tf/ErX3zzzS+z7PrSm19iFwbfx+RfW7uAf9APga0s4VNkmN6A6AbHwSXbxjy3QQCuDFY4EdTAMVGFy8PjBA0NMSl72JwD0lN8TkQv9PRemDbS0Rj3wzkh3uHAB3E2pk/QtL66trq8sqkXU/U7hmxq6xg1m9x2RNOehYHw0JS2T+uvaV3/Yf1u3UObc04Qpjqgc6Lfx1aNaQM928fl4bFv75RJeAom+Xvv3f+nf/qnK1cusYp5/vnrHBdev1AefjOxeb8cOFszTO//9md/9fbbb/c29e1BYglmFwubrmccs3xXH/wdmDAh6GCz+Xvf+95Xv/oVjvzcePEGvgMnQr6/f19aaY9ICefCl5u0jMrpHoIfJUVDeCtkAWdbGlrKEAJnQxoIJJBfWr9EzqoMzkBA4FKs+I8jicxyJ0tUKASTQECbhUBjXXmuLmcO6EPoDuZJkzpc2DTQGQoJuBQRDNgH4YnR2tytu+/99x/+f+/cu/W1r36JkzhX1taYzPs7G5r8u4dLK5d5tvTJF65/7tXXdu7e29m4r0dJnvN8gEd+zQcXealrbt4vtXsJxmRmiYNeBFma3kfzeAocx6c//el//XvfffMrX3v9059kFUaMQwwyv7CCQPyC8oOs4OQguJT74NfAnHTK+ZAH9gvsDW1tyd34g607BFA4Jvaat7c38WaK43BkHHaa90cWe4MeJ71xQERluE4exCsCoshysc8PPPNSGE/35/iQGftc/UPWZgq0dOD6g1n6DJ0yQz2DBWYO6AzGOp+ozC4Uy1aSlmVHc7dv82sT/4i/Id559eVP8FyMQEBbJOvLuIClldXPfvazWzvzPLe6t3nASwyDee0T5Q1y9nspc6Y5awqKuBL440GE4+US+ysUrly+zC++w+rmzZt8GePK+pU+204D7RZHHK4kZRyKYyI95NK+sh9ywQH3GSnsE/FcDB+UtuCqIMSXUIvy8EE0EIIoaAGiTDRBN1JOBgGBA3yQBQLwcINkls6tBWYO6Nx2zYmKafLy3WXFF3lWlbUOT4VwQKxp7j7Y+od/+ser16+tLS9xFHBvewPM569dZ1bzU1yXlta+9btfXVjs88LoX//15sYOZ6aPeJMLHCYv66ajvuIdJvDYHGaXF0jcCus7fukUB4Gbk78Y7BGkUCD0CULcAc/FL1+5yAYNG0AbmwRc+t3BPCzXeWd7NzyOn69z0kcxXS6Ja9j34RIcfApOjTUknki7Odr8UVSFMuQ882Lrh0drGxv397a3DvnFDQIjdob6PouYh3d5q78bBsmGWiGSJ401toIf298nzf+xKfoUGc0c0FM09mMVxWjuzB05C9hnMlGkimiD/aDVhQXek7r53BUmJJNcUczcHIudwdw+j8y/8vXvcHrov//5/+Th2Du37zJv723uzm3t4iASd7RYhkJmNT6In1QGAXG4My4zh2HOA3WA+BA8SItowMSDIB1/BD7IcEZbknyVF2tU4WKAUEsCH1mEYTAn4eNY7sFhwW+K0VQFQXG+9kFcwhPRcAsfex98lM1ittTO0jm0wMwBncNOOVGl3Mn9PlfwcpaHWaYNHI7N+KEVZZzRb3793kLvH1fWLywufpZpvL25RbTCD/zxagNrmvWLi6+8/saXvvLG7373d3/729/+4pe/guH27iGfGfzHn/6c44t3720usN+sB1X6t7xcNnfxTviF+flrLHSIei5dvkBwwi9U9Oa1RkMPyoODQ/JF3k4F4+CI74319w/YyYEfIQy1JDaIcTd4DZZmOA5FN36Zgyo8zjr756v4T6VERtA200BImW11Pa7jjCIvamxt723v4HoER11HN6ApYOJySNp4zAofvgVmDujD74MnpAGTbmtr7re/fZfoZq6/z0uhhAlEFhxB5vH2jRc+wZmhn/3Lb1hJXb/5CseXv/DFL/PAe25++d//+39/6+59XuN4cH+TuIan2QmIqM2a6Ec/+luONV66dOH73/8+x39wE7gj3IQXRsx37RZxFIh4J44AJriYuAY8AgVcBgUcC2XCHxAc8mi/KVWoiiy7OS2UQJNrq+ePVPbrYOGPODiwpXX37l3cWWqfkFU/CFt0DnnU/iCsPjK0JzmgsY5s5pvY+K5Nu5i5d00kebxAhHZ1mMa8q9s0nEeDn7KlVkB3aRYrzrXFW8sunpglCsgCRHshpDzf8UEXvgIGYEAcpNs+B3zmNvfm3rnz3t//4z9x3PjNL30RJ4KVmLF3H9zhvS1ClN29Sxu7iowebN7kzYnV9csrqytsXfMPraTtgg71UcApsLzClRCaLC7Ncbjxm//qq1f5LR05lME8z6eO+sww8Qd5aYl9YKrEAd14YMVje+CcFfSLF5z8ocPwTPxjJSbrEbx4imrZpX+LHOQxGEbZe/YEPppndyfWRpbtyfmD91hL/vrXv+YDjNvsNu1zCpq9sAUd/DERDGQT/pd9nAzXo7+zpIgLxWnGW3dUYI0QdpmMCT8NzxES72SNQMpFRlermdDMM8sqI7bxHCmkUa1HRuqmX5zkgKZTzWqeGQswo3ku9PPtXxMd3H//Dg/OeWKFAzrgHQbCiv6A2d7vbXPiZv+gx8ui6xevZiSR+3Sxno4FQqjCvg0t5yQRr55z3hi3RRWrJyY1OQzF0wk4bstVcknwp0yshBfL/hEIPDInSiJmgQq2yZmxqJTwB8IwTBUHAAiU/Akz2Z9wiUuQQSOmI7JDQ+AwJCEFVtJFuOciNWeU5pwLnT5sJWYO6MPugTPLL3fRDl3u7crrEzF1a3/esZXRd3hR493N9zd+9Pc//dnKao846LXXX+YJOvHL5t77S0c72oUZ7N/YvPT84Prq4kVOJuNJBoMlghsdwvF+iiWK3eLS0aW1FTwIT8YPD/SIile0cCUc22GOJVzSxPeZHRZHhFr379/FySCO9zNAAFm7Nru7uAwKsIKQHK+BU8NPgYOXhEkckEUrk0OpUQ/ehwQmgnb3trPtDQQEaOFGQEVIVWKfEgc1TrPCubDAzAGdi254okoQBPGPecoj73fe2egP5i5ffvDOu79ll4eAiLdGeVpNhHI0h5u4zzTGPSksUqzhJZiXRdHQ0/8Ih0MtEPwIcQdlHBBuiPgIQhJo1AIHAYawxctcuHCJ/SYSmEQoEOL1KMRZQIUrwfXgocjxRHiQ8MEHxUN1IwiA8ESKormDA+I7ds1xZwgFmRSFZ/k5t8AHckCzbj5vvZsnYj6vx3q9EwfJHRC5zC0s64d0OJ98sDP3k5+98/atd/n35S+9idNhX+n+5n0vsoh+9nXMaMHhU4/vN+NQXJ5XXMQ8Z8kT98GTdIyAOyDxfAt30NwEvgBMvAPHfXhD69o1Yh/2xTfwSiy+spoLPusyHBA54U/cHzwhh5YC0u1Sik/hElldOOzYgUYlSBqcQsqz518xxfnMP5ADOp9NmmnVtQCug8VNtl+ZnuzptkTV/ftHP/7xT+/dfcCnMz7zuS/jDlguEX2srOoLqvwFmeOO+BTHNCIl7sCtENSQiF9gmNWT3ATLNQuww1J8ZAT9ggWHIVdX1gyBgRI45DCEBL/Dpk9beeFuUgtCXE/ysGUPKPBcRiVcFd6nUQGkzNa3WHExS+fVAh8pB8RoO592fsqKdeOgHj/tx+Mp3p/S46A+YQ3nnH02RusyJufG9tzmv9x6+9bdt969t72rQ8QLa4s3VjlteHS4r4fifNbCH/3RjNYzqaPdvX2+2sOm9Tb7P0BoXXwQzO1YNOVBVkzUO8KxXL9+lT0Znk3FJclZHB6xAYTLwvWw5sqWsxZvnDXyrzPjuUj4lMp5nvPVSxwv8iY3OXppjZhQiGdd/igyl5AEOHM953MujGn1TDogBiXNyDgba8/scswC8X24A01IewbmrPzIgN0TOSDcEOX33z9YXHyHh9n4CFwA2zHM5MMD7ekQo2ijly/Cy7+T6aQyQRAOIl4m3UHOZSDpGmiJfdh4hiE7QfgLaOHPfhNfEYLJlSvX8D48lcMNQQKHbP3AGScVTRrztItLCCMIBDxpECAnQUXqWgDM2RKsa5DzVp7ggDzOip7dckDHIYFnHDyt5mkLoIy89lHi08k+q54M69MxPglL06CTiBg6V91yB3zG4vGVBgf94KG35LWMUkfnjXZWUd7P0Ud+VDU3Dw4HeHh97Nad26iqtQxfBeL5en9nfrAyN1jmd8bU7xw07M9v720+2Hh/a5u3uhTm6FEXv7wxp6dOXJLrpPORziLyccJr169wehG/9oDX7vvyL8252Itt7e5e4D0wHs3r29B+yxT4/u7ewd4+P15IdDW3oB84hBBV+3s+OqCfP9R7IcB5OQM4wRTOCAgppo4yap2ubXx5z1kasQBWatexW7t8aoUJDuipyZ4JegoWkEfQo+h4wBE/2KRnHLJDxJOpzGTHE/qAhp2C9n1gwhjlN9rztBsEvAAczL5keATIt/yJeEIbfgcVEh5OkYh65nt6q6sFKfCkjMtg8xg+vBOGl+ESoYf7gudWgSMjIQAI297I5QMdUUa7VLxQ2+9HJQqkqJSmgUZhcpuDMcs/bAvMHNCH3QNPXD4xQmYic1HLKDZnkIn70FJMQRKbQvy4BRsubBvP7ezt4q0GRD9z/eU1vio42Ni8h1NgbttfHOEFdnfzuoOiD4458+vth0d8blVvk+JWOMpz88YLPMw62O//+Mc/5mE/v1fBEUd2bYDoG0H7egmeZ144KXKo8CBzcw/sUJapwssgDn9ELQmd2dghzNFZgaMjvo+YBHxxfgGnyTslfFyNAlQgkKiS67R7jKOUv+zc8J+41WcCTmeBmQM6nZ0+WlhMURrknFmpl7MIMohpmPxMY9KFB3oTnSpcDx6HuAbvQ5lZDBVzmyq8VKwChNrA8Tu4GxzEz3/+c94X44fJ8Bq8hsYPlvHVnjxiy04z20N4JTAhhDOspIne1VcCjusBk6gKrUBIaIZovEwUIIeW3//Azf3qV79qL4JBDlxcZh5HVjjX6Rw6IN1XZ4nZONkImVqT6yZCHQGVeR2foU8EgupjwsjRlrR3c+dYDfFK+ebWLv8W9/TxZqqJKhSUOGLym2hsysgNsc+D5+LxE4zYoiFg4RJvhd/hMyBEJfiFO3c22MWGCT8Q9sbrn47L4JkXzgVXhQ5xPdFbDo6PPzuBwM40+PE+ODgKpGwGBR/fxHYUERayWOWxL178TqqrG6KtKECq4NnfCRY4nX0ebsPT8RkqcA4d0FC5WekpWIBJy6CRa9A2S9lPYapTxgVQ6y/2aA8Ip6CvlnlXXpFLdUDgbG1v/PKXv+SHSQl8SO+++z4Po/SUTW+ELvJmPGERPiibRImtWtPgDLdcIjROJJAEPln6AUdJEpiQkIBz/pAPiZDj+EKLpwQhTMBzwe7SVE0ocDi0y1nhSVjgNBZ+ph3QY3g+9STsfo555jzhYiIgpiTfZfYZH37xRo/RBgcLm/f3793ZXl/dwAexaFJb2CxywingfYiSWHxxCvHunXt8zvXejt4yfe+dd4lEcATsIvHInhBpZZXgpc8XNd741Kc//8UvvvHpT7/wiRdwYbs8+HKCFV4AlwRb3AqfHyPXD38psfQj6NKzLRKaAAKNAU2eAo/HWCrG3xH+4Kr0a/La3yrBHmXHeD7sZP0NkdNRoeYfXSc0NjuKWWyJc5Q9HgeU+9I5atbpVGFAZyyegN6aljv/ccyGcLzq3EK6t6bWLoDEEQQU/+E//IeNzTtMb74HxJJHPxDo031xBFiMLz/rDLOe3s8Nlogz5g522dCe49341dU5vAw84dZcDLvLMTXeBG8FB/xO5MIfA3qvhwNH/FqY4hoE4aNAoAws3NABJhV5Edd569YtYi4iL7yhMPE9dkCgQSWJ4uiCPQ7lh3a3KWbZ07OAz3dMEpdeTE23PAlXQ+RxzcP2a5xN0LQ9oYxg7nKnT2NKnmY4FinTZXQRxvhPI4rcOj/K6uMY8uSGPbQvjvEps86EseXw3uiFCF44T6/58PvR3/3o7+VcODStF+JxK7wsKhfDFFZI4R//8TJojl/cooov9ZAvX+jhRHg/lPDkkIbx9IwCn249PLi3tXF38wHA+C9+rYLnayiJrcDBW+GDoOUZGUAiIBKq4v7whuCYLT9TxjkgGUTP4OfgPHjnnXf+7u/+7qf//HPeI4lTo1U58iPz8m1GuDkaYmnZBol+ImM0nWYMTLP5RLgY1phxVJSmSYOANpF8DDhRvVGgjFnS8SFT29vYjtJWwul/yygtCEP9J1IgZdgFcv1gQTJthFObGHsisynAaYbrGreRnnJCNvyJhYmcJ2I+CWBrwjQ1GsKTkP4YebaR52ExZNzgFPAIRCtqET+ws7iYHWJGVdpIAYRQiopPJc7Pbx/uimRxAX/h0aZpBhp5nusTufC0C1Yg4G64lL84VBBEggNsQcZ5wRMHlAUaD+aB85w+b8/z5B4MtsDBhwlP1nju/i//8i88+SKqosqtgKJMwXO63hhafVYqFng8S7APx5xT7jMfjjLPktTxKKDori8NaobzvQ7uWvu73Fo1PJjbACmQd15zIBZiTcS5wIXDPi9nsGeDe1jWzKdmUb/4vg+Dpbkrzz+/dunyzsHhnbsbS0u7bDvJrw0GuC0WZD70I3m4Ffa8YcFCamNrc3F5aX2F73foNCP4Dx5skvO7ZstLfK/jCq/i37vHVz42OMlIJKFncT4eLV+WPaA87rM/yj08n41EkFPXAp0IolZ/dP4enyOjhvjQW/osO6AP3XgfRQWIJtKsFk2kEB9EVYO3YJsYhFUVCA5DCgJldqMvX73I94auX7+ug9GXrhME8buEuB4/l9LpIWhZggGBMyd6trb0oY8ocPvwDk6HKAmc+KkrF3ix4wJM2HvmhBHb3toRJxYrmzve0avLEOBUNG3Dc5afNwt87BzQ6JpW3cEYJWUf5Hj36Kt6Tm0GHsc5DeS43NNQPWUc5mzeIJsk11GD9hRYCclJFUyfq/YrWZr/tiTnibb5ydPFhaWXP/Hal7741Tfe0I8XrvSWt3fe+ou/+KEWYgcHLLV++/a7bPHwgVfWaHgT3Mpbb/2W3R/2d6jd29WGEAgs6GDG6aGvfeVrfHgeIez+/PCHP+ThF86LNZ1V4HCTVnPahJAe4y0AZlBin5THcWbXT98CHzsH9PRN/HGQGO/M9MdlsNlM2LKzw9cO9QV7QpVf/PJnOIt3fvVbApb7d24rxvFOMzs7kOB9MBFhDvHO7i7PyFiO6Uwjn+wAvrm5w0JqcMiPAvXu3bn3V3/1V/y8GJgkcJCLe+KFDPjIM87Ss2aBmQM6Rz3mWVT06ZZHVXwSd+/unsiotIddoadU9eZ0/4AfJT1YX1klqPncFz6Pa/inn/z4v////jzHlAd6X50j19rJXl3QY/j53gquamtDr2KQgBPvkOLOErOUyIWn7npNnxcv3gMTiWwYgWnhuL2y+kPZGukksH2Y9rP6D9sCMwf0YffAR0I+3oS0RwDDb89fvISn4TwRQQ0f4uBBFQslbTAf6LfbF+eX2A+a85sVa6sX8CA88CJoYrOZyIjYJ94nD8jIcSjwPNjj62VH169c5yPWMGexxtkfHBZbQsD39d3Xzv74R8KkH5NGqINbU3Ure2hi/T+GVs8aPJT06SCcsNtyQtXj0m2aDbuW7dr8ccl9EnziC0Y4u/f9E2T+phAnBzlkwxLJb6sTyVxcXb24tLJ7f+Pnb93SWmx56fnVy7wrRtjCJ36WD/k5+v793btsA+GVeKset8WLaPNzC9ubO0sLyzubOvfMK6jUgsPZIX6DjA0gfnYeyPbW7s0bL77++utXLl/7i7/4C5wOodcer+/XjfMRVUcvar90+yEYQ8hj6RcJqhPksTAcbcdpr6aLHrb3tLyeJN4sAnqS1v2o89Zk4/CxvQhtxUfwwOtzn/scW863b+ktLT7uwZmdu+/fMQqTgiOCmgDsMevC79avr64Ry8jdHOkBGW5lx693EOnYT13ixDNMiJteeO6Fl19++etf/zovl8GcnyHEWyn2yVf4P+rW/ki27+wOSL+9OeZEy4Pbj6SBnlyjck8m/qw356Go45Bh3bkp+Scz+OK09o/2+Gxib2n14vrrr/CDY6+xPvrpT3/OxzcuXLz8ysuv/+H3P8NPPxPmEAdxXCheA5d0+9Z7PPB657e3eAA/p29X85PxeafUhxL7/UuXen/ztz9+6YUbb37la1/84hc/+6lP/+Ef/uHnPvPZF2++8L/+7u93t3d4GU3fJJvTDlE5AeToIwO0BiLDjaFzY7yZIsUCZ3dAM9M9YQs8E96n2SDasgQjiiFI4eAysQmPye9tbPLgnO89f//73//Od75DzLK6rHfr8zOBRDeU+V1WnBHvVbBbBB/yBxv3ALz77tuKmObm2OLhHXp+QJEv2/M+/Ttvvc1WEWERbIHz+IynbDg14inFQVr6+ChQU64WpGS5aY7cO1GhojyRv9P0eSLCnk2mMwfU+m3ak6APOkbPtPGkqfKMJGYv2rJPjL6DgwF+AS+D+3iLcGZh/rXXPok/+urXv/HNf/V1Pg59/8Hdjd6GvlF/+RpU0PF/vAyvmvE8K2cR8WIGyj1RZhPq+eev84l8fnWQzezrV6/xAaCdS1c5gvSZz3zul7/8FbvaBEExGMhP2qEgCLVb/zwFcU3WR7Uwc0AfQs92B3FX/DR4F+dclVEYN4HTYSrigAhYgJCIVnAouBt+Qh6vRJzCEy5eKKWKOIiqNouBLC7IGcEk3sezWk6foIZNJR7hRwTP0fhMPWUQEPTiiy8SAUEIGj6LwqO5g0cmPFcd8ewqgwPq3vmH3n10o6cL592Z7uWz0PY8p+u+FzPy5I7m+HXvyU05awR0zDjTGTD6z5UtpY/f+ZpsiQot31VMuw4O2dRZXVi6vHZh7qC/vbNxsLtDRMPj1Zdv3uQVjK179zgfdGV1bWVxaW1l+eBwZ4XXo/00jd9oVerxy869/gG/xDHcrEETXFIExuPg4PA+JJ7J44xIflSPHL2/Bk5eDenGQc3NTfNNbu/07on4J5PH1I/Gu0s7rWmPxvnpU039HMfTV+WjLfGEQdOqWiGmOOdjC23RkJ9dJgBZXFpkwcWCiG+S7R/u8aT8tU+++s1vfpM4hdiHgIXnYj1/a+xwUe/Tp6U4CwokCngW+LCbQ56QivAH/kRPbBix/sLjLMxpuLK1BAfwcxARNwSFuEwfQKos1eXPObft9KZ81GqIgCY/w+KG0vq0W25AWaIbU0y+c05mDhNW+TDgCP24RX17za2RsZjaNlwg7JSHpA0o0HGe1pPzsvqAsdNIKwKakp8eMwz0heTRxJ15IhOAgo+jF+KRFnUYzvupUwdwUhH++SbOKJJFjvZdQ+Dd8rxb1SB4h1aGoZrjt64WE6DwBv3R0Xpvqbe7N1iY29ncuHT5wssv3Pzq177yhS/+zsHuXq+/v7Z8eYWf8PJb9lt82IdVVE+/uXrY51163qOY57UxOC/yIxf9+f3dfT5LTddfXb26rE8Faad5Y2OLd8Q4HgQVlvEijk0iPJc+hMajfb0O5rfAUBWExGh5MZ6X/Jv+1A3LxlQX1NQtV9j432n9MjYXIJOlaGiHQX7FLAAa2DVswxoz/mlUarSjhbR62HcZ/F19RvEnX9GIyRWToDKO7YnaantNtNQNEatUNeqRg4ipbnXdwhS7T55azXHAYaKVu5xPKIcWbtZeiGlVJTmDaSrJ5L9TWjcZ+elAx/rpkYU20z0yhxMIYzdEEI+4XGIZ4h0eVOEy3n/vdh6NwYRAhg7lzS3wKdCt+iCs+xRawhlCHn5GlYiJTwbl1TCim/W1de9zz+fAtOMdfSkRZDgjtzVwrBMDHwOe0JanXPVB5sVTVvWJilscHLsTth5FcLccPToeFQBetrhUG7TdaloBjFGKcKk3opHx4fBEv6tppsOqEQ2Liw2bh+bdbuYzNVPwp8FH0I+bYqS6XRzzip1bbEGqH/XSfXpoqWbKympidHScW0V/en91W+/NHS5oTbXkH1xeWlkmDNnZfDA42Lty4cWb159bmZ+/9dZbO7tbVy6vr7HrM3+wu7/DbzzzM2I81dL+Ds1bJHDh6/dEXRxpXu0NDlleXVpcPZq/cP8+Jwx56/QIf8W78LwfBik/D6+Qogct/wZLywvLvExGVLTPfZrfdrU7Qw+lEWt0rlXRhlbgndoRqokXjXZi7RhwjPOZaMdYnf1y8qgeiQdPw7R7yLMuIE5Dd0qcCU/BMNOY4abx6qJ1o54ufoN3fUEXYVoZ5ukwCBuTachPH97U64qWQapv7cLHytVuo7NkDOmZuqSP6Cx2atjE4eEUgQwRCi1grcTeDVX0IMELYc7hghwEITm1TJFyIOjoCELKRDTg8/iMWn6guRHCX3GQV1awagPDrBLel5vlmPll6jFvhPM0JEyeKTN/BJWd4IAe1soT7tknkWoIejch3qRyGa6EMx35dZghlxpNtKM0CgoqsOvRBtoDqKkicB3CSCSQGpKMONnQTr5jNL4dtSSIUY+csUEMTnYfqBsb5bksKhYNI7FJKJUf4h81Z6ydk7VB57RfFrYp+gQ7vYXeSy+/9Pkvf+HGSzeXVhcXV9hX5tecd7d2tniGtcYWjj7ozLHl/hHdrHNAhD78rqo+ykEMMzgcLOzxw2CYdUBos7qyxEIMxzY/x4cQexcvrOwt9O2n+GRHn5/8af+g5l/ZMFS3kIa9qb2/YeqU7av0c2fPQhoOXcZY3Rs9m+LnsqWP4IDGZ12s0J1gI9PyYQMaa3aN27VpeI5w61ZPKXfx01Xhz34lFF09pzA4CTxGPnYZSoCt0Z3iSWzPQ11UPdOmY1MbO/O6FpevvPIKn0DksdfG5n0eiq2uLrNfQ4GAiLdOWXnpxLL3jBotUU/KwEFm50ihLx9UnNdzMW45ANn4hkN+iYzeJEXb5FzCAZJcNs4nF0CG5GScWe2TtgC/cVm+idvtPAUaSfVO3vQY/iIvoNJ/ntgNA3CnXH9rVyA/q+DJl8oZdHmvmoEgkOmqYF/nHsU9sELjUIw853eRUmRDYHgf646qMkALlv60ph0br0MOBd0r3nbHDGEjT6ErK7GP3Fyn/UHo2hbmBbODdnwyNM5jtEW30/+Zet871t7SJ6dhjVXoknAgRumxc0y0cuX5a88999zK0jInBllt4Yx4hYIlVYISfhR+j5939g9d0LHyO/psazFwbMIDdXqSD//Q0fo1Vg0A+xs9L+3xS/bEUEvziytLC3zTjDgo/8ClkF/COI32TwTn+P5I+neq/Z+IFo+RaXotjcg87Q7saYIylbvLmGmYgT9KBHQyR2pH5oxbkHtUHbJiEJwyq7lQ0KCx2CZecLgMZgrhE0gMVMrDmGOEgyRVWf4rTxYREDbmxnp4FsIu3nEOxyFdiV3aVkYTUrt8CgWLG97/Tym9obUC3cH84pKfEGQHhydfvHTKJZHOczee4ykVoQmRy+E+QcwBTcQ4eBYSbZRf8Zdc06fipK8gHsBHmpF8wJr+Z/cnfqgtrBABcrAoh8Mj2A1atD89IRJFUofQyYRggn8yzgevjT6n5/MUVDq9MmAuduKIYQSbTknb2j2/8h12WGsMmEQ0GVhB85jwza1EL+kJiSiL9PRlUOgn/dNQbjyruPKXUUYV+RBuRTgCAuQ4FayGmL47gaN3IWsqJNNHiL8V0VmRGPPIDwUac2RQzlmbPGVjbaCG6KzLcLCqXaBWSFToMf9oDh/T0VzyDzu4+UIGs+oZs7SrbGiUO1KDnlRQk5vCQezaAUgxhfdiSu8cYxgOOeV0xL5NbiYcFFxUw3iNgudX119/+ROf//S1lz9xia/Q37wOyd7+7uECx4YWDhf5JR7vOM/xpdU+v8/Fm+/sLOs5uk8VYoQDzgUd7vNrPpyXwVEFDrFuvPqdsv6hfyp127YZwM8vwVflUcixPGHSSWk4AE7COt91XYfbnXSn0XpsJJxAMhyBMn9S/TuJLDHspJqTYMMIqGlGoZUbKW0+3lTQMs1kERbodTFfqcQnMykMS95xNJqCpHgBu4muFGpgBSScQw6kFSjjgIZD0IK7tZRVy3Cva7QgkwMZIzT1MMPbNeRAG34rAKdcvYWawTwRsj1d9OeqNZFyUw86IfuAsCjq3TKFdlmaAEaH1lcjWdg2qpG6zgWajJmCyqZSB7EUYYilpH/1nk2Q3YnMyMbw8y9e5zM9v//7v//mm28SB+m0zrzecYcKNPogUqBN1MMlVQRKQOjc9AWYQKReT78axqiQCB9fpBt56337wba2pfVArPywaghFUltBp57QnNKq2Z9zY4FhBCRfEQfX6UKPGJ3SYEYtOpZhKKW/GZTuaU1TImJQWsxRJqRGHVUZELqAJA0X2/KcwocMLTc7RMQdIis66PkIz1ZCx9vRIe/m3lGyl6lQa1UuXNa2lZ6l1ARzir7FVtDo30QBTI6owTSgnjIui5N0GfRdCjWSWk+V/LJrnsrldzjB1208bVR7VCIPn3YOS3BVqlZyq4BuBEo5dhs7b218a1up2t80e8iuVdQZG0DkupwYYdhTBCCIKyoVHeU1tve2aQJdwycyfu9bv/eDH/zgS1/9AmUgLLgOd3Y4L0g0QoOwibZweOELA+KCOLKzoGPUnN05tHuLKfA+R/uHNPxojr3qfV4Yw/L9QxmKQYDr2dnZxQ1d5COJy0tbO7vxVrJ8uZcUw6oVx3deOgPAzZxlD7FAZxaXXcsJVj3GQ4PlLIljqQW9UyjToLqY4lkyRr3ilgwu41AWvZLnTsVQCLyqTj3jTQ6IRFVDEFy4pMJERQ8jDXQjJ2egt8sURNN0ZQ3p9jIExcEpWqVcMCcNvqZMJOayUFk3zu3CNjfb8O9idvGRzSXftSHPZMjnbuCGAoXWdk4ZeMipbSmiJ+bgjMG70lObVsdXjiEfv+wyhFW77JiuDCMUDrBVMe0p0y9pLDvN3/72t//0T//085///PrlVfDxFOSksJWqVh9CEkss9Fli0JCO+DFopbAi169As4V0oB2loAz6+WV6RUPpi7DlYRmfPYMh3JBFXsSNthagFHhMqXGLrIdwTaT/EKSPe/ViiyraIHdkg4U1ashqoSymGHuGD6dEhup8fZzRLGrC8qOaATJsVSBcqu5nocZBRoBnYavbZUnUaAAl3mIwAe6u8vPMKS7PEqUziXKbM7pWSsg2HKyBJg9tg/hS646FpfFVagZ0Bn3w9VFjL74A8mMy5EloBXJ8IyFiCDPfOkKFqynoRJm/mEG5Ez3AMyGWJgSC0spV1IEZhLgD7ECBKLURpsDhp/CMNdCvuBYTQ6FgjdtWgszhVK3MHb8oYPXjcBTgqRbvK23tbFP+8pe//JWvfAnv851vfguXtD/YPeCtdkU69KtewbKSaCyt+Gmdo31+SV7f7jjUD1soYY3DPX0ZOmlVR5sXeW9+ML/AO/T65x/nwUAERXxDWo0a6A1VgjJFxh4WuCqWbdEYnm7ZsCV1v6y0iNrR3YquPWLRDzMvHXFMBezTYNNwGsIzVKC7y3T2eFDntUJ6t/ao5q9r1bUBgoBdGAdqcMdAXMVGYcWgaTxFKAeUUUJxOFA8ysWJhAOK9FwmDxPy7gKEidf4R6jJC27KlVwtzUQbKlA1qTgirFTwm+cH0FtVhQugmVBTHJD0ILGmKisClh4BiSEb1cBhGAdEBUBrKZw4ICCBU2gDjvM1h6zuvI4DP06tIQhiVrAlNQ5ianhehYGqtctCi/3BP56C2eDqMXnzMk4IOvjpZA4rf/0bX/uTP/mTN9547Qtf+ALnDIGjQIQ2WgrmJiXNRMakjJelEEM1khgH+IWLl3iKz0fsOUC0faClFj/BnEQtiTc21tcv8qo9aIGQF7WrQRq8Wyg4vqV14bPyh2WBxeUauWiy1blX+0mdSmI3kJx6a5mZoyLBsu503nAdnciwami6n7tWEKRk3pkVlxqXfj9a71gbWO9kuvCGrqFGc7zkyBYYt1zySDcKrCSCBHJSyhZKUVueaQsXaS+QlMld4LJqrjnDpkXhWZmIOZgsLU3hzJoXl5InRHbKOtMCOjNMfglttWyJN5YzqmoCQh3xNOewNZDQYW7/wlqp8ksMQEjUyt0QvSg42meK4qTyNoPJxU0i8HfeQ9ljfcjjJcs2gjKJm+8vsZgiYqnHxPv6cXaii2Hch97EVby1jig8AqLZZv7a1772b//0f//GN76BF0DQe/feRx/6llrtHbNw4uZEpEOwhPdUkUcBmCO25UUyAiU3Rbnq0AU+/I+pNh/c5+F9/0AtOuxrR4lfkS8K8zscK4u8cM+PxN+48dzFS+sJfWhL+kN/6j6EGth5jNka3i3E5lLPBkmhizBWDv4YcOKlRtKowSeijQFjlTGgL4cR0KTa8wWjF5j0Gkjo5RE7UT+Mqd8/GavLTBuZb54YXdOnnLmFsxGH0VgmCCNMRidYQajeRF3ljzx4JFSNwrlDWGTVev6GT+vpqhh/lUBAhxRCZHDJssGU2panIM2jT3G7Q+8QYsZ9a92cPtTv+YM4PBbeIZaPi7RgO6CooNztFU8S5TigYXUdu8xOThWjJ5Gq9m/lsEUbTBwHCWnkzHQ2aOWVRFvYgsnDSbzTzr5+7oYwIoRyWA5YDu3C6AQhOoYtm+iDkZ/ZItBgZ4fThltbR6+++vwf/dEfffe73/3am19ly5mTh/z4V7ip3fTIvOIgK6bnXBRwQIKbfxRouZov7xMjyIZi1ZunLZxEVLmul+BJFIYmpODzohkvnRF8bW3uqC9YiNXYE4SuiFZuhYYQU7bLVmiYxwtochw4EQK306JW+uMKIA5ge3pYEZ+Zvyebiw+xFBMloOg0SwslkueCJhtnprks7GyU3M/mfSIWCzVazXiPgDYMUkiE025Z4JvICkgOzkJbDi0hq2kln1rZRZOgpnuY76kkB4ICTFVpLlU6Kz7gGj3MYpZWnMTleQwU0rzl6mk91PN/YlfUCUIwoSViwBZqpwbHnpB8/+fVbqltY8S0PM43ixE1DHGL6q+MpCGlOaoWC7VlfsCXcvh4jgXN8+YUNcCVEOVAjGUfHcTPjSI5NeRMV5PwBt7a/OJVuDE/ycHkrkMLiS+ILLCwzNHr7ezp1wIf8FvIPG061GFCvB6Yi8sr+DW8DNJef/3mv/t3/+6P/+T/xG+fXr/6HNz4BD18UAAlMzHtzuZYOSKOV9X1mI8nhERFR9rB6RMUobg9BZ0Bjk2F9xCW4mN7QsVTUtVd1etdWtbHXleXV1l68dOqasjCHB/94HcKf/nLXz64zxc8OFsELRrJAPQrKbuFXOrCCSb8jcQCsQGDk9NbgU/L7UpLj07DKfCIYWN9mIaaBFYn3xAD9TsXLmJQtazMHkDpx6B12zJCOPIGnGro5ZY6k6zBxgtFnm8e43UTr7OCGdEfHh2ppnLzCm/WF+XjLF2G6aQuRLeXmrq1KWsmj6Y2VwGXLi8db21cDs/wBUcjwN4iG9UFIurSALwCOLkcamP+ASYfOiz3LSyjA7WRWLe9zboyB6cxV+/2ysmjMi6NlnIaqunEy5AOcEwoq0aBUkhDjY3gUDWE0vbAHT11EYIGDpqQKNAKcpKYdxx9V71wIJdu1dFAwqSCYXayuMShEEGgOXtSJBD1xw4I1wktURKuZ59vi83xG+0rvNq+f9j/l3/5F0IS9nr+5E//7R/+4R++9sbrsGQjB0zQJMWhdBwKCyYUgBBu/UE2bxRPsQkNvsTR147F2BEHntg58JzzFIKTOSvquXjhMrtOL9x4gfK9B5vkly9dBYUQjPXgu++8xzKNtoAPEOn0WGMSe5rfhKyhTaibBAo3uneM8LiUMYRJzB4RlmaGWF14LFl0mTjHKp8soGufYoH6IHhUMGqrs/SC+licmFkZ35xGMBXEV6DiAsKLoa0C+xsqlGkGoDEETCzgWg0pRyWiAOJIRCwpQ0y1Iqky8Ozy5W64AxZ8xTtsWTgKE4hUtoc12kjk5hRluM69SlOXBYq9pBYIvuEJH87GL3kXwhhmFKdF8RKNG2ihkud2ACRIXIMreHUbu3ef1Gl+m8oKqjzf05JNgQfwTsiXMDt+jcM03OTZwAFHE4tJrrVdYjY3mBZ4oiLWSbXgKuJw4gODWl/7xA3kwOCseKq3zzznVU9cvm6ubMiYH35uiR293tHqEvGMP8C8urq7u/Xrt95+6+3fvPLKJ3ja9cc/+BN+JIfPy/N5sM2dTTFEjJrCpw35LqviJsIbxBE94RT4sXggbKMjiUWi/h3so0nvyHtA2oxWwlPlcUTGgyzP0Wc+m8gzu6P5w7nBNt+o39/Z3d6F7fv37tGumzdf5En83Tu3N+7f4w6YmyBS4KYvJeJb+Tdn9227A49ZlHe2C3g0J30yhtQX3cshhUrZ6bN5ZeLSCQUHyZTQtlwPeTbAhMKkb1R19CwUGWcavenabltGtZgg4hhoqGGtKgOmXpa/gfrrBGM1Uy6tStFNyw4vMCbg0sBorWGreRScVuBSNYbmb5k5FTOjWWiVUUhMoUzkRiZnyHdqq3fQJJSEOuBEMnQN4tHGRCkgC7k5VOT64oDkpJzEoXgLXXMBBHOMwRmhQITgWgoxWYC1a/lbxkEpdNwZkIacgm+5xYz8lLnE4wequRKFoVuDRE1H1hnwIqA2OOHG0tj+Qq1DnnInEIXtBEmUgRCeXAbiS7yJfoUiH76gAEVcGySUWRgiiI+hUrZqPDsXpNTOL/Go+61f/ertt99mcvO4/fvf+98478OWs9yKPEZfBc4L8oSKZ1T5pOGiYij8CUxcYHeK10/3OUIogoGcjhVXpjL/V8zcyeV4XGkElVCJ7ScewMNgYf4+su49eEA0hByWivyiIb+bqr1qorY9r1IZI+4gCPPkEa8nu9ROp2CxNgLS/bw1JKAETdZ0LCkNWjJbMBugFULV2I7Bp10KfoxZ1GskH4HCRIu1drFwr1OlzivqGAW8Gxizlssa+TvqaWbTVKRHyPkrzNLNFHXJyObhyRAuWKElxBeRcYCekNiqca2weRAUTNGm6HuflxkMn64v9w0e7E67TFvXwmMjyZeFqduSZ3AxX7aCuKsyXDWNgVJ2gqeorCPg3qLPqnAn1KrdKnrn1+bUJYOb9woKFX86SzC6Al5wQgRbB4QF1CshVlKk+YIXqhFNVEGlntQpfFR/iVA7UHxHkHe0pJW6h/9st7I14rs07pDnXzgXqAbzS0QWh3P8Wg7xkiCHvdX7D+5w1u/FF2/+wff/zfe///03Xv80P7BDUIVjYsJrn8ifENs/6ONiEEpUwhlnpv1hX5e82WV35sbbHS/4/q3tH6JLNrmFql/UYX/IjbQZ1Uwmv93uwCFfuouITW4Sm+s3efhVQhTjA/j84hhPxFgqPniwhEpoHt+BP6LMGzgUMAz6sAVPLjeo3TGZg0uNjcEcSgtZA0A3CZUli8UuBpQmJWWkjdwna62mAJaHn/ZJwYebGJU2ce0WjQxF0warSghh50pFnhPAR70o/TTCURf+kU2DZc+pqWqIYcVASYp5ZFWybKGUe09wWl5xhnxa1VghGAxEWdL8i5gxvNHLEgE11BQ0xxjWvg8I4rJ7SNRdZMqxdRdOWRyc0tTjaJgD/kzRSAkyeZNSyXl8LcvBwfjFIFwmcbc13Ohudgin5W0PBfJpOAhrWtXelVxIgI8Rdi9V5n9yD49ul0dWIxfOaGoQCghFz5jC3MS1oVPOJXlwyLXg6FhPHKwtTooCQzg9Alw3BbdCTcsWo0ZBj5CJvRUWETiUd2+9y64zP8T+B3/wB3/0xz/gVy7KgcA61sHEZ4HJe6aUEa+p7l/IiJ6Is0SdddaAxKn1j4hfBn1e5qLfVT7Y09ul/AXAIy0tGEGTy9A79N32YntEgInQC5cuEAGRKKMhW9GEOhQQAQm5jOFRcXikb0tbDbk7tOWbjWECJhDQtnf1w6q5RFO0tcIqyLHaeYUtzho9s8JVQabQpKOMJuRwtuRyZwKC6OjDeJA5/BtqkQs1yLpJOEX5Isi6Bd7y8CncKlRUnkcBWKVa91T+0sYmJyWCXinZGYoNYWKB5yu6/3AEPtVqEpcYxjeJhfh7jVeMVRwBzINGQWVtkVZyoZC0BQ8OydGC3DdlKqyxkHR7mdNx+7AVkUmqIrrUBpWSCFmhMY9wheEjy7uZS9oJMkMhFzVM1CnrWncA0xYXFirBrZhRjKbL4j25ZtCQM54bbUW3VvUiPSGcRcUgWACquqAQA/6nVq5glCRxFrUVoajdGLqgYzWYzEiarkYny13LPM05VaxaGPyULVGi1Ybs0eq5kpZIqMNU7/sZzdLaxYUVOri/s7OxfdAnsvjt7e3r169/9/t/+L3vfY+5jTvgx3YyM3OThzOWsdfQjGVBhmfjFDQ8tarRrZ6MMPEQD7OzuSn5/T32txHL9zWW5vr7u/z4xb3EU0zgZX7LcOUKJPuH+wt888f2oxF4Ys1YNdTnPdVMTkJvoiRU165duX796k9+8hM0uLC2xjOyCxf4ouslRgua0Dx972FhAf3Tj/3+i2gOLxJDm5y4STr7WRxOAVm4WrihdkI8avWL9vgvK8Glor99nntyxkp8aJm2tA4OOe+Az6Kl9DT+ZsDkoa/da/j/Ix7TLcirIh47zAPBSro76PagTnLKhOOOwJWZz/HNa4pqNn94ACzHpzkrTIa0KcuTVjsjuyGEhN+kXIIFb8PISGVmRWgjK8OxXddCGYTHpBR9pLy0Bh2+fijcRRVc6xWmC+1X2VM3Q1Z1smGSUWtt4ORFvBBHJnCGfKMWZp1vsFPD26V5RobZlKxxVpVhBcfBJ0QNgTJVozp3TFotV9k0B+T2VjWG3KoSDb8Cyjjg0mOggLtoKSfnOZMLslvHAWlkA08KC8ouDHXOJAFIVRQLDnIpZNBQ16oYyeYwdEDBB4FE2QyL3Agl5zG2cie0Aic3cN4052dIt/YP2dy9du0FftA9mz7gANn1aUdu8h7fWhwxSxHBJYlHZ2HI/GRhRZlpSWITGjQjsCFjN+ozPvqhHXjubjJjM2nRgaCGxRTIbE02bVvBzZGtCGrgPxjc4XtDfH0REh7G/+Y3v7n3/vtsjRPjwGptfQXMZgR4olhaSq3V002XAuQyWrnByGh5RMBQtRR5PiIjuO1ygsBtgdWBHhUS8ZUwyg3U+/r4LNTjksTZK9zrzp72pyCg9uhImpPUKLu8JX7OiJ61k3KnYVj1Pkk4TuEmJ0Wdv++X2mDosQIuyfg0sDCvtCf8bZhdWcfxK9rQfQRfQkf9QGhpBVWVp3QcUh7nzlD/xhs6aJunTZBVSnlHyvHHAeaVi7FYqeHXyekuHM4pDQLaELSyZ2GNgq8IqNqaSBZNci4pwDaBG04rqGF2Ro6MSm/V2tJ+X+o5SBpeIyBf1UgkJJVQfZxyK4Q2l7WNZWSnqjCnFeZZWDmuzKMZEOiScjLIja3i1IVsxZhDytS4z6xGRWtRmN2Nl2ZUDQ2btnAq3V1mbtKQJHa+JQU/VTrBxMdP2Zslaad7YfnCJZDv3NtjT/doST8i+KWv/WvSiy99ilqWHswgTgkxhTK74CNSL7v6+3Y3bEQxUQ/05bG5gd7tckxE5CLHxD6g8h7fJOttbW0QvGw/uMNcxT2xfDNyH0fAqUKONQJhOxwR/blVcrwotIM5rfIUBmAff0VoZVnxzrVrz/G8nwUQrudHf/M/f/jDH7791i9xTFcvrROdcfJIzeMlNamuSAfFaSm7PnBWgVHkXTDxhXN1QzKdrM4CqgWSZS7EEbB+Mrl3qViVOeGe9vmiGsl+CuZJVOY4KFEVigSZ01VY4MHdDbTCw0nD/X2Oeuo7R/FQ6GYnpXaTzCtjHjUB5okbe7ikREAoLCxqxEGt42SVILl5d/azcghDVU5q+6Qko/iJYVMpmA0/NuyS+kmGursBCcto2hbdndslolKpZZZWOVKRZiivelAAjQzzh5EgIauLKeCFtlBlqsehDLmJ0Ajk2UiLI+AK8rizIMBPqHUbT/o4SopiIFe04iboDOHbR6YqebSq6qXjuFI8EgRdqCijN2QBPa/GIIGTG7+59lyqMnxU4L0xjwAgcmPwr25OtZk9HaGyB33hRVDKIqnJDHQZIFpxF9clq5LOzWcoxbRdDpB4CkkK8NauHJV0YD+3sLgqzhwLcgLtxs2bnHL+xrf/t9dee213T/saGt92iOTMFk0YFkosSw5ZXrFQ8SFMD/F8sIUNZo+/tE7zgxA8HBDyzjvvEKQc7m5Q9kEi7xY7nkIWDPFBa+v4FOIUjb2MZMjRM8EBtuUS6Zx15FP3LBX58jRuCGvDYXVl/t69e7gzONAjFMCEz/KSji+W4ayYrAwMPmFAq0mykpeqtFX6c7dUiCdXSxUJdtiTVklznIPgnh3WE/Vgwm4+ErXpZZubcbgp7IJzuAnu30c74hQAyWev0vycnCJ0wsIHevSnp400gUUgWZ454uZI+iKbfjsk39uW/pDALG4U7RDCIw7Jyhypox0dJD/eCrKqqovDDDSS1HMSNycKANrlkOCRSuUpGMaDHM6VL4rboPGdEZxAsYwCgbhDmMrVchaQq7dgEj7dRhpJk4dARzcYY43GUxiUzlQOMj0a55e/KMihE8ipcv9iA1iAJsbu/SijaQ/EChRWwlBsJVixnWkNVmcAdJmbPX+HXoaLVIlU7GlgENOElIvRrAx87Ch9RkkOtlo1Da5tEqGNoHpdOLeUIqC2Wo4DBY2jKAD2TVuRkYqdRBgtC7wMsmYNnayhqpw2kprw1Vmhfm956/59vur80quvfuNbv/+1b/yra8/dIOQZHPH9Zcy2xHbHfH8XTQhPSAp3VtfSF1vbrKR2eQbO5YK+jEjAoq+FobGU0dZvnx9+xxA4HZZ4m3d/yytec/0dbtPqusN98NRCtl32j+4PdpYWdR568cIFb7lwY3S/aeOcweGlWabxon5fjBHIrNzZRdXD689d/vZ3vnnl8spf/uVfDg63MQvbcRxy4kASv+jjkcZ41W2SWxFzEOGkMqJkDJ06I9cU5p/v/HH6NaYIha4o0QuyrArpEbWGl/bpyWxUl5HjbWxPWCTqcSUJKeoLrJ8WsVHKz1CvHs1dooFZIV6AHCcvKV4m59QbsSFeZleB1P7An3+5d+c+DHmlhoTbAhlfBWSP+JJ0IHdZnkvKzeluganJonyaj0noOLddFiBJSaYqhkjYUocWmEwd1XLDVVmmiC3xo5R5RUA6eHnLJUkOI+M316N5jYAMRW5cBhrggGiSjGltGhVjRYLjhjpVRWlDGpMurcv6vi+M4QBDILmpNeaClMNWqkUKrBqyAFikJs+m0riYLzybAzLyUP/oHGq1wTrksnUDhS68K9Hw4WSmClqZyAVytBNTHy7n9Jzhkh45GfoGummiyhiQKcy8wUsB5LQLzpTTdo3bjhGA5/4WblylRWHoMm2SIDUtNxXvT8MHnN68nj1t7emrhnTNZz7zGX7QnZhC66ODg+WVS9QuLq8ikQJLnqhKrwEhRTqTYW9Hd+ydjXts0HLqB3LGPcj4FdCYCEjfvH+PJ2ugAW8jhDII5CRwoJI7Mz6XJGSoLbph9Nj8pcyeMk6QQINFFjmErN2A4y7ZRVpdXmQ59tOf/D18+JIKDPmOvcRxBJLvUvNpNEaULS/layCAgeCQhx62lpY/KIaFSCk3PQWynaGigBmsqZrAryjqD97OyUVDOrGSGoVN+OoaUcxBabv5DMc2l+KD4/dGGzp7dcgQXtTvpvENXMI6u4aXbn4ChjggMGFLXp7leSsdB0RQubu3TdvZpsP44AhykGWyWKRdVImn4zsgSdIgJqjNMX9RyeCxFBwcmtTxTKXdkv5OSrRs2FBcsI2oD/uKae42kuZbeB3bdSkhu+iRvBhQxEUBiYrxgglihWa2KtSXNg0UnBahgi91LzEu4EQfnGGxKgJw7xNvNZAhWBoJ3RABHAaAc7I0C46ab6BhRNeKvFEZqCuqTAruXH6bgSrHdOIjiU6ZHRBAwswFplJtHX3gqiEkO/6R6PlOlfThyY4wfZKykVNAx1wWkg5zoWvdyD/pj3pg+rR4Ial80vBEW6pKCj5TFxGMTQ4H0UeSMq9PWAzmFhlMSyvaZ9nc5ZM8vVc++enPfPZLFy5d4ebMAoFHR9x1t/d29x9sQxWXwRgl6evNvq+SA8cI+7tbgvALYLwuP/CT9QUtGfoHOyIc7N2/e/f927/e2d7qHe2yUtPpa7cU6ehJUg8vaWAN+P7GwXZvbnWJZ0b8oLxvoARRaPT8Df3e4dKy9neWl/nhMaVBr39/45746Hc0BisrS5///Oe2Htz62c9+xvlFLYj4lBIT2FvI8z25v84XFPS8X5roNocGsiHKkGMC4Oow9RCTzTvo0JbxJjszJIWCv/GzXtnWP3LP+3oq27u1OWK26Z2yVYyLBojOJXW2tJFJ1eqyZicFftlISzDM7v0d7Q3ZhaHDSm8ZmViOF11w4aLzgpc+UFt4peYSgbO29kXl8UNP4Y8E8ec9AQLBX+feoF7zHpYVVstkBe/kQqLet9/JfQI4l5ytCBBWWEVoyb0MZB1LNcEn7s2D3Vg10xKR7skmNOwqXJalXCxsuwFxUhWYSo6DhKZkkpzTK5BASwyigeh4ypNKHLscJNeOAw3ScoiZfeBQowGE63PLAxG+pcBTijgFGD6lXCM46Vfwo629UmZuhUdu0JqUAHMZf1zKalzh2QqiLU5KQ5DxTGYnyDiSRnFAwY81YgbVVTVaQQI6w90o8ielYOmNfxdIeWiQoFlM7lRsVIBw0Fe/E0ow2rgkumHTh6TBgOLeG2aYMs7ev/NA0QSh0KJ8Fi6GjWcGIoG97qtOOliIH89n7ee02bzMyy8LC7wWBu2Bn5pzeFEN8sxkuwx8EnoKKLD6hZCXXkYEq4n1ixfQRL8/iPL8puHyMpEOeuKArKSCd7aB2LjlqTxlffGMaOjyOi+I8a4s0dZbb92FG7I0bfxsDgeEFCaVZDtRpb/+1Em2HawM/Lx7Ej0dfsBKVnWcC4XLImUQQEIBS+BPKLMEo1Z1aJ7QRcYm6TQACKlV60wr5cGXYy5VogPiRSpySRgayGHOJQXuAwqDXcFBgLMckMqKrbBjugbmvn3QaE8TaTpHGEXOuQZJqTOOgptQIChDirOmIHxPQPV8jbZkWA59+EBpWIECZHvf8aaPHXBvY1dud/+Wfo4ANkPbw3JukYECc4a1xalStyHuSH3HyXp1yCrTR0x1xkmZYExgmwF+amHBkcZ2Yh5mlIuJgctAkZH3KcyWAKzxV5RA0kqyy02w0t3uHjIpjjncSd510qEuTfT0uh0ZCCYkFzL6EHjXptBY/VOFU/QMecQ5FDIHP5EJQpArW7WOspOsV3j5QSlVSm6x/qBMWXSLZ1J1QKarUVthIoXVL6hkZBUc++gkdHCAu8ADkI702r02WWEmJrKGu59Blq878cujKyvzSxe3HzzgV/9uvPD8a2989ur1m4dHS4RIQHhwvL27hdO5cOkin4XUmLNJ1Y+ObjjyzKEUIgs8AWhS2HHNohcIS2wIHR5ubtxh36d/sIWr4jOHKOTVJKqr3BLXbg4bL/TREb+l+uAuX0PU1xfnOaFEH/Oy/fzg3vu3+Y3VhZV1xLEwJGP8b+3uHPS50cMithLVZz/zO+/fuXewK0fG3EUQ75ZhBN3P5W0kOQbMPZmpLXrBNI7IcdEeTaBjUx0rL0MVZbQRx4qP+VuWIbqUEM1R/1F/Ed+onBduPUny/A4YYkBIgTI9SJk37DS/MtbdlNJhGrd8jwkKvnWgP3KhJI8EPA0Q5jzW5umeyn3tRq8s403iMVQpiXZehEGGllFEGQdGrfix0PaIFXMrKdUKYtEZfNA92yBBGT3EDDLRl8j8TJAdQfQ5mtcnencPj25fmH/vzvv8SK663VjCdNIxLQoNqGkTl5KFj2aZphk46gQXrJaAWS7BMzjOdf8MGpwpZ5oBYbgQm1DAEZOT4JmH7takMimH6wQDJ9woYJ2gkaeMA3I5716psuCMOyAJEit1ZGkoerVyanMZDpSTVFV7wG0ZUoHQIF1uOcKiEYMP67S0O+PCnPM38JcI8RoOxwADb2UKcUAMoy5QaKYdAwruxtKiFMiRwSVfC6MMFfrjVgg3QOblhpdeegmdGcaCGxMsBhCPpeg7xjThBr/XTii09UAbz6CBTzgPGkAumT8UvBTQC1y4Hl7UorC0oJVaXmtMrJ3JAyGiReeCxDneQah+6bC/pMHd20f6wooG6mF/F4eycqGPi7mwpN2f3IpBoF3kuFQSmNdeeIHf59jauMtCbGf7nqTkfpNFqMuIk0TfemOlQGg6+ECQjm6U5Zqwv9aJJWSQYkCcy6R458QmndgnHcXAFQef/GbtigguklNI20vvz/GjjWX2xcXQdUOJvhvpi7rqNW1OZ90YzQHK8j7ukLfb1DQFQdSjgGOfLMHMJxDUFo71l4p1qDSeVnU4W7lUN0rr6pZ8ARw+uA0KTDKyNUvnZkZ550DOSM8uttqOV2wsdN5g7vCyrdiY1/yRu2E4qBajyWSa2PhIxSkUDBQLRUYezWjlqahuA8cp2qM3HMovgmdyMnhAQ1vQdPuSGHUqCeK0MCwSaVGOXciDlw167goZByZNZ0PdGjV0OulU+AjTO1OwUtGQRpJL8qS4yBqQm9YkqAOChcoEKZNjnehJmZ7FEgXHBUYygqgipb3sYOaSPFXRqlB1/mQC5wlLBwxD30KaMh5JDYGnSB4caipj1k941MFzPQKSRR6zEB/wMP7ipWsrq5d4SZ5W5aAQ+lCGCg/FyRrmPMOIkzsHOzy3GiwtM0Aw8uDiuvaD2UwgxiEMwLHvETntsDK69+D+/eXFwRrbTD1tcOKNZRn+19yWg2ZOu+00oViJfqNWj3EGc/sH23v7xOfLDLq5+eUBSyJeNtNuBXYaLKwu+3RxTyJlao48L61zpBtvx55X//D5mzc++/nfubfx4N23tpCeaeM20UUKV1hcaPRJNGczM+Q0wuFGTi0+KyONz1Iak+C2v8hCk2rv/aE3+ghb7oBc9wizk0ocNxKmnRfPqTAaH2BX40nMVscvOID0lCe27vm8TMhDfpsFTvM+sRQU5QwfbfPII9JiuLlBQhdHrS2VDhkRi8tL6JYfSgg97tQzRbcfkKhl+wsIbcB/yx7KCy5lxpsw3TVsF1FOHXMhBSABgsyzpXJTcQ+z7w//eQIqJsfB0dbKIe/59Oa2EBAuKTCAFDk3dkseypmcjC+SusEISKKSst5gjMWrQgyWhhOFgiBzea661v2qboRvaacmhpsnbZy6fACUS89QWCUNzVR8ubQCaAb8zQAqyBoGTtSmUHjaY45VcQkaQ6FykwI1RhOfjBILgpuGTso4BTBTjryqhmwVtOAzWeqliKHiwW2jhYPRS6bGuDnJ6Q0QgtxFS7lLC35DgKNIbPMSI/fFZ2l5BTjhCcjP33j+1Vdf5RESVGljCtxTqQ1OIgt2fxlYKz4K2F/SBzdYMNGP4JAvzmnHh6N4XJLgz14SHJgcsO3pXssn5dXG0orag0DSNLaBKdgkxHUKu/KrCUfzB3JzdvoogJT+/IaYLCjeQXTI8ZLLeom3v7m5yy2Xd/d5i21n431OXeMywORuK608pOWAmLgZk/XmJ+kZSyhd+xdgyuQZvLESI6BJhypACrEz1MJ3ot3Ijbep3DzhR3scXKgriUayuJkzbVStIZqXQlMVA1llR152SyIHQtcIbh0okGAgJiwEtIwqUhBBskTJimhyQ5WJBcuXGq27SmNcdU4hUetyurGvUNQ34h4rc+Crdu4UgjmW88m6woY/8r/keXFOognvXdt5wMw1cBwoeZ1O9oiahNwU0xjz8WlgsNgn8AxQ05GhgJN1gBVR7IMcAZXcXtpW/mXSMmqAYD3LVecWi1EwE/4qAPTQgFSK0VpHFsJVi/QHblFekHLHE30DCl69beBA6F8x9L1QV1JSqSG4HJ+ldqBmmIAQBYPMWNW1uWHaUAHhgzqCmyGEZZx5KADLmKDNKEHILVO5zZUnpCVFMS6oKiPJk4p9GoDcTjTsWAVjBR2gIa0xvYmJ1y9feeX1z9x46ZOLa3pWwnugmAn57Puy7CF2QOcD9pXntLfy/GUOK1/hWDRhEc+88DKHBztyQ1CR9nfYbtzcvrf54C6nkNl24f0vlFFQRc7SD/GKcdJX3Og9lJlB2pZiDGAY5gYRmRupPmW/EwdH5AXd4YVLOli4dbC3QxjGCBr0F9cvyhTuNdYrPI1eXdLJQ9QHeOHi9Vdf++z7793a3vkFwnXkaUmLIHyUzFXHg8zV02ZqYsns2hAAAPbIwcukX9T7tICEhcjL7cXxL8g1KaygHAgOzt2h6iw2eIPDvW1PbBqz1eCUPzTnsPJ+qJoyoAfoBnk2bZkz1cxTWFmYx3+CmvW1hMvJlASarrE3+N4nEhNtT2lsUGdza5CMJsWW6iP06lQUHVynmepKTWC7AT6lSUiMnbgN9Ad67LCyenFlVasc6v2mnHhBhH34p6W1eSijSB2oWIRWy6OXbwPqDo8E/gcNnGxrYSuaGEiCJ+YHOBZAgb+ldZg1aOQwCB+X1TECOTdkWA6rgoB1HelwaSfjvyZEh3bzETQM7U3CwSMEtnF6thkvBjqU60oshCaPhupAuwxGY2obfhAARqvWBAY+wJokMVWBlBCzDlaq0vkNJ9yCjHAKGc3ACXFB63IPWuHc8YwhVCeTLIsi7aVH4bbCs3deUxjowxow5F1Tjv9wkpgqpER/Dw51GY5KPsMJd0MQsrK4ssTWME90+CC8BrQ+OdY/3GK757e3fsvLHHfvvAsmm6Yws+cMdQkW0EpGdVcixQ3n5ly7xv6VWQT/0ny7ft7yIOpZWNoVfm8Zl3dwpONCS4cDvs7BjjRwmLBLxcFE+Rl9Qp+WLvFb9Xdfew3d7t/TiWGmBtrggMDXvcJJgmIqO2sqDAmotN2jReXWA2Kg4V1mb1gFKCu2jnN70xb5VxvZfMzfZFAFgRwELgOJL8KTcFk6MmKO5VCZgzo7TCgATA7EQFWxWUUeBoLWMhBLSc0wDzCs0q6QkKeqi9AgNhcc5aI1VIilJyWEE+Fq2KE2oyUenR19DMLhAgVEvLTL9J3TWQnQxNfOtr7BpCYlDuJmERwroUaW+5jXurjvKIcaGDN9p7x6NJiDIBzz5xIA5gqQOyQqolXpNDvetAhQ+yZsu3mIj+xZEkrDLlKtAPByN6NEFfYVQqUhlvTDPt2jsgsWx9FwwEy5FeCTNTAQtV0KqFLwmiaW2zMIaiEEV5zKsOAvXaBD++IhTa1lZdj9CzmVursraeQlSg2Ez7yDoPs+Q3x+dXFpbWefLw0urKxduPHCy8/duLm8yq99KYqJGtBTUOTCdoc5HuzrlO3W/feY+3tbD4ieLi4v4sh6cwcscLbu3+Lj0HfefYda7ttSmIfiGj6OlEuoYB+kHyaTrVBogApSVNbSf+5epC6xJcOvodkgHHFWu9gXwtPtb7PPNFjiiRUvJczt7rF5oUfJF9Yv4Sh5pZ1TS8TWPGLucYZ7fo7XMS5fuvTpT33p1rsP/pkT2WqNLElIjsQs6LhEIv2MFBTjtp0xyZBTL3j0SkknY7YyM1xlq8nwDlzjPOVYnl7wjE8PatjQzYWFiGNwcsUykujDh9RInawz6FPd6eM0xUe65cai7tHQBUVxX50fsiWsMh+0OsM/Kd5kx9lVbJir1cBhV9Qd6tRKKAAPx1xx1m4vnEOSZrTGWHnR7vG4y+EQm1LoxikkftgESRlIbZIKFQfkW5zKMCV8ocCqjJxHlbibOA6HLLBSouVgtgQm3Sa4TQmcciZAjJsuZAKbJNpGE5vAfRWqQlv5wFnMnVrbwAGY4DVlbE6BJLs0Y6g5cpdWRjGdeJmzCmLroWBCLptNKQMDIFdrxg6AaKFaHW4mH3oW45uqs1HHlGrI4JOClnI3l62dQGjNpJB7Tq3MXz3tHhm+nWrISeqNmgo3N70csdNoYFQouAh/dpeJfbhBmTj9qI1VeAjHuyRmK/1xLvvb27zJ9eD994hHFlkZ6ZM+eq99f/suDC+trcJtZUkvf+7ubcJhxIgZJ+VghyeeN3QzQqQYFnCkxhhEB609SDkc61CdOcbSj/OG2JZXocgRiib8RE+GMZeoRN+tebGJGpR5isexoAcbt4jOYKt+sQvIHE7rkEOBoZR+h48uAeg+VUwKUPpkLLnUMmHW1C0bVnYVKVNFMyuiFimNGcyjT6TI+Ohg3KYAhLFSOFR9zKcxrYUxWRUsDmLo7f8u54bQKQy17aoNwthlSJo+mJ21sxRQ0xf89khbe3XYu6jdayV1vCYVSW4Hn6rlL/8xLDAcowFjOZIQChDhIxJMdxAfP3E/ackGx8IUVDiJvWxZYyLvrpfOFDeSLG13ARPxAUSegsuyBYUI416ngjkXgwa7k8flgSYq68NfyiSwoE4heaMrUnydO5jsIH3gNHQ6aY/hVl1RoA4Pa9Dw6iUmSJNKWzyOAEmTIhdaNaG46hKZpwvTu8lBiEoUSFJipPvFIYkOqUX9BZEpSsFRjK7RSj2KxMU1xR/zC+sXFq4+/wL/VpZ58QqvRC03PPw4mur+7z7gj2cjN09+Y4zfEVvura8tEY/09rZ29ja3N94n2Lh4RS6M48mI451QnkTNr8rZYRfklpbaZZABsWL0aU6qpBXltgSVhhrntv0LH4lZbGBU4n2CA/Z+WBkySPnmLK1ZokG8ssZeph8ecZ9lYvMDH8veUmKhtrY0d/PFT3zqU5/b2TnYvP8uBwYWtB3hxtIzbi1BJkrq2a8t5N4r+qBqEgjq3xIRSucyqmFR3QoQG00UxaG4l3MbE5RAoGLILN48VpN5mhYHZ2MgyDxlebY7YkDrHLliEaBUQmpZ1RbWXAKUDoaXccUywnGA4Wpv4FxOTOo/GOQ24OeGoAEjhTmXTQpl/AF5ic34GKV8HJ2InIMer9UmGAZjNNVzQKANk/hm4mVoQCKIE1j8TZ7bDs0PqTgXLDW+FoWsqAWq2n5q4UJeR6eHeGUbQmpbGmuz3WKnq6shGr70sSyLZoCotzQ4nIw2lMjlWE80caIajp3GvhTM011ez3/THDXTJjJShosdUBrbUTWYdBriYkkKUCXvFiIvymusDdE6w7Hzee/gJ57Vz/jUwcqH6EmDRW02E/VwsPgTr77Km19IB0IyoeMjT4nohkdhegz4BWVWMf5heBTQXc5P0DiazKXGsqMPWOFdyJnm2CHvx4NAbYYyYBrCZVFSY0OtoBNauzx2FX2AhjnBx8CutbVtotxN2E5nW5q2qGF+UsNXScBkEwrahRUdk+O0NkvFT37yk8Ruv9y5Sy2KIS/2RK77y7dS60ENONi4KQlmaoRpuKpRw/MxrAqpIZWzYCHNaOcSwsrMtYlJvdeGOGr9ETVVySV51ZIw1IQwjq2EkESzaxHmRc9ojrZQwYfuIKcsTC0BKQiztatx6BYy8FniBghy4dBBGoWIZza/G380ga5DIYNEkQAZk2UqJgCR7bTcECv+p5uHxGhC7CYPLixVuZJRZhwNKU9y/mqqu5d9r6Xeww6ICcUZ1WUgPXLjSoOMBMRMSqGNAHZ5uAGr+70UogmgBbPdTxok8HKkwNAi13rDxGwlCHYIVcFyjTvMUsUzGUBdGwruJTStxM9VbkbTVPGASTxS9svcKL0nXPxZOOtZqktWIQbRzMylhFbbF3xBynAorfAORVW+tKU1IM8NIdAocavnF7R7PL+0zmbtwdHC6sWr167eWF+7jAE0QN2dIJM0FUjuJo07HpcQ7cKaZ+2cfp3nQ9ZQ7Cr3r33xoIzAl1P1uB8koCfHF6piGnBc4HOAc34a6xG/wEwSNBwzHjSuJIHzuLaq78AxAvG3NfIrvn2+EYhGc9pL4n33lWUObvPrizze0v2MdXCemmnA6OHW3MIq+szfeP6l117d2t28zysa+lU0WVK7KrAmJ+JjjOVFDWIcVKJhMFTgLz3tLoc9A0wJYnRus74Aza50EJY1f7dVVhCVlz/+sUb8soZApqg+hAa7csNjuU0o2vpBvBkbcTGoB39yEvDk5iM0EmVy7hpUZkHDA/Gy/ezpTnBJ//E9Qo/e0LiNLiYLEz5dEf4AM/raJRDLLzQoRYnTFnaktoqW4HqcmGc4ZdIW9PKH7ULNdnqO3G3ABn7+5dFAq4OQKtBSIIcBntXa6O6RiuBTZW4xrp+koIKmmyF2IkW+xBa5jXmp6vgFxIEooZ7StAqcqklDj1ApRhX9KHwn5Jq5pANAYoFXnNg0tV37Cs0khVEVarDsBgmczbLyjAjka3YVZcTH5gcY6RTCsymTodB0SCGCRF7VRgxVJAjrFk3hFDSqUigSo5e7mNe/qEI0CXJOymT3h3EeuAkreeEifNqY9TytDSExxf6+Nq0ZA0j0HhJvS6i2jJmy51i4gAOT4MMw0FbgkvlQBdqx47D4lWgFStEHBnIw5J5BAkIuqOMpmPOwBQis0YH1OQy1YcSzMM5xcBplefmVV17hJVV2rA72N2g70RlwfDMckCIq2we3Ys4a20xhs1SuTZqqeVM1hXBoZXFyByE96omcsjcfwoT9NQomxLNkcIgqkNLJVSKYJFpI4+Q4OuMKeDNFylyCUPGjlHOfw6KdwVfbvV1QMMrM6uCbD06zsR2pq/ZPLa2jQMKPW7o6SEcfFBFr1E1L/jgGCFpASyD/rKEMBw1X6lmNMW4H7ioNACHSAKhcpkhHmoMGj5AxnbeM3MfcDE2S254qmRy+T0KOnsjJP8SpSnKVonQKEqdkYMaBfV4aFxzROIFHaFVJCjfkUmkmytyduqtkwAWOV5AqHg/wAFjOWeTeVZmL3IamEJ6mEz6XyCWnM0TOQsAxnkllQ5SIG+UPU0ARpbVigqoD05FYDy0ywWrBN2NNLxkvJMQZpSDOTRkKSj5U4Uawk7ssc/RW4Lk/x8Hlo/W1q1ev3FxiP4j3qNQ/YMuWmRjSxC4Sa+gkjnYo+CTQUZ+HTwcUDnn8xJO1JZZAXsLgeDxMinMXrZcqzBYsEFeom0j8rzrB068TX6OdZTK7FCqBgaXQu9jAY09P1TQCYIjZFhYJKfnk686mfrheD2p5yx+n715ml5AHQ/y+4vxAn2/mSczSwqUrz734iVd/++6de7fZRYRL3shHrtyPPKRf081X0mmW+o6uco942tOh7kH1rDSxwnDKcJHO6Y5S4Eauo9sC4sposqWIzDwTcUBF7ZAQnuZsKlibt3PxhxhDuaChpWvbRHpxYZTCQZu2us4lhRAyFyFUX1OZ6Jg6kpFT7OaQm0tpb6rcopHZBHOeV1q+GNd1A0fJtFtH27s8u+VyDgh6mJKoSwGIUy4jzAjlnl+YVDRkhDy5LjBUJjllGco14GdTjeuwMHyYNQUogNzBKSYwqrRVyO55Th6qKJPLMb+LJuAGLTwbCbe58AGCsekeppNxLCWae/0BGimEFEbVA6AJHASx8qixXGAFOfdARjW1HgJMsUw8DzRLDQcIM8IMUxZxqU2eKsq+lGLguCzppRF2Q1lmUEXIwzYO9yUeV127do0NlDBpuXiRakPQAVZ6xJtvjfrrfH7MUTqXV08RyjyHCFEmddvrcxY4gAATqpCbSygCAUgCCDo64OyAM6mUldeebVUOYWJPL82wIWVWSOQ8AoOqt7iKuZZW/EOMGYjuJhoLY3DAPFjVD2/QZF55O9zV+/1shli4+hqBzXQpcAeloAonHFAxUYkIysikUl5CfT0+x9IiFDOD5GojKqlzHXFQDls0QYuUjW+etbahgSCtHpasTxmBKcNhIqHlmp0tNsYYkiLat7coFpwhYaXJjZYrqPJRXexLS2PmqFFxh3/1qThs7cdmEMYNMYzU17K/UsGmL+JHcu0q2R0qcrsCHcqQ49EgILNQhhHjktmm252szsJd1fHqEYBY34L4Y9o6Xc0lGpTcL/gbnSEjGWZQg4U02FRSlmTD8VdKOngXzKJVaz3zDRffkjXGs3tda/kisVXyVh/WNI0GTeQWrYiHSqtRSfjdFMxAWtk61NhHRCWCbS/agJ8nlJCATK7VQh0QRYbmSLFY3F+kWD8Mrit4Q85rX8TbRAWczmEoLi2tXbp4jd2f5aV1xQL6HQs9IwOTQ+sOQGQ+PLasxpMMb8KwfaMf/drlPA6HfeaWF5f1mR7fvTnapyWFjK5OiVjp3OOdJH1+KE2g4HAwaylhoj9oTG8p4PiIHFVdRcbAUq7WYwTFtfgleTF9YIPDQPiXgR7xsgmlNz05l0RgxL1/oJ+fpj1g8hlTjMQrt0Bwu3zHfuP+HR7JZwcQk1hP+5d5OWqGFVqx6SXB6SJ9tDYeRH4JTRAIpjSybENqSOLRpQmPUpR9swEfCJckxlt6za2WnQGScx8UMxkc0YKkB6mlKQ1NM87RJfwButNgqrK4U9SNVgXVSilOHvgIcbbP3S6aUQazkZyZ2/CylFDV+uiSJrd6C9KA6QAVjxtSou/BIfMFM8sIjXCsUA438zA+RoFFUkwQbCBjZA2rUYFvoBAbBxEWaFfRYTmYhO8q1DtAEypYbXYwNQaLl+RGWEyGKbFR4MmhUqsxhwaQjCIcP5YO8+TNfELK0wHtNWlsBUFgL0wSuVAluK0pEidBqpujSGeHbWNu4AhPUWh82FFElnkaSGVJjT8FQLQIBYJDk4RU5QJvngtTlN52xAcSiGzIQkgNwQsuiJcqSEQEmGV4bxfH8RQqcnQAE3IS33ohJmIh5imUd9kkEwFRVbk1RC3By2QQc6oApsMpkwJEabhptKKnG0eFat0V6h7xVK1cDEEEjpPbJu+s8kJJfwMIX0OkOVgJHP1etDrKxHhVXst0Wlmcwwfxjhhv2x/5NRH9TJDeddLeCgtKygqV/VxSrRMztBmOWNgmUVsMjcjRNkLiTijWCD66FcLKDTsYrdiH+0MujeaW2g5wQ6vwtDKqN60KDaILJyABkuvkoZ1QOqJgxLDt4sRCR6WhLDhHpUbKZcpjcIAgj0l3szwuuctyZF60tNChEhZXl9PvrA8ZwS5nEJDDSJIaECSmRNCCxHgTgkaZZPsuQyEaACZFpxQoK/nIle+fHnMBOgeNu6gaDH8/PUFNI9ElCvDA4jo7MpqiiovUW/ylncgXghZWGKKMgMaexlAuuiWe8jahSbReQLoky6F7QBg/5FSRKrmkkASJI0M8yZaGNJhqReXgstQsEP+mBZfhE1ZUkWhj3CitC0S1BXMoNxEQgQRaszdizrqf8wkWyvN9L+h4XVSBysLqysX1i5d4JYNnRLxHQWfT7z4sqxsxxlKfaugwbw/4MA97QDyG7x/wz99W2NPb7Wz50heLfF8R2+a9v5DJseIapWy5iWuwhSHtxX3gObyCczNKq2VL03m8Mu4xH11DC91q3Rg8GbAUT6zm1tjisfWYYQQ/vJjWX9o6WlmgDCYP50XpF1O1kyz/zlpse/P+Bg6Ly6vXLm9uPhDn/JQ2T/FwihkDUKKDjM7v02oCR0MPIbWQSzgy9GRlTXKf565oboZHQiygEZUmqIXgoxd50AhiKLOpRtPAY3oJQTk08PcOFBZQMKrBrD6C3C6MmQcVR6DI0QdCe30QM+5kcaxdBGlqiDI+OTe/UpVIql60v+JKKhEfxL6qmiNOEj2eKaRW5qxlIMIQjowfhON5PQekrlACw52O6oVpaKhSD40g6FYmGtu3spZOFa5aNKBKYbxdEmW6TDROtbboB4417qqhG29oyTGKcLy/YO+orgVSBUkcSTgRYCtQBCE45LVGLc2l6gyX/3AhjTVYkzxDKHxCDm0ujWM/GM4exJqAWBI6cq04pViUDxWXskr6GCWNmaqWRz1oCRgAZs8oteKuVP+q14SDDFEZroGsJLkcb1fOk2s+4rl0kfe/bty4QR1veQLXwK1JTFBVfopPDCrGIeFuiCKU1wQaCSvx9TH4UKbG8sto06EvpdIP0sMjIbn3puViQihj+uhjagGCD1Mu+RsroQaXYHqFCIJ2svzqtR/98/XFA70UMqdPJy6vLOrwC7TojBVgyIeiORy0ce+WmM/tUctLZNTyZhwuCTertnj4+J5Fs+SShGs1LFplVEYfljzKnWhFlGwQoUmo8S1dDXQCDpFrA7Dpc+/PXpijSFCozi0H/KDCP4QpkKuvPf4TM4IW/oV1USNdI5isZxdGGfJAxspcTktpb6vlMkyAILcrOm1smjeSFEp7fOFI1TbqIMUdhKfyzEYQJIPRqumot6VsVO0YdsYZZW7AYHjoqRdkNW4cMikFcWEIFffGAsdaChyzirm6nCv7MkkDRx9jJKeOzQb045JNquIXmL6ea2LrMEFdLJb6CCTyUJC/PnnhQSFF7LZ8RVmojln4m041kPbx17XeYDYvNboAxdqXyUd2gsAi2ULEIBTRVa5B3JjdvvaAyP2z3GeK/mbs1iGqKSkuRTQm1kVJw7LOkoh3XA9N8UaBZpa+DqPHMPOLz918+ZWXX+X0M0+p+TAr2MwpesFGIprQugOQlOSt0H1Cin31zSEbRXSdgIgVZ/aVZHDND/54LGbkSB+6SmGpF7Bcmr0cnd/DklD3r7rYpKDb5XlWENPA3z/uMJw85ulbiyckPhVIupkNBFzFoMeXYg96/f3l+fUtXg05WruwcgkHyT2WJ+47u9vv6ZXU23C+ekWvbvBcjGNtvF6CDr63osyijKA7Nm/ka+sKrmhuJdVQt1Etp8CkwCgADwY+hMB5ZXdi0MgVjGeY8cfDUVa18snDFhlgyuODxEitT6YQYVxr4Ywe5C+0ectSH1/Stj1AjmVpKnCIfYjtUlcQ9xnpU5ftDVNAD+AGoSDplZnHnSoppAxbqGDHdUQwUmAiVp0ZHYYASSkXiP+ElR+wuxqksFBXdlKArRa1DNFQsFWlBrXwBFJoO+1JVTMEaFKypdq48A84yCljiCyjuhyG1O6iiGhAClAV8lixeCUJgw/4IUm5Sxh4IN1yV7qIq8W6ZQ3dTrIsXXt6FtGJiQp/Wwl1jCmbRAoFUwkrhW7u2zLwxBfCqW7ORQ8vnDN9QfxOrsfNYNjmgHjsxZ0fhsQLHuIKOU0pb0OZ5VQuyXXZSVwmUQUH3xI8EM0fCC4utBobNlFj1QrAYZIOwgAua16xQ9eYsygx+YhNwOHek+bLmfrpx4Hv55RxKCwsPQL1BbWef/5vWad/+EGwRX6M7K1f/0K/F7Y8zx4QzFEAPRwl+VS39UMByeV/ku8abqg6CAC578SyfLWKh5PcL9NBGwXAyc3MS54yKUQhOG7GCGlFysDzSRbGbGVbvF6kA4x0cpBJaKPc4w3WhgmiMzVO0bBWlbHHJSmsUq65mpYEdQpYEmun3EhSiD4Ns+E3DkKragR4Qp7fEZFULYCJVMi9DJE7Zoh5JMGRxAYfeXgR8FOmFm24Y2SN4O4XnPtJ4CAHE6BTaV6YCNL1xyqjQ2k2OGkkvUaHUQbdIryqhjPI9AH3GfoaLXh848FjGXD24IjC8ZRDWRAy9rU3Q4fEKaA1/K0Yaij2dkcrJ6Um1jCOOrIl7bkQD/CWlH2KrFGmonRmcFqOGKFIBp8a4paWN62srXvN8iKjk8MnV2O7UTaLJmqSgk8Jc1DKUypprgnDD20Ruiyt6DHQxctX+dhPbGsdOOcsF8BWkLVQmaTdn762S/inIx7sVDBBtIfA853SF5YuhXWYyGFI2Moy2NBYqtVsAS2NwCDycgAZ4oBCQtEo2jA2BGLf5GoMBR/GFVUaWkp6QUQWBcJ6iYNK9Ci/s8wdGCirxR4ntRcvrD/HwusXv/zxT3/yD3jemzeu8XlGHIF61A8lFvj11CN+ukzmRRn3i57M0FKpYbis2VJeu8EatM/DElOiiUhQDKCaMUy1zYITWDI0QCtAdPdU1WBVLEN7hQUCxxGAyEK4J60ElSIitMKZ15EFNCan6eiA+pR1aWTyXBaDiQcp1itjJshBSzV5l4NmipNa5xQFUj6el6Z1ek1763xyo2OVMpRNLFtTqBZRFRADZSZSLls5yBgFSJAZoMbvTC3fnbBGcBpJbTyAKrE2TxBvAMufOA3t7o00RERoeJLnMSezDfQo0BUHNHYUZyd8acrBD1C568GKxFAJ3EndS5HUBIrwHRWGkJyh0PZrQADXNhQ7vE5rCHajCgckHHcPfRwmQp2UxKrTkRVFPRjCsvvjHQqA4h8FPDR5Is5nD3l7izu/XLdGqm4V/CXPWz/hQxMIkcq+j+rK3Zla9Gd/HuY4fLXLHDiFA4lgtptyL0B8CE3MIdRss57YWXSKCvzOtO+0UlWuRPMNVpLiVG/Dnn5CsQJEW/4tPloYnuRs5ZA4TEjUs7qyBhPeOLl/X+9e8KkQENK/4Bws6td4mOgAaSdngjiYiDQ1BoZ+LoYgajGb2tixuR8rUaOET08BKpmojsOUU5Vy+heelmJX5WounSzLFgBs0Xxvn+25MmKjTFHJBNTykkQMS0t18gCbeC4ErUnnErEBgiOrq2nDMcNl+ER0MEUu4eUPQMxQ2mKbp25CLqctI0KiQk0TMA3ieaV3YcJUhJpM+keqZTiJK7NKbkfJMX4ZImHtoQ6WvDU5Q1x7xVI8FDale5LgFlDzrCZXLwcvB7SEID4lZ+ikNrk7GntIyeBQgEO9VMFTPWNecyH8K4KoSHETVXQ0t8S4Qg9BSJTKUg7OIJR/mCGVcIcbZYYCBZneElIL/zbl2BFWWzSswS9U0ZzepQCtdHcSH7PNZeGcD5tWHFUVJ65BzINBoTE09VoykQoQJEmWzvmuXGTrZ3V1HUG7ez7yZ9YWiiPRsxg/C9ZHLfjIGIsTdp7n+EEbnAsPrft7TE59aUxnjtnxsi9wMEUQxZvPBCVpC7U2A88dHX8hQKNcG95xTAiTZE4RyVZ+yolRmHA0giHj1kl/NPcJKXAdNaktzEqwCn/iMXyWv3TEJ9+x/+H8ISN6/nCHY9A7+7d53M7vXa2v8P4aH+rjxwC3tYlNFIOhKOkJmhoLoTSUG9ER6iSclF1SuXu7CVa71A+HnHtTUExIDmZFoVwu6RfGC1dYwE0zSokBNXhkGcPS50uLS83BoVVfH6UUK9iARWey5OKEqC44BernfWI/lK7RxXgKRJZ3YgTyN/O0tSi15IHI1LTFJGlKurWOz3AaaaaRNXq5K5m/ODDS+aefG2JUCjAhKQIipSZtk951Mo/OfDXe6JpRSR3CYcMACs0i9XEvJ2F62OUdDMChdV68D/xhS04Sei0A7F7GfPYqmbHiERyJtbOgwZgjfiNLM5hRK1RzpowDAoWCxUWaO9RuFLR0iSnKaBPLjlOgCnJaDlxBsT0ICLG2CiNjMTpJqfBxLvZgio+7vJVTiPTkIEQEYodwBnTVCpuIm6M5fVQd6XBBYd5TWF6+4G/LwwFIphxwcJKAQEsu7+MkJEVzShTIoSXP4dY4IIYCEB5XSzcPXC6dHEH7Hg5/IOzbEn2Usm9OANGkWahZgK40mmSlBdHQbJWFidpVVFIruBQhH2Y9PNwd6Gf2+Kg95bwuv7sj10+CBFVp47LjINC4WbqhbNJrDPPoL3Y2/7RCgyRCQSBFNAWA8AQfSEOIMkYsqnbLijfcjwAzZlKL8bpMKJOoCtuUyZuVgKM5rEJOFY4jyOZcOiu1NLBU4X/FtowflBeN+4A8vczS2DBpCpdwSB7MbjmKWQ1j6lAr41wcGHKKtT2ju0yQ3zodBO1DU00ODTl/abWm57FEXYMJr1zp6YqGPWSuThWGoZBFBwUn8Yz7cKHQZ1iDoG72wsRjKcjCybhpaOUFZo8NCyxZZKA5BU5/0JxoKOWA2MuFiZwj/yRR/KWmcfQUyQO0oI1aPziRQs4laBS81uShTx1tOCPvf0QiczcDjlaglLZR/JsQmDsMERhuUUOqKUh0d464aenMKwhQJbLw7Ca2Kd90QgqnQqjl7I8GBKqhoWYlP2a8zjzk82McPtSop5aNXmq1+NLHxNl1yMToDxTvcOrH48gbQDpwyA4xI1gfiMAksbBubtJIOU+acIOHB/rpcY8f/srq/jgHZSlEb/h9UVkDMi7rTYhiBotumJkDqA6UxEggd2/ZcKISw5boAvQVjpaEzEJODBzx6RD48P7bRWK+ZX3CdWWgn2BcpAkH/DzVIWuwlVW9hsLvivaX+QRf74AtFTsgFoZmjkpIImIo8tLvVFkrtZqUjrOGbpFbCjzjRy2t5bSLSzdWHzA0Lb8a2tpTwmdwSOFMAVbcVxg2KQMHAGe6lTyX6hrsLk6FGzOJi5ZATtkaoUPR33ZTSClxeDS/GISvhTPDQmOgcwuBQyFrfF0AiwFJQKz25h7s7s6XVMWU8aH9sbpk7ZCXc0Bqo2eUq4o7b5DYt8nmEmvSJI9w1OafPFfYUmjlBm9AWfOYawMEbXByGjXnehsVslIG08pIVu72FJoUAZWEzPIdc1Q7y4UlDgJHaO4doTmleyTCyyL+woWahhC0QJoyqSUf6U7rE3wUEx/bJ+OPYSf9vEmPn2/8KZCaUMoTpbvtTRcVQjIC8hzQ0PT3cSxuAb/DFiynn/kqMu4rox+V7KQ92rjwTdLKyjpw0PlD7tUe1/ARK/9eKIslqVv9Jsh5ZoRlrKGmSpqQQuxALRxYiOEOsgZh6sFfAZts2GaOxzGUToEHgTL4DRMgDOGm1ab7iyoMJzS/38fPx9PSO3fusMuzu7UJv1WO/aysrK3J9fAb0ro/s55cxlNpIvgwto5lUhs3ijgSl+GfRnUVoKolMIMGJFQUQMawDSeFcCBv7RpD4LK1KGj481ClmxqfABs5DElNImoEAWDDAVKNXWCpbTgUkJ5bAH6IBAHAcbLKMfBsl+khQPwXrfaGfSLPijv+ly4YTv6qAdI1CMgzgQPnRp9uYYzSGo7H8mV3qrhHCdM+mI5rEhLpiJcTcFApmqSLpnKAGsEeju1S3JjFbDp5WHD3ZU9Dx1TkRLojVa2wISo3yxE5yRrSBbANADUouEGC+FIEclL89FAd0ECa0UNLniY0uNhXrhR0w6jdKxk2SKPysIan4AyNYIqzrReXZAlSxve9wlqcSKjnNTYOgCvYsOeAJiArjOGajHdHKdhMdCI7I5iUM3jgsO3D9OstaRNa5ESJ+uoNuzf2NUfaZdCBFAURetVKvw/BCOaEC8OKzwjym1u5gfpunJDScQfais/8XM7OSIsyT+zh4Io4boC4A4yNQOzku64MoTiomAIDSHUBpZ4s5G0hruirYq400pYs8xxtHSWra2gA8Ro5vbK3s4H3uXv7Hs0/3NfvxK+vLvMccIVgjdG7zG+biYRcMud7e2zhiVLjhLdlZRliJt+sKKNEcgr8ID05CUimKCaM//VYGjqgoE3L3V02glvVRYMhlyAEmFNs9FMgyDUtgoSTbrH1JDq0IRe+zhlhEDEMEMYptxZx2S23WuYe3FJFAwMnbyIapiwIEwXWmlDSUKe7NUz41wilyPBqTt8VT5PAAJsUVIAqmzI2LSuNTk/kfp7RHMJuzvwphEDd0/7bEW5JACM6yORBawXMF5wGKZcKLzzH1U+FbWiVa7i6CeKO6fSpqghKTq2HFldpuFipxaSOA1K1U4QmByUd0ApBicTgAKGWPFvdAbKvacwyFFwuGbS0AzSoyElUGFgQAiEHGHgGUS4xACppsJHcClwAyAA5F7OzrVM/PKtGgQtXnuel8LULF6wMWMMxLUmOSuhZNZD/awQkrtYNFAHdNqlUFJYumsl1aFIfziADE7yeq4YVly1J4Q5EIut9G5xUMcUow7BBQo4UEGgIVcjWDOHM5dLS7r72gNiBJgFU1LMinCT8EYVoyIddJd4KkAPkbmWAZNkzaXiIsxOWcavLtgDlzP5owiXKgyg+7qlcAomIMDmeH6+VFaodqNWT7OFolwFDoqqKmUnAlTR0KjjhYwfUqhqHFGDeCINTWLjt4ROe5CA0ZbiEMEy6zIN8HBJ4y8smdFg0qzXieHrN5mrTcAQzqWG6vhg9b2/J8TmGggR9NbnzzzTho/u5PKJXoQxgF6nnlx0ZtG1BlHHQkaViBRbHEYaCZ0pkkHsPxQEQARM1xaqE3GNWQ0MRmhwmmm1ptkSJJ/yyMORS9vYnsbldsgUTVsFTnpnQWMU0pZnSNinPOI51LW5SdvAtqo0BFYBjT2TlRgckm6aoQBk+DBWqrHgk+LZHuNgf7B/sMHP2WV7s8iulvOnN7uw1HskzVwkf5vUd031YQMtz6f7+Dpu0CFI4IDckR6ZfuSDOStm+IDEA62mJThhgNZjbalT2U/jCqGaIDhlKcycrR7CpoManfxSJ0RpFPEaDFiZZ1mknwsmksgMo5qAORjuE82CdMmPNYTKfiF7e6+1sbNx/cG+DVnODJBzUAxnWgHMDfoyof7CPS9r3Ke/1o3WWYFTh1zEvZboaD6W4TB2t/SBac7ivo41oBUPQVtZWZbr4zUQWnVsguqAytfFCcCBBm4LzjM4AykhttW4p5uIbQgpHA6flEmet9FeiSxAUewvgxw4YpHAUKMkF0x7UV7I1lmDuey0FOoMGgg3c0zCmJpxUr1Q+w78aEseSMTVvtXcIFShZyFGREX2MRJPnuIDj3LuQ3A2AkFAXnhS6OQ0AjjUAsm3QhJpiXO9wC7n5lAHXpWplCmpLYaQOSDFqNCYC1glPkQU+CF0HhF7h2doePl1BXZ4VPqK8mljG2Ugbu2qEUEPfPY0TqazU9SmjQ1cNu55i0saKQsSRj3VZV3PGDqyYKeDwHB0qORAn4PmyHKEBC5MHm9scCGJbmqmIemwPEfMwu/h+l2g9zSgwbdi0kfRB8hIuAbEgfRCecn7Mj7+QpC1s5VKgF8hzrE5omUUpeU6GCVK8aKtT1I/DNYSBVgcE59ChHQXf0egOfauIqnQWfLAz7oONIeDkvB1GLc6C0Egt9VKxx0N5AjQ/hgcNp4MgCgvLik95dCPBHlrQEj5SxouxVoCPRc/zkRGA8SkUrFgZG3SHpl1NCAKB1MY5NVzW+jLtjVKybhWgNA0ilKk3XaEEG2DDp9AGg5A9OCkgGuQuGmXgAMEJh9aWhumGIEVtacDGJPy5DJrhmo+gGr8hPqSw2MfHWzerW1toCC3Xl+PobO4gNupSHplREb9Dw6KBm2oiyROyvKjmTOTDnJRyvHgp2xBdNKShD/81oK0UWvpS7BOpSC/7arGyd7FB7b+1BaJbnlAVhZFxWGKoj6SMpqF6hueya3dBfA+hvtTacLphOBHRdJlQzmVrSNCcy3PF7NJZoGo8+U05KVpqBiX4TxlkWsGcxJuKqFpULbVrk8Kyic745JDBQQ5l44F1wxQbvAIPufhJ0/1tfs/rfaYlM5AP1F+6cpl5jCvQeZ1dvdmEN9KvUPD/Ab+NageUuz3fm8oA6PX2bfmc+ZJKHqxI54ZK2Z6QsSrPgmtAOv6EMk1gwgtL+AorMg2gAOJEf7G5rNZwGcxSU/8YWO5AOJ2dza34HVg9uKfzh1sPNoh3SJube1sbc/xe2I3nLrD85DAmDndxRdvPfJqDX1p9sLkJFS5mcOXKwvXL3L/RFLE4O6hx0zdvPs8bvFCBhge/92Dj9u3b/NZD+kXt8mgseqZ31DpsDh+NxtpYXecSCITa6cNHeMWKRLfV01h3rBxYz5IqC1yZIgk+EFKmQNIIb6PIl6mK47OGQuM31xqJtxMFbKnLkDJwju4bX240vdNmDhBS45wC4xMgPQd5nRliD7x1bRNHQT/vzR+IQ0+ZlpC4NHshwyvNSCGYEuOFtDCmJClRfRAo5TLzwD2sfusgqD2Onmi3ysZpvLvcpNsxBDABBj9/4CAmlQ8cUtsVWnBcIeQOkyB380YIZhRoEBRvmAiKxRpEBiUVn1GGY2BN54YsxJpaq7toKScH2QWy0nZIKRfFvKORXx7AuTBReQjH/ZznpUx7ng7xhhQnhrm3v/iJl/gJrdWLq7ikwb4MRRQD5u4+RHscSkSQvlZGl9mVwF/6e2HIVK36evyx3DCmFhJVKwq2v/aGuLF14IAtTvlw/8KetNihtlFCshBm1OjZ1u4+yuunyh484Gc7uCZggf/66hrOBX/Bsz+YAySoA+fBg63336exfBVo/cLlVWLAqL0pJ7WJA+K35C9fv4wFgMONNvLbqnxE8fnnn79y5QpA0IiqcGpMHARhnzoAZAwa5aRRTQH85JFCLoN1cmqBZKiQNzsAhwPJkKFtg9AEQTLCv/ZCJZRYEEiRq4KXaYFjYSBCqqkxpGmBNQQLrXj1b9hyBVqWxsGn2yvKQ/6yBFNA2xhRsNPgpdY6ZcyBllPFkF1my4Mh4M/R007uxREVIwIRN//zWMpCnv6QFwBVN2j/40YMZo6xNbM6tLG/0zeAopcYplVNSS6HZelV5zWoFZkbs89TST/bubAzCkilU1FYesCx/uUKpcO/tA0IIrgj4WJyG0dzoiqvLqMbVD7oUNjzmaVS8h/jwKN5KJSmAgiaaxsjHRgQZdeGgUhjH22aCJNcNKq2fpR5NkJGbVn9lxqhRIZMDpAboDZTZXr6eWVpfrs/eLC98eD9O0zRd37zC6KDV19/jZl2Yf0i3Ph1LwVKjEXuUvpVL44PyIkwOeCWIcEZaGzIqJAAyVVqBYt1haso4XrUYCcuYQKzMmzU7OKaqSrfsrEjc4SLh3er3RgY8IOseE8iET5vKMd6JJfBBxvhtruygxPhG61kB/75IELE565dff76Nbm/vjZ0Dg737j/Y29i8jyziJxZtaxfWL1xcufmJ63lhlY8FrK6ufOYzn8YgOGhmCp7unXdu4cZYpzKClhf1Hnw+WafoGO3oAjJteHabjgRmE/kwZdxxTUNqXpZpzCrUM6rfOKu24i9xUliAQIJnyAOEWQrq9DoUugiQYG1y0DSSsC2BySgTS5MmhK2Uq9rSvn5daOgQG3MEV4Hh34Z6VW3KXzzJyFQxGj1YTvdaahkT0UyH7jG6t+uotYpqLr6JPPgGl8mgkMZ3BnKorLEtrvZo/QnQQsWKRNAuiKnCv/IUVmwHQvydQKMJDhFHgaGGqUEmBYuqWihkMAwwDiiYDGXIwWj4KYc5ZbMUTxCC4yoAJQVYr4SmJhl/XBkbJ+0Kfjv61ThHmTJQyhgTbuAAKGi7krZ0aiMoAPJwAxgqyMFn3iZkwJ77+3u8M3V/4wF3++efv8m6gynFfR58aheXdbNtlomq0oFx7FAo+jTmKXTzTEHWGgBRhhwFnJeJZ2Rv/9ROUS+XTQoNnjgg2dJvfiX6IGzJT5tdXFM4oy/GOrKDOW5Rlvcvl7HupEyCKj+yMOhpox1kEoMFWn7DnJiIFRaODLa44xdeeOHmzZuYiASQt+rv39+ACf4IbRMmxM7yOjX53irzukUV6r/QAiTnquWBkJOC3YY3TAIJIdamADD9GGAQoG1OrsEBUm4ItB2tM+Uly9tsqY+g4JNzqX1LlwKESWmpR3JTLMyV+94MstCkCyYfVk4r6XfdUhcxEBPfiLjsqKsBSSCQ6nve2tVHCapEYC9GGQiX6EI5rietZ/IA1DMj8cL0mY50gr6x4M0Zasxf93lOUrHtl/1aKKmQjrKYrUWnmIOgxbqqldWQLiU1u4KcUW7xxDi2jm2nZxk2kxhLKf/gLzu2FPkfqFkViWIpJJomZSrzoXyqFFqov6NV0cuQpiP4YhNnJzxI/I94Uxd+k8i2Eh7j1wjkqtV+rCwASyksiGMiXDZlrkiQSE0bCsPShHBT6CD3oWU5nQAmf/ga2cH2Vn93h+9FEyAwFJhXD7Ye/M2PfsUEYN3xpS98gYUM43CFx0SOTTxRW3OsFUEwA8CPAjMexBz1+R00usN3V+qtodo+rwnAKkxMpKrbo75gwSdCDQP60LVppvwOCUyeZYmPYyIuUZIVFhryo4MUblxnBcm77zrxxA8EMT73trfwJjtbW6yYNh7cw9HwU9JoxWlvIIvL+oQrQ5cpwCY167XVC/p8h4T1D9ZXL7/66qvPPeeIaaH37u3bb/3mt/DUGkaqyMkgR7jF/uqFeDmZnSGCzmkGhToXNfDtQLVrN0wq6/YhC6Tb1Z2Ksj2eDdeMk2C40SWyra2hBYySR4QK2ots4UigPjEnGTKwcJDi/32n19CQLEGsJ+PIzl69QN+pLU60O38NF75VMmN3EHzoJzKqkqfQylyOpfIYXjZ1Uot9KpRjZwBCCShkupTbsa0tsrEDB/xgdp/1AAQnPqa1vlFRgMS3H2ncJDI/aFt4dpGjT3INSHFXFpUoQAW+wOasOmtFHpzk1KqA2Z0QxJhvTIB1hYYVQoVVWx31qiYF34RqhQviwRAP2xDCYYwzlyCnFvNxySAPTphEBDm2hxUcwpCCAjz3dBMXwuQTZVEFMgl2zFV2NMjxO8DjqrjzQwg8t33mJ8jK5R+kGJfhn83yPNajF2ipVPJtCYTSfXbojaQSCgByEmxpERM57QoOOcYALx3aRKtQuzK6AcGbsCz6zb/8Cny8Ca7kyqXLuKT1FXkT1lPEMpd+57PEdH4s0ePJHTjMX5gT12ABjiig/+7BLjtK+CloCXw4pgA5CLdv3yE25NEhCl+6ei29QBlN0DNb7IgmUUUOUHrGVrGWLwPnh2ooQKf/3YNidSyZX5kUVMJQY8nDj4FLOSIQkkK9BFB4dexZJqZwSvcJiSk7pKo6A08TSnOyJ2uWtWlCIKWxUR4+jAFhlQkSJZQH2QwmZNwq0tPShqQ4Vzm+ElOy0pFpqoFc7qzYSgs7wSeYMJE2aqfwM6xjci4DV+4OsrXkyrkSoXLj6m5Ni5JTk/Zwzy9t4DbOF/OQZgmSVXkaQQpwsJ4myI0y0moTyshoXKilStOGgj0aJixG9ODICVR+4kmY/nyEXJ7/5XYBeW7YFkHT1TCS9KkjTNAKB2j8oklapoEBch0Q0AYfTGQxQ6Hikzzc/OU2dc2kRZAsbMaSZWOKThW0JSCzSi/wmT8hOUbbvPfgvffe3XywwTTSIMBlyA8M5g4OVxcWly5cfPG55y/x6/H0ge+NDmgY93JVqEcye/rXTrk0GgRU4h4ghcGxD0Fe9+G97KT9Bb9Bx0U+ysHMBS5bKpWdDnFw9ETBg01eUG+rKakqrhPnyGYJ35QHyg4xTuTd376tJ2J7eveV+Y6r4uE6nuj6c1dxLryUgktK1LO0vMC+z6I/37GwfXT5CouwddiiCZ9DOjjkM4u7uCc+o7S0uIIz4ov8Gi0DvfWW6ADFFDfJxLz9Ii8MBPNIRwzh+Igi8BhNB69opg8BxIY1D5XsZlKBVZY9Gc+FIbTFgXl84sklyIMAfBc0Kkj0TArkQbANMysJpnT/FaVohZlhJkL3LYI0KGpqTDJD6UN0ww8CJ+EpcuMsw6J4QVBKCtrxPCNSk5C64KYcVJsyfa/BwSXDEalgBl9odkDRM1Q1tyGsEfhuZ4wrOXZzRoiVbcGwreTl/tAaKVFGpiBNOPbteMcIkt8II865zITmwQz/hik/YsWAlNZ14gtqJdHT1ZJLwAmmyJyEoFQiHWBNB0GPJdTuNifkwTIbFcOEHEFZ+EBFrXwBA9eBuradxb9EWyEBAkK4uVDio0BgQiG2YmFCyEDgAAmTB/LQUvCGyBFzlPs/IQNwZh2EFLqacwkwcsO/XQKU5nZVeYEmr5wFrRC6LdGWewm6JVW2ZTSGJ2jRkPNEUsPv3ubpLZ4FQlwJSqIeCZ2l1UDv9OukoUasrEcTcSvZtI6DYxQT7q2saqOaXyRkhHD52muvcQkfCIHAlpSoauUlv0y3ugKcr0iTcEdwjjF3d/wRRk4uejMUHKpI8KEV5FFYRsh8mfdXHDmI7S4Lmmqd0t56NQS2H7kEpGYqKQ854hphykZQ3wWZdlEGSHjhPPViNaYAaDSB6ipFTAKBiWkLz7AI24bPEABCDjI3f/LGJ/gtlwMCFfFlNFSTMUICpNb6l9nObR9eZUz4xho7ZMCFbwhteZraFG0Tsgxl28ATRoEho6wzprEIUt1+vbZT7x4OBxwbIbXMcOYkIsSspdy0IcdPwyOGSy0D0QXJVdfDhhIj1ute8iis6CZCjY5VaDUJ3HRVVFKE4gCo2UrMbB8KLWHBlLnnqPdtUEcqgKVJIQ9zGUyCqEIqunHYmovcAokdQObHGtwoUIVG0mpSJOpNyJHHwWAuA/XgwYxYfpEAYnuDNdYmtUy5jCfKMMRuOR7Ncx/WIMxYppPGkHYfyr1Ow0H9FWkMNE/vehMCKqcj164mJ2JFKBziOpEDLduMXrHJs0ABRxqlmMWzN+M1IsglzzsjDGTQODMENwpUMcYcIh2xpIIKOyDUacBGwtGKdhh8VFvBI/xX1y5YljZOiH1o4KK+GKFICs914+ZzND8eWWHUu++y68yTL2yOYoggONLHznxyiv1pYiL4X7p05cUXn0cNOJPgHJ05DomLhwMQFIbPyvJa2giaNNdI0GaYLoB4JFp5Z/S7/+IGbAqNcCFrXvC3GDdv8BtxJDNJgbSy9PMwIthOWSytM7ufsrL5U9XlxaX045/FYn5MLewOmq4y6upRW4Tq/LnnQvpFypuveNWyRvYJKd0sURamlpSRJ1BXgwyd1tTGE8iQ1tDgwLkNl0ZFIeWYmDJNhcjgIR9rUfWoa+AmUdYxc+TiHYCr4GScGEGzFhhVFIIQDgAppDYQ8mC2SwqIMFxuOnCYGCLy4wxTS0Xw4d8IQ85lOhhMUhSw1mLoghH9CgjWjtrkKEuFFqzWPOTkoaodLZUQIeMccLhuO5u1zCXROoUcBKYZ8xDfBJiZEz5hOFYGWPti5BZqVrJ5ZgqaKVSx02RAwoSUiAAOJLdCk5yy/AFrwhrbAzG6jJzFGoRwDkl0Jg8+CgPnskkBwvyWwzrSiWd9INr8hUFIiYb8qHO8z40b/FYPBsEyfEfx1q1bhEsQYgo0Ryis8NpHR1sAwfnRj34Ul7q1u4PzwmYJG/FTMEENXBJlQirEcoGGHH9iZ42ICRXed9rcVBBK08g9K93WsUz9L4SAhVnK7ncPv+IbKqHaVVO3bEKRow/NAcu5Z4FjFogCoRAp5OLgwRMIlwJ6TAYtEHhy2d3/xScBzNyjamLSDwrQCQoZMADr8NrxuoP6RufctLrLIVcPj8AMiNwaSqckIChEM8CUZsZrGQppZco/dh60SC31wtRuQ9naRwTEovJ4UgGMGKUOrmjgijIcK5bW/GKI6mUnhJaofeZnM1GtGevBiuHcBlSzENmBOtBzKelqS7mMWZALPo0sJCKwuY3N/aHoD4KMJtlCcMdRxwdF1f/HEnYjmAHMQzw+jKWGSILuJMwX4NkA4Gs2uglVdyY2dKT6TrTEO/Cp3eGumVviFgcHXkff42X5BV4KvwoCc4P5wKNr8DVToVrwZ656cxyCXuwtK7AilNDpHQ/EtFeWlRSJNRzNmq0otHI1QmzOxwalDBOYfRxSFjgU0JwnUeT4AvptYUGbx2qUkv27nkz2+HwnM1+qDlsXHJRRWO0e9ICfn7uwvJbBR8yEQMfCjHV01ksq4B/uyVvR+biYS1evrKyv8Q4jKykemt1+7/3379zDMLiSRYdRcCDyiotEJOQkRqngjgGJ8HAu2cNWlXGCbyn6GD4bT5TpU5w7zekP9o7mWFTWJnh8lguTZ7EGfwHLQlIGLOY9amcg6yA0L2pJuZlBB3s10kkDyA6LvwBh5WfF4jnwl7D4CZSmPCDDNZayYUVjQygBGuAZwNJHIjxuGafhYIEMSBDZZp6+BMMcEFdeGsSUYQFXs1DbAsklOXqA1i5rd3j4dmYyVODEvClHEFBfSqgL6k4K1BpBZWZTFwg84gBSCBU94rIUDqRVmU/RP3wat/AJJjLT3gBDJRF2TFpIZBxIYjErgkBI8yO0iW6cKTSFwwGcpOBIxJQEWmqxJigxtYYHJjERr5Sr7K1HRkaXDYT0pCEyZmq5buIoMIFzB+axc6ZxOFDFfFJWlac2Ay6ak7dGWYHCFoFc8q2OMWXg0wYJhHAOw4jwxqokQwscT3RwUKYlyMxbgFWi2sgYxk+hD1XkpIiTaHWhDE7i0oNOnJNyjV/DAYmEPWFyT2ZMgf/F+bDexDtAzr4YiadduBJcDxENQPiQI5czNOGZJkDOGU04c7cCgiLUtiZHyTggCfaBI6IqMLE/cpl3JBZ0UIFM3uLfoRRPafbrBambDLTI4iQVtlGGcqgemqdFEMpUNhYcBPTAWVrQ78ehD1WeXuqgZgRaV8RhE688xMJMlFtbFI0OUdL14hC8aEne1JUVqCsYhZdMWUIcM1OUpPEvqmiAilYrfqHsTjXBKbS8KaF7uEIDrftQiaaqIRqF0q+OH/4ClEZNq3Awpppn0fSbh6bJgIEThFbgMglIzAGhhQos5mrXkKqW0ZFiUSiE4dMtGwO+qqEchG4PNWCqghaqTIDOM4qCItvyL942TkebUmwT6J275mxiFmhih7QowGgohyC/UHqZzgKHX4zY3+G1il0Ow2gC2vJsvEBC7HNAvLMIygpTnSGhwxYHh3PL7ODSNPz04sCfakd/KVmSRk4sr/0mPcrURGopjQUfszAVWwtQdWme1wp1AAfdCMCYk1VzZrLaCn52VcKNFvC4nBPM4FOVFtEoqODGoyfQrEwRDhwcQRT7Kimo5aNj/mIRyzGo1q9c5A24ixcvs1DCmezsPOAJGom334hR5hdXUeXAY8xzMb8fQ/+ozbR6dX1tdV3TATVaYhKq1Vp2EI8xrIk29aoTVFZb1maxplbo8Rj8vcXmGKd6GPHEGcEm9sy8oyFJqnUXgCJIbjmuVXsrUsMHUPBrLW0vaB5C5seipgI9+mmRulrEDgUSeFdW1GrLSPVqbvjrW12EdTQdq6uKVuCmaBbxU2XeBNdC8T7oJE6Vl4sVRUp0yi4iQEqMJoAQ5iZgDsmkI0DyuFkMx6VXOdhLmlXpIk9iyVwLUqzhREQsqO3FOuyQ0MqVW+2MigMCKeqlnOFC+ZiIwi06FOTRPyFhjESZVAbf1i88o3BqwSTFbiHvsqQql3l+0q1KOWyTgzzGIZcN3pULeaiY59zbM4HBd0zhV0zn57nb57E0z5iAg8k+ETOTO3xYMc2bSuEGB1Lg2fDGU3VVpRZM2ht/QRWQ5AxeHBDMjb+OShVTU1Tz06eTI4hLYGiF4wAfIImW5t4JhKluPukLD0up1iaGaw1h7EELITHIhct60kcbYYXfyaYPfC6sXwIBoZQhskk1bGgItMAsS3zCEgTKJODZ5+IGA5D1JAjQmLCHIDb0YctCk+hJWx5uSxNEw8y5ZGHYIIW/N7kyhPLQpszNUdpGRQFClEmBHJUisYvTauPswGm1pVwBapEnPgU4kxrmxMJxhDGC4aiyEshBuI/ljPKzHh5edpCjlSxkyp6WewtcJ3pNfsS46izZHITgICgFKuTGlXuhIX+ks0koCl+Q4ooi0WhlHLNdRPNgQhU5dklZkupkDn7TNpcdowCIfuIQNApYNfDkzWfF9A0tBfQUl/BxnlsTEARRTpX+IEK+mMclw0gBsNCqGvCk0UBIhX8tMP4FcWiKJk2rFJijFPJUKx6EN6FoC09qgDNm2EDt7/BLp/TuAXc1OOE1OCTDZAMBX0AEpAUFeyO8n8FNnCDo8GBxhU8pSxZDM6rKCF7ycElKr6XJ6N7ROfcn4fC9HlxK7ucK6WrraLrw6cgljUPAfMEc5YkOMByPxJgqefQeEsUzTvAEQutI6MPtmIKUaWYsqO5cE8U38mth9AL4O1vb/G7G7v7B5UvajsIB8Y7Fzq7ikUUED7bxUTDEeoxZjEFYhEQp6V0T93l8iDpYSiXjoTOH+/WkkneW+IISg2qpRg88d1tnJckj/N48n6GWfdQudSvEKK8mABA/j5AsvnSlEWnkGvdDy2NFydX5eDpHo7doIujICqYoavhYht3oAEtXjQZseaoDEMVsO7o+f01M2ZearRJtueKjR2XokdGLTGJ4aZUICMaFBxJIlaGeHdKD8CK5ZiQDmD52LgFB47KDLzH0XChTJUJvncKVckn2FCCAWYesiKhNTiHkqNfKoRWeUy6Vy1jFcXBV2LoauP+WFqVKA7VyCIRuA6jZVdsFVZdn2AYIvLWRcgOm3C4pwC3Ahg8waYyQywZJwwMhz20qrDxEtIfBpYcn0uWWGzJVTGwm0vb2LoRgwY3X3vFHR8s9nmrxmgHrnYvrF7zL4U+U+uci8htY8MENOfLgaZEmPanFPrTCssqdM3qW9lQdur0Z6dGNMgVyFDzgg2jWLZC4PDH3eAAhUoBYGfZKylKrsYq08GzNL10ZpE4OWsNJoSmDEyDC2tNLGlvvvvMeREgnJyyCG0qCjzGl87zenMIBhTFwr4yxvMZwUlcBbBhWyEI+CMR/DY24kjL44ESZVCWPkjSfWoYzCMwxqsKQAgjUBhklUwifbh54dwulcaCqKzeNRaOIbkzaJYSZM2A2oLpMg3w4RFM1UZ9uVRDG8kX22Bk9yBm+m+L7P44Z4qqihGFQLnFdTRt4RZUUKJNSDmYTVuAcSiW+yBQdjTJCKionXxZWmIASX7Rr3AwotQBBxnZFRFWAH06q1sPqYuutJXVnV7dIjLhwCMOOrPHiGHLw4RPOqe3ShG2XeRaPIexyo9wakqFWh0vZxEUEELVLLkakMAGiMXHUe/Dg3ltv/Zba5567QcA/4F7Ok6ZFfbCiTJh+T1unB+x38G6lvp7DnR1yrA6V7vOHhzxUJlYiBnrllVcWlwb82queTzlKYswz6tDRMnXXbQqUCZr7MNsJtR+ZfvBeXlHoRxjEbEJ9dCa4YgT3FlZ4xzVNQAGNMQYaMzafS/QGirbAZBaAUA19Ci1Cc2rS4TCpyUMI3bi2WsQ7FGglAG7JCOJb6exClbMwRir3aoKRQZ+A0LNOfhyteSuc5pC4tAjzyUdIPPbgGNHG11D1ZJF420f3eFXxhqNPZtFuqWQXY5WKphyOMg2verFZKgeiWS4uPitUpANIj1d98p6X26W6SQnpk8BNcbn+tEFqamIKnQKX9FQ8DjmmM1ztop8aWwoaP6JFUMnBxO4MEfnhukYW39Gkhxc2kzomwzQ+Hl4YPfeiIKTL2+SBT4Wr0MrAIfSloY6AmtCGBv+IIK8N9tTqBBppcEiwRgqFqbuhcWuFaMUltOYsW1JGpejQCo0kBfJWoGUNLVRhFZzkwBtOCuThQFUrhLwLoSOZTkEIq0aOnkBy2W17LE+VadGFDg9paR3wlaVFHAdQ3A0ndBX1LK9wyRiw8rprseaCLU9/OeHyo7/5n0RDB7v6eo4f0fBqqj5ksbG9BT5vHvCZi9ff+Hc3btzgiU22hKhlWQEHghe1yw4IZLfRt4e4pLqbWqu8q+0v0sMHNdI0cvwdedBQQ5rIB2o/iHJiEMokhMmGDgxRQ+2ykePOUiY3Jn/H7S94ljCeQgiVNapPoTYMsbOIK5+gpTaWd2Uc0HA0GjiSRQ14hpY8qSEhGubwBFJFU0i77AqsbapaZNBsFTg8IWcktIY0/irIQiUFs17pb4XAKf5iiFmrBIlEIOmpIAOkd8wjXS9uZhSRXClBzr2k6RYIQA3JQicRi3wODiQGk+uGgX0a5tep4AsKCTF4NRkI2yFSDGzBlBsk8Im59cD6RQWt9VGimBsduPSIVBPkAWktblBzx41MDokKFsD9kgHZZMGXS7N3R9YK+KQIzwrTXxnuWB/UlgnBCmhkJIWEHD4NEp5RWDSuTSHkgtQRoXjTlKGi2AYi5VCRBwhPQySrln2rkG1knADDimMmUL311lvvvXfn7//+b3/9y39hI5mjbnA42LXXsDNaXJoD/vyNq/gR3v7WEoNvlFJYktCLl1Y5Vre8tgr8//n/+r/hyNgbIm66elWvd1LFsi7Prdk4Aj+LQX4dBylRppmaYQqESxLlfZ5a+ym4fAzfWOYTQ3rHo3RBnCC2EbJ+1oOh519n9VqCcWebcWSEGlpNrv9BJifFAhTQh7w7xLGlFJMmuKH0PsNJuPyzzhT4C8ixm3BzWQrwhNoI8C+U0JMsd2REBU5uF0cfMVeRIlaCqYvVy9m8d6MClOaUFOspGdFqJXIXic90uzbcVOR0J3l0S1XyzlAaqY3BqM34ATkWow0w4e6g5tVEGbtzRe8g3+qVT1mmTFUr0CGtTEE89GFE/QqtbeYOE3QkKUoHWxvP4lU28wTwISs6mIGoKe2xXvja7q0MoVVXXwYIMs2zChIW66TK5W4bh0oLVanEQeCHj92t0CiQh5tzlz3EQ9lsKukxQSqO5dR2EcYugw4QKXEEjQHAxjxUjTZVjTaFRt52SUDrvtHjOVxMBWeo0sBRPiPNoUfonaYbVgKZc4OQ82Uc3BD98L3vfY/3LYhiWI4R6Wze3wGHiY0rIQIiDY72cUDrK3oVA3eAVkDEig/Uz81t7+nTgqzCwGRKgMM2LXETfgqXRMIZ4YDcZD1IdSF3i5EcVvBEVRJl0CqEztTdJ00GTsQDJjcaELj5keOMoNIRBG5FWmopqdashFDLgQcyLY8aUExDCNwSJYLUwSyX/LEWqGE9BaagctMhOEBomofuyI3QaGpFu6c2CwCjjJ6GlDhRfEZHsiUOjQBDIDKd0chruegffPiQKEdELiOaPm88wySYQaYMMJhA1GudFD7BbyO8C0y5sW1VrVDOj7nDkcSdSr5Z08b6Q8ndijYCcSRCrVoLEJ0AgoA+x8VIpL0+g6iJR3vj59NlMGBceae/fvsWTkHGijDtLXIiVgB1ZJ35EUcezjK4zYoO8e6oRxky+KdMoTW4FeAAThJlkquKm4dQ6sHdpqEgBcRVCczwbJcNQiEIyc2zQFI2D5FXWuk2imwUS0ErVTk+BQ2qtEi/t2120tOPIJd9ejitSL9cuXiJz4myGSTEvnqK/R9O2d25w+eS39vf3XQcsgtJztfsH2xyN+JOhBQexq+scuNhG5unYD6pvHqTXsBVCf9w/959HucrrmGDAghqkCiQrCY89Ewt7cpdHb/pUaSqOBpsCz44RhN5ogCcDimRIp8tohau4pzFnTYm6OJM7JhBbi4xRRg2i9lIbOwwfnKPT3zh8VBIoWBeedrrpktBkxmgpaSjNTaAkKcKrcQ5+y91yelWCEzMxf/YjZxvMpAn/uWpWsiBwMnM0ER6ZGeDWozjWlkJ74sSCA5nIKjkcSFlog9KAEHf4ADE78ka9kQSowhHIqq1dV680ooPl6qFUeYPIJka2dFctRr7tgDcklDKosU5SRt0CJIyUgegFeONh0nTr1Jp30sEVlF/nWhA24R2m+NW/WZAz0f1o6vHWkI4qy0rJMlluMP4AwQdyCMLTJfVwUHGoVnJuABpAJwhGBdjjWQp8FPVbZGMZdOoKqg1T9Ww1grABHKqmkpBj3rhQbkrIkqCVnFKIfCGySVsu8i5TN6kWG4ZyiYZ4RY08sZWkOqAwE8VhkhZE9XrNaRQSOsoUMu35QHyWhOs5o/0q1hEQkQxb7/9NkBeSgA50c0y7xvwK6KOqkpI72nDySAiID8OAlWOgG6EOXGQZUkcM5FchdoLmm7WhJyEDrge00oRICDHfaKxymU+lHs4kIzGvPUeDmlsbaNa2k3A1V57wGAitckC04RkzCvR+ZK8q7PbYsbwCfOgRcNAWhWXCNKINHJkFdFBrXleFpVk9Z1sHjTy2nB3VuUThlBT28qV2RAYJmgY0RSCTCGc22QQjocNEMoeJlGmcYWijiu4WEPwUBB4IbDRumgZ6bAwpsiBkFcSlbnjcNkSEBIKRIdccictR4HAo9XC1sEufUmPtpGaBiFAPzkXJ6pIaV0g4MMAoC6d03qKUAWBPDzBQlsbB3ep0I7nXCYviFKkDgjggQqtPKeErTkro9mlPtLZqPIRJEGtoTo7y8z6RDVURVXJctLYJ9H3NqX4VmsBxpkinTxmolJ0hdS4ufeZVeQmB9BEuFIMYANv7ap1OrOhZdkMstvueWtzxONIbk0hiYmolfE1GfUsibB1eU4bxgvzK8AJSbTVs9zb3b3B1wLZtD7sKwKif4iGck4nSzBpxc7R4T5+h70hcBjhCRMQRzKVzcAJIezgXoaTMX3nzF6JMTOUoJKSjhcow59M/eJEQ9MgNwROdLVuQsFMVRlFnkjVKRdDWB8L902NbgdZEYQ1Mrm0S0BLAQhWF45+NBRApGv2mgsIKGazq+WCF5Lh5+LgYFoFOzJXV9Vu2dKV4bFae42ACPorM0LkpYHCFUNuDwBtpZhLamcqgFk0gqNvC0wh0Ul7qHT2CHgAZWPH37eASu118rizJIQYKFaFLziSXZGHugEBLWM2tZVk2Be0CQmLB/O8Vsz4YNJFmcjt5ro15doFMsaSlODFYeAGFo1Vo1QukZ0EpHFn1ADMJa4N7DS2YqYX1X6qQDOC7kS5BA4m5VooFrS5i55UpTYWymU3P86q1SKx64CQFVbkUJECyWWj6uIcr8qgEeParyGEW5cD5bS3AbviRls9Qij+UpPZIyUbZuOTQkxErRBqIwX09i0F4EQi7CLzBRwtvna2eQMLB0SX+SXKrb19/Yyfu1dLEpX9QL3rBczec9tyEA1+fGJEZABEJVAoqNVlh1HtillqPrwEQoKEPOSRGyZAulVBGMuDmTysEB+thBnHlxka92T1ZKIqEaxGDsGwbPsfFxeEBodVK4dn1Bjy11pPPiUjAXJScCAMPIWc7A23sWHTRASzqdb4NAQgKedv+I8piQIVh3rhW6kAC3kgqBHMkKB4I6yF4RQIV3GEZ/5UZYLccsbkpAgIaeX8pqSKi5OVKFZOSxgl0a/hpAAmkkMVjSkHk0JUct97wFVXTffo3KhuVexK4pi0NAMZTN7gRgv+x8NRAM5v0LFQBLmJjjjuZt7Ktx+UJJ1d0nNrsdJvzyfxsJci+lsN4Sl5wQhC01niorCe1kkTG0EIKYhoUgLBHEsWlADDP3RwB4OoinMUuVGk88s5V09gwhDJ8hIJj4J2zbZNclcNb+KCN5wPPFHCttzUwScIYmdn6bLetDw45Ncg9OKFDgbtaQ9oZ1/fi6DAkzLk0l74wBzN4aBLyS53frihl3H0jEbGEaISZXdjotriWWyLtE+60R/RH3h5KqQnrUrAYSLPW2YIHJCqfiep3x2eBA18IZf2ak1afbbYE0xZQ0nsH2lfhnqpaM6cuolChncyQa2Ger8gR7GG1C7DqsEpFOYR4VzI9QmX+kLn/DV3gHNJTrsk0imsAiRvnINPHmQZHJu4AdozKdbSDGpUGJEVhjmoXtarjhKLUAE0yOgDWjRX93WUbwpQALmrQKoMVO947CFFfLIJ2GdBxVosKhQNh/y83+xLK6HZ3l2UcRWRYm1jpQHkgYNv0wEQJAkQhTJJyuAojaQqDRNCHWfNBFTJpmqGc0ZKNRamkoyqhgQpchJQZXODoXjWeI9+xaaCOIVVw48gcm714ltbhA6kMBRd5U8ReOOmqkmp0Y4hB96lAGKgZHmq8XdonIbpweoFSaexrfZ4AQ1hq9bVOi5hIlkajFT5ZJ0/Hgoyo4SbkN4LHaxRiwPC9VBQlHTAS+p4LjIlIORUkQpDNB4osEIUQIQCJyfVG5tGVFVEOCkHyEUKMX6qwCm1FTnMWx60lgc5OXJTCDKsSNrO9F+ReMzEAYWDfFlNkA81KZqqDp5JsKFQ0c/2F1rsTwoT2GCrcENoClTFKzH9JdEv2UYMV+IwPYVD+HexxMc3TvKJtQCjQBCCDARrRFVzEy1VpKqGxlfKAF0rCH5UcGYhtvJxTfm82kCqxlLbovZwZSWsQWFGxSVLZGh4HB/xZidbUMM/JPKvKlGQVesbSLQOh0aeS/jEvSDP4gsTaotfDwu3IMwwijgPrcDJXN3T0tQ005VloGREBh9VY9NIx0BcZp4wFMIW7iDrRlAHCjQKnSRC41b2xclHkt5nlgnYE8pgokUmlfVThtuQlevUMQYGMzkQAeU0hgZsCCFh/CIle2rugoJJLZgiP5aoOvTb2DxQhFyrEBRjJ4LfL+aJlgJMepuwTvctnUvGXy+sER3FUPgZcejrZ2rYjbYD4qk8asg94YykD780XweiLq2MyVXOZfRKmdyqZnCrpmjuJVLXaK095lLmKtRaVpoqd2xk0THN8uhCrUMk/lKm3XgldZQVEC02yKUhw4iAcadTOyVppCXBPGpPNHLFeshf0VYPYrmyT2WoaUhDuKyCNH6ssnDSUgQEP2hcmqpzk64IUSXIliVMepoySXDvecXCQeNO0tjWQqwUy2v9YVp4l/HGZVPMEu1Gy26al2N+6ie5WoOXqRHdWl7WX1y7wZl6KKAkpSuZyxJMwXqoGWmMCJ3ClCIF5UIpj7FNLmBIknPZaF32s5Ia6dA2jzTaO5zVoEUKHCKFgpjQyo4a9GUuwQmmC46quK6TBGAcB7Io4IxcKb0hDy3lcOOSZmWUBAIOVOqD6rKBc7sF0vQ0lTI4U0shVOQAuEw8ErcSxYQ9mppWsKV8nPkouq6kv8U1fDGXzYYJJ6IzXu7QoMEZ5YmJUNXexCdZ51Y4+MMlPohoCEx7Hr2wzmLN65uR5xJRj0oQ0uShSNsBDvChSl6vdmj2aBomOEc+AsxfEPU9kM4NGWAjVEtrUl/4C9MwDg5ouaHQegn0JAREbSUqfV0vi0q0F0iYg085eVd0I+lwa7BSCFUuunIhaVQU1MbOkKOIAl4xF7ndZjYZUKFjLsOtiaMQEuPEd5S5I5w6p5pKYMMh5AG2qnBASoM0hADJTStNEOtLyYqJQSZxOTENHVCqjSoCtCd1KKWcEwVw/X8HQp8KWk5zCrkcbbAVuXTtUI9gArQcuR6SB5DaqZRzR2BUY1FM6tqa4yYAwy0Kd+1oV1CEagLWYdcKyIE8JMotgLtzBFHLfYoyi3XKFK2tTEyvgM8UYqo6NKxj2ssTGtJ4NlaBZGRDnhOuWvAiQZL5B+eoEKKS1+4b3pOjduM8gu0LDxruPLIds1EGwha1WQ4/JHaPj/54I4xnY3wa6PCABuqUI8t2wn8UppYGLXL7XKZrdznECKS0nSMuLCJwuV7GpnUWrswwvU1amRT/SxVA3kBUlR/21y4osUf4kGNy/gcN/nBzISfIpBigJovWuaxmIVkT2ZtA6U7uUNRSRd+RkxwKB1lBbeNDlTEFqbczlaOhB4D4B61RPaTgyA6TikkZRZJCCkPnRBl1NTAy6aR20kh7q0pUVferNpKASNCxBJAJBZh7gnE08flcUUae0PWeWlGsezPImEc6VGA15imQj8HhCiRJvxtRdemYWdJaGnFAkMExCYxWCHanRgC6MziZ9kEnD1xVmUtWodIWdUyiMKEmbVUmdXmmNg4oulGbxCUFEGo+JK+Q1CqwBAI+GCk0hBSKFC40bTSswaQAHCosAiQ9g0zgJBBClciFW72md5TRDxcrMgoatAU+VFUQ6V+XhEIo9406AiBzCi1FF8j0Nw0pGKf+g4aMB+SiWojCzk1UUfUSpLybJLIZsN5gDHFsaJuoOZ3kSw3Z2CG1lClgFsFZF6nk43w2eJ1IpXWmFTm29fcSCb4gV4ROlWuztaxLWcdKhjk46cEMQBoOhI41nYeNR6kI1bOaMBAaR3ksANBc2wCjJqnIqpcP+5unb53IK6pGesqwQIEmzvpYNx2/lQKpTUMaSRMMRLdCYzZgqLqXpylHqzreI10KFHuOshhrQoZA5TCKOv2KRUdMrEbqgGqZceMUaR55fTpWTAMEGP9nFEEmQHns6uGSOLJMIbVECBU/eze+ZLRwz/WNuiDgoT0ZdP+Wki3lMvPQuJLecFqBtkRbF2haWqrczRzhCVCj0HdLv182zw1arDyzmCgU0SaK0OEuyNeooLfPWHnZ9+vrOVgJqLYrYAsTuafMhmyQmzPzD9M5ChAmrNBqrI3tshX0TIdNHD2RK/o3qgZpyBS8jAWFiOOInypWFAidIjvQ+RBPOaxMY5f8S+eQhKGsYQm51HeU5Se1SqXDJcJNJiDgYb2Qu0lTWs4O+/OHGhD8M6LAlOCCQ5F2GlHquzSfPMjkoGURx6vre/uSmwUgBbilirIxFT3BJD4utHKn6hYlIAhRrbiq5VwGDghRkYs+XIDrXFmQBZKS0bkQNpxpBaSY0C/uGolvdQBsPCnILEZLboicMqaWSocjbqURRmJIKFOgJ6kNvJs3HNHyfSKQQVc+7K9KSBSmClJ8NVoIPzdLW6D1cti2Kg8pcG3KUTWEyWipTkDcR1MZx+kAz3RIrEUHLxBydEUJd4ZwhGpkk6vbCuSYKRpaEJx72Nl5dYDDYuRzHba5LHpWYGoBsnBo1uliZojHxL4Ba/B1GVKuHRA6dXyXVWpbq0MeYLsjpbmeUXKEMAI/mI0/l3Amh5Y8IoA06Zk8oQJetOn8MWNZOLDw6dSPNwQEEgj+6747YNOHHhcRIkhwI0cZpPPJdy5DAkJHkPBbVYMLWnscJpQtSCMk8MaKy9gqOCCQzLA4jqYJCKmiQMojAjD5tpqZK+pBVVIcUEXmr3wNOVTDglZ7CruS0IGCcTSGQ5LmAIcwrYBHCtKgYwcYuxVDEwXhhLzZyo1lZTviJlAAOKlxoIyCgaQtqYq2tKWZEXjQ0LwBA0kehLSrYYqbxaWBvBvckFX1sFTtM3ReUFjEZJtQ1dI03vUkdAljyyQBO8Kg76qYMqZJbWMaY40BqQW/+SJquWwpIkpcYEyqwEFi2HLZyg0y1gdFRB15QevmXVUjuvE8zr8Rjhi4QbE1jsOXMKExjGX6HojKVW3mQSjSliaUAnDQOnLRTqMdOPvYJG/KiloPcfxjh7SMS9WRA4LeIc2g88xIBKNJXMVEmlBuumnBWB92cFJcSDaduHLumcCvjsi8PeT61oFcgd/xjGlp6stCQ3ag4XQTuQkyQD0SjO+mFDuo3dUVpkAtQ4AyhfgOw/UFVRrCaSb4k9j8ppaUlgKhTA4yEFKNlRR88hQPuGVhfDgX/ikQa0AboeFAOUqaqqmaKy5TKeOdKWGQTAbUg7CJAB6IephUsDQBK1yNymVrI5cpQ0Fhvqw5PMYSPXVENFlCdjCC+1a5nvCiTAKt8Hd8lHKTEpyWYwfK6dLjOIVPuc1wlVHSqIeFsgeE7KTU0DwuKVdwKXeNQm34gkPB6IXvKK2AYTjGLdgBFsrOH/OU3JZOaEbDeWghuoVVbh3p3UJYJ1j6HrWBpwxhqMIBeGopNFVVMD44oaIWKaEFQjlMgCfhVCikfxof8ENCVdME+QDjViiIqjOlw63lqRpDaAqn4UFm+qXQETRi9sZzrBAdQI2Ubi384VYQ6sjIZRcthGjVFAOHFHhT0pd2avbAKMypJYCIiN/pFpha4QHQvveIyC4IwJEe5pGiMrsAtVNAC0Iwm6qVRB6hVp3KRHCo+EMr0dhIT6EhMKAk3YyjCZfgdMtNpRTCx+qJLKzgUBUuSjbzgqMG5w/W6OxCQtta1yQKs47AlMnD/LhLCbwhiEmR30gnFBbjEdG9/WPjRUcnQ0yufzYNqnCnLPByf1Obs4yS+XiCopss9x3bQji5EXKZBIRacr5zGZGYhA6JYbj5cYOnJRSEb+G+5Q9Vp2HpuYBqs8ddbIxIbbNmTgSEWxvcMOlys8ChrJRa/wUTvWALh8YkEJCjc5c+tFVJNW0EGVbetM7AF4cQV0fGVUgENrDWj/AJcGJOTzTp9IdO+siuNnLWTb4U5FDBS+7sEYrpom0jSQGbWVaZruKfeVMCxKJIRdZl0yF1VGV5VVBH/3QJqeEScqxND0axcCNvDihlvA9oABkjzvMBNrUrTNIieKqliQ011ggrNX56vOdnVccUiDiqmAFBaB1l4EkZuqdaPH1Cf3jppnGJzlLGN5jenHa7gLQchKZ/aJ2nC9p4GY7/lNLe4GMKCqVR2VeN/9BzRioQhQ0IqZAkavvhkCZXtBVyYZZBKszjyQjHwVMhWvYngUIhTaXAZcqNtFkBY3WRS9luqCF3C0WA/wQuVpmtdjQNWZz9LKZBaI9aXCcJ8IwbeogycOq7tV3ClJtFkKiyWdEljQplghNu4U8ZeERQJqXcdiVabaQEQTi+bupxpcZO4iZkwUsTmojAzWaY2ebDlS/IrV1DpCmlIFtWRq3wIi6FsEqLgPiyRHCpwlwUmtD0RqrKDChUw0EJN+us5sMz5TCHD4lyLlMAEoZcul6XXQjwsMKDRp9ggsMl/MOzkhTXSRUHL4NPVZPbuDHxrJs0d4AlnC5aqMK20xbpX2VRnJzMZ2gTLpueEUEeJvJB4jeCHJw4o66AqAEE/OB0a08uo0DIu7LCquUTOXTxU+5Cxkhs0jHY5MuyCU0lLWkNo0zqUnRmlN5hCX7JucHo7VsIIGG0KW8PyxRMKQUuttSR48NE4P9V4tJPiAzXvYC1RjTg9S0uzESZuIPPsyA/dQocW4hVJ1XrDIE8+oV4+OZPJUm0Zc7+IFtcgmtjEDi3JndN1GqhjTgwSbq0JuRc5qYp/lQx4FJIFVK03WKoiUAJ2+5dqNs6HriJldf8FiKDtNTUaJDsFsn+0YQKj/IoGs7RNu3OAFUcaha6VInuKys1M4j7lmfhAV4wyRUgg2rXQ543CUpt1VJ7Tw49iqGkjHapYrboHwVhJfaOl4EEXzBHT2DCJ0BkcYmX4TLMgdjpCILz1NaVv5rUFR3DRSItcZUGtp5LRmkJU++AQy4moPWyEzy+lDbuhIwQ11Dn1QjBi/LSWc3UGFCWL68bQ3IFUR6SaNslT0QvzUjGMqTMnVFyrtSK4WnvkBUX7G2mdLJXIeKHbpVTVzQ1vhxrT5kFVkXlOHQVahMkv2NbMLUHJLWc6ANmmtQ0JDl96fEnNKfaWF9Ap6FGcr2ZuaLyjFEAmU9Fbvw72gRBnDRHhkaPbt281VJoyClzGQ7Bb5iBq6rjywAW5as+8qT8KoN7PRwaIbSkeKIGbDgUuvoHDn6ArbZdAjE/XK11qBMMYKNNIZgue3qnvgyLhlIKkDc7dOsCp3+bAhHULoXc6YsxJrnsAl2WLJ5HRZAg2aXqSOnq0MrhQ44xPe1bjQpRjFoKKYMzolxFj/KtUbkMFd7HzPN56XxUT76JVKn1FzTyRojQQLo4pyyH84g9J1GCMKYDWGlmcq4aXYPHYg0e47TLEwohrOTu4M7MGtOkXVZ8O5HOqDhBUKqksEdg4/BQkkWdesygz2zJpd2Jer1uysYWmC9vLaOrpqLWjXWg6LmQXBWYICG43KUdATVyKSSeAHCG/mPpIskdQDfbpNIT3Oa4DodSEQiY1TrlA46FcPinGcLiLBf5QycMo5BGFo979W4CyB0ccQNCSrtyqVw1SlTxf6l1hJKyiQqCVaasmza1GJAIQdfx3m517oHiNqKkODiJHy/eqVzvUano5iFvENHA0L3UGgWEcssbMgW6taHZ4UkcaxiAOL1WRYHIiFaUXy63wrKCTcUwgEpya0NglVZrF6XHp+b8FKb+Ermao+4XTbqUXBAlzk1Wr2Hbog7QRFuqD63xseiiD2REFjrKzupQTrpmK7o8R4NODeqs5sCMwnVTfthYSsGXON+z9VfAohi0Up7rqc7XvWb8zCDjihz1CHrEwUl9ZXFRBlj0TG3LXRue0i1xUCMxmhVqBBQ87/RXDVeFelRJokMb0em+Uj7GxiQnZbAiVVZgomdUnUA1XIJhiNRDLKJcyq1wOdRC9sqOoOFBJi+HBk3IJUkjSuPJY9+zTkAQfNyRQi6brFyKZOggqBxPjSo3Ky6jUoN3CQAGrhxVlFQfYGtyI4Fnwwe1leVtnRokTLhsaHBTLf+7mQ2hXYZD0Oy+ZQ2jFwtDDySymiahst7GzXVtQr2a/jdrOk/FaNLyVohRzF0KkEqjakdQVYuqCk7mTME0qE2/dA0NgTBo5CGEOnK55ClWylC3QtBCaBxNjwDrKwJlroYq/MEvONaESyeMrYQmqAQmn5wlTwKBAlWRwmU4UIjELoSqAjf/EzJ4IvEEhLEq8OUeK4ku6/gJZlODy5SDUPIxdqe77NrqdBQjWJA3DlGjVUfDdvnQwnAJJkZ6JMYf5Sr//9s7FyU3bmTb2pY8Eff/v/aEx9ZZey8gCyyyW+2RZu6ciIZaYCJz5wMJFApVLJKQx61lTyM4HuRel4o8DmzXWlZlDDBZ1uFVYgUUE6tM6rnyruUa6j157l/AETl4CIb3Qj6ddkzN0turvs5hrkueWsUTf2E2FhYQZgIkHOblbSZp0FoMtdmgC5e0lmlawNhBrcGEs0p7xzPNrtQwTykBbByvZjGcjXmY4mtQtsLZ5BdOc27IOKaXRmVN09hypd9lxRoQawO1l6IwC8tZegF01LcL2JFdTL5TfN9gwAWP7eyI+mqWsds7CGj5NIo9MhJweFELgrKMH3ufbfNahuDEnbu03JOiM9x62Ucy/ed7+ZjRfCHSt99xwB+LDfkgAPZwNegIZgYyCeI3UwO7a4hjsiUTaBU4rlm9e3KE45P02MeYexN3GZ25W5ujrI5ok226L7K/snMNLpEEkGD2vYM9hVZA62XMvkeQTHo4iN2VuGM7G/4WJu2liWfwQySeQZZLT3uvEEMIiAkDGOQaBXX/RvuBePgs2EhIBxZpWkOUE6Yc68En3GCzGYno3aQ0CTEOAR6CLEtUFKvat077KPHFEdIJUfzKhByAao1oCPgrPGM9RkLzA4CgnEuAnIGNFwgjHw7IoU/pDYZoyqkiDM6EXdi9j6MLYWziNQU9ADpdwDWN7JdaA5PwgL8MHuKJX+PUHYe8m+5+h7a/GoYSdjBSzBpimIvTmauI+0cz9EjBwNd7l4YcEgCi29mNSWjL0KjIAQhNnBpX0bChKSK1H5XtSy17UXUXlAsP1uB1ZN2AHZfU42gwBVzTw6iQyjcYtUYFgtFRJBMAkZ+AH6FxTa9qIbWU8fyI2fd1sf+Oi688hpL9DiVzJnQXycVcCc4XCeY8Qia+ZEkji6m6tq0a3TC643AjtSDhhu/dlgYTCaag3xoGN9t8yCiqx7SLKThNIpMNp+tNhod1enkW9VbnjQRTA5gj8zYtROJ3iEax5pbqY0SRYD/proj3Vi71RJ4g05EGe1PfHUxspaNam2P+TggATPBqyTlx2wivL1YHkOiScWY8Fy3OewzuAyDLNxg4lJo1JNIWpTyDwzcT8Hmn/RFTXW91W5zto7u+jmMvCsYMX8v1sPZHzASZxeg3pnYM63iGo6P0bc8rMDBtKsXILJfZ5e0xzb4ge6SYZaIDtrMQT45iPxFcMZiH1GpVuKqNZfeKk1jj1FZdN2iJgc9ohL/VtD9+N5skZz5Ut3no0bEXlI3ar+ug3k1f6yKDuJo7OJpGJb9BLkx+muOpPMXGLF4wrp/SIYYgE55rcO6xssd/vdHBcE5fyWjHjJkEAdcBsPawNAYcM0ZizqjkJPvXDIkcviVXAUdpD1fEM9iH/AU5fcbgTQwHIzKJ4UQ+g4ENE/DQqt+ap6ObyKkm87G+lM6uiTk7/r7HcTfEZbfUjX82oSnmAUK46oY9poiw2IAlQJ8YmDYHyYTZvVgDURfrojVd7lhDGAA1ZZp+yAMjLFjwjcRFARoY5SRmAaoXD9prrQFp2NohVJtYLn6tU9LjRfB4j9RHQPZqJV7YrR7RuCAEMGPtxBecPkKUDiwnnZ1VdcmU0tPO4FVHbTCni7fouHldEu0y9XQoqYH0bfW70b8V1V2ZBYh+NQscw0S83pVkEuwOczYgu+svczHTKyp1nKM9VNZ2+My9bFcUL72eV5gyTg47Bt5QMtfI1D7h0OLcCJLzELTL6o6kGuEvXdxtejhYyhi7aHYIcvxYmN41kaohp5IevoTHAFoTp3ikMMWcIjjT7B5wQTh4sqd0VW6PKriiRSvpuqbjYUcbK+bldPGqMmkZ1xDSO8j0l2NqOjIq8GHSdKA1q5S6Wg+5gsl7NxWR26iqCAccdQpjR52Z0KAF9dMSGvT455wI6o8//gcLlIS67u8Q6io1ht3sRNxP7Y1u8oNUwNnZOU3aWWEDtrPTTdQxjDTmMz+ZUlT0MTEwKeokGYDDzWsVO984Qrxx7h2P61YIOhu2XuOdK4b9lgtcskOa4EMbmzaX6przyedlCtrWjXkh/gaFZX0tF6ef9R3wy9r2mtS8KtwlXIvU7H2EsQRkH0lCkUPnAPidP4++sxPi8y4Yg0feMxVapv8QPBgBgAMRAMLBQBeWHpTIi7SZjWqzDPNlAXbytS/nDEYOxjSLDtKlSyc3/+ZLa/RrvJSgWmMvcak3+HOa4hcjM63PUIcea+3rmlgjhdCgsJM/NKJk7VXZWmbpIVfAkVL0S+24wJmAobV6DtkwtaCiuTpFt3D0IhMYRY6KjjvS1SwhTe02B4LVx9oFiO9LdD2Ktf2IIwAKppbHHpDr5mi/1/kSGU3zoArfDyuP/k4SNmq9nh2B5cXgicEUGEsAnRXT30GWv2Z7mZmcSod4BK+W0sEMkSO2vkZLQiY9IjDAJ0bdk3PT/Q80J/4f8bXehmfMOlPXDhbTlpzPc3DHBQd7Hir9NR907tUdkLruO1bwnuM4EyR62d0DpoqfCD/VnVUuify8FVoMUP56p6rLznKHC6RMW05q44KQM2wNXBx1LkdZTDtrQbYXqRtkjFCIAY6RLO+bP+EJm2ZV3B3oKofQKt7reWuNGVRPyLR2MOda9mLvo17juialUZmNibCEUUVp+FrQnf2dkTqiX0cgcYH/s7/osLJddH5ZOTMju2bVlxHmA/uWf+Y7DNcCxMfM+owfw6r9EIvExqLBUIwthGSXaMGjgnT6QvzR39bguwAN5wwPKYVFEqYd1x01eAI2AOtw0rP4Kqc3K9a7fusCc9QlVJRmJ1BfyV6JBZkMj+V2eg0TERTXce8plmZV9rtgSTpS8cQW+Om36n+j6rvVy3uGtGXmLB8OeMPWQEYeJNYQcERzKUJNqGzB87c+ZTjgRazn7hiM5mgdltCL47aQdjq6omtLjpldfAbMQV0AXVTofYEaCdd83Zrw5Uw210nymCujopHbHIrpxwKecsKeOc4D9BCNdlUy7rdQBYg88ZqtdBk5nY7WTWX4EIMXM1EhekfrFN3O/KdoHE1u5Whc5ogyjrvjwhTBpwntgcqBaTMHqu+B72s6MDAtiFiOoCGma7TgqD53edCiXJj1nR6Z6OaUFKmlokg5o4UFVj0AFEUTm8y6qE10Zp63X+ATwbEIzmOW6lZDctWO2hnDg/jthl5QxKao8TtKg5EjEiaEImqXgf06qq+JURynr3H/Bu5bEfIu6j+IxoB4o4oyzSY3qxosau4CLJgImJzhmRtNIOBTahfg7BNZGAQRzjHJsAp/D8GFEZz2nhkQHmDpST2OqenbENWLO4qBWTce7mLlG1+C4eEREFjubkcmO3gkMP2OFY6S9rA9jU4I+7zq9DF9XxcL7RHuohjmVS7F7T3O89ORKVwtL2il3BqxiZHFr0FPh9nNteBopIm0mK2SIzy/17ULHTyHA/Zqoseg9BRrxnJEcfLam4smCVB89Xi+7hgiAgycg9fYaGTR2aU0iwKb595hbDBA4r2lBHFHocLll9h43NlTF/yRitl9tLXqJHzbhEXTKOBx76aRXwPCDZ/M9szu/C6bumgBRks7U8PfUyhLxk47sDU6MFcQjy/7OaDttyjMihqnh9Ia0ME4Cia/zN4za0/pIVkK87Xzw+ryx0vtN1onMKwYeMPChPFk6zWDfNC31Bj0QMs2iMYa3JtafhfM3CWnvWSgSdkpTlzS8s+ADtgyK4ZGiPKWbm5JZYzFnfTS7IvGTxewR0vkrQkTF+fsHAB8y3AEa4daR0gp0IBHdCMGqSOXQrRO2KiLoRYGRuSJHw6jpeJIF7Fn7OniHfquvp1q5pTe0qtNmA+d2VHBp4xfaWoMyo64FP3NYd5SemkNYIjxaKJohlhvUScKVgoxS8TLetoibN1Zp/1UGlu8g8EyzcST4yIFpgA4cdSmy8RpOSpVV4UaTkcq6lqAB4GI3xHBFNICYGTEUafgIO2dT2lqREOfzRv/xECP2UvlNmw3hR9u2sH3o7o5QYWs8P+hhzfQbuYnEOhXmvtqi1yVk6PRhHq+rV0sP2yR4mqXBegdGZa7PRgCsGYv0kxwRtfRnLGItf2eyLaaV02hrztr7Qgbjk3wFJgWmahbTkVgMAcAXhpiDgJNjRYiVKxVly4P9TVxn32NZQgUmdDh8DisCak4pkpkDOpojhzYDa4J7LQG4A+oJoyew8Fw7V0DPevspMuxtr/oDtNQ2bQMgCDmCFTK+uS6QJONSWLjEj+9yOUVRd2hJQBfjnI/kVPt5WVUQmQ3TR0SAkWXJN+2J2ERrO5ckcu0NoajW2vCYThRsMOcnOcZ9DxZvMEkL/adCNTtMl6WCrByyACG+im23S9sepohOeaH/lqMKh1pgTm9uCJRtvqVEV/D1v7aIyywH5jFfQwuVW+6tMEYqYL9bXgtkTRn17xFD6++q7fHJmOBtfrS1OpF7ST/9zBqjPgJtpiczpe1it6q1gNCRrwTl1cUYMpxq2azc2/tj4S9rMfgBC6swcW45dTdvAcRjby333igT7yWh9NxeghsDCKiqD6Eig7YiF46GowG6RoFJKY2fhE1vnqso4lBF7caOzkUWrap3cdH5g1j8whAxkO9A4h96XFx4uyIfaReyHUQ5n6KTOaV91YEULNIcQEPkwNvq+eK1iYERUfPfhXpGgx5OEPSmhyQp/rQY3xgm8Pr8jsiCBWT8OyGUsZUW6lORaQ2jW1CyvLbohadzY+jtbASUcYRqDGCXL5MtGyqOPVYZlJAn3xpmWeNYUSGt5eM1YQ/eR136BrV1OMlyTl2msP/W8Q4gug2KK+38T0NvvmE4glyJSN0Drsk8riHElgPIW5mhNzn4fBZRhNE+XmnLAkNo4kNkXZtS6e9Sp3kknAz8gqTAoFOiBocs3Cmn8JsmnG0RGpntCRmQjCBAJxFdQ3KZ7Cn6THJXMUXpfxr2oGEqQuIMSsHXxCeeRA1HYFIjIvRkph3DAU4Sdl/xHtVOUAU8cw6RD+Nt2ywqtys0SRI45HwTAuOT3XBoaZA0FNcQKAingWId9Pzgx61ADNPQe/LlrimcLeNGc/XuX9lB4UvaBdu+h5Te+RJTmdC49uOfD44E0ZO+liFeDkOFZrE1BUDkvwlhWGuXHq0T4Lh9jZfD8V8ysNQUNmLzgprBxej3hkEyVUbsMY5uzlbfnQRmiDdJELwUJpSIqaP4bhbTJz3kt4t0+seGZww0x3BaiWHm7PuWEUMJmzuH5Jm84n3pUKvo8QiE2Te3abrUE4bgm9KO0ur20zufRCgyUYDWeFINxST0gffTH5UKDNqxd6rLEBE5cQCCr0dPUDH1v6w4YPURjHrbAZ9hggAzuicNEycviUSaU14205MwZSvhaElANMp6XYqKhJTS5wYOGjpSDz1EOOCYxIMTQoqKNmkJsbWy7uJda3RlDU6Z1NTcqBP0Uv6GTOcy1R3MXQaCyOF1vUEAGEZRzQJm0I3eb5G2hqRFqLSJ/RYgEYxpneBmUj46o0euuSEFkayCD31XZtjB0Dy2MIxEju7wIMEQA0NgU2Fe9MG75JiZ//2w8oqnIRx5CSj06i0aV3nq8KgVC2vQyZOe/Z4lIY9AZxebjT+4Zy64wKCCM0YAIo2BbysAcAXqWU52tkqMbXp63Xsq3IJ3qAMxvoG0QKR70hu8hfNr+vNFzuQE1befmEZS6TdwnTAsZwS3p4ZNo86gH1UNh17MUeLdVfn4l+eigUgiqGs0Ot0l9YeA65jySFeBBuMU9ABgx/1hkrt7Ido6p3TDpUGAnfA2u6DTnByH4UzbCbBDOE2suwTEd3SEYR+jYTdQzrw22/sGggAAu8QgBee9K4eZNagy4X8MOBcyIb1UB1TqJ2KMIdQ7eCLJvRylMbZa5XjCoww9jdp5luR18WFWx6kENR0KtBdAMOJiuN79STt/PUsbk1oMPiqcMpvXxPkn3/kmo7xIGbtaLD5DIwinxzaC7NB0L5PJ0YRBiGoq0W1QuAVfPqU+eDci0aRNOVkKNk7AjJvCazDoMFxJNNmXYU0gM00gJjtSNL7GEq93688jGA++CnTlMAyyVE6XiAGpshxzScQxphm24U17sfpAXXL2DwDyGoaO2OLnWoMzS3FEzy0hAZ1exN9t3ldgjkG7yswQvO2KJ0Z99COLnNVO8RkWBWt2EZlvIiZJsSNY5Na4gRMwBCntNhUA9gxrCG0qYq1AWzYCkezp/El6MsN7DFzMNdbYJ3TiYQpRW3hGHUPRRMiMVSofZoT4YQHB+mtecajaBRPEbTqPSgiWc1NEGQ4PT5dfeBYbA5es4SNVBrRuJZDDUcMBABPKmQAa1/9Stb93JAqWEMkjaIWWKxGKvH16/URWTkx3qKKRiYepgVC/JaTgHEETYFPDaevaWqBmmJTWph0RWtbPZwyH9QV2ZEuwQs7STMAuI+RrANKPjVhUHacl3SZe+PlFrBOsbPO6K5b7S8O3rBR9nb9HuZJtnv9JHiDsR7tmVEnejtwGmK8OliZVWvLLax3MJxeXnNynHUoSO1yyElokxCYmVaHuS09ohCiZ2y+KgVnMVHH+N0YyL0zOrLXcJZlAOhdsFqIqe36BJe/Kl1Q93NtvXcVFdxcMRdKE6P5sVOXY8YYd5ncRWewSVn3DZn9mUl5pqX3tLgnwm+qxwy5TDr7LdWo7C9vXmfj7vIAxHUDbjawkwkZ5llYDZoV+Q/Sh0ukzmkV49F1Zxvi4ho7/PW+M0I6gGxNWCjcjucewhHv79PZVvKaszdIxgEvFDjJKl39/Ss/LwqHr0JksaiIfVfuLv329ToXom4+IcAQgUi2pl96IwO+Ivlr8Upqmmul2WeZKrtQFXKeGWnvInb/gGIcNduxeaQQjF5qNZteCO0uTjoYU+ZEESrlZD6H050InUJFa2OTUMYOTPnWgocWiRE95SqhmU2uasK3RLWmL27rRD3I1SVGuQZEXfV4GdbOgbazi1dkBwc2xOrvtD9GXKP+lt2P2QkKC+TInqtF0Od7WLc+gO8ub3mgGd0OGLRFs9Db7F59YB3zoK01LUBOE0Ia15lXnT3aXF6fjEwMThpVbopg/EJVjXiOBRMnvhW6Z60JCb8HvHagIRCFWHGsmCcqMTbxRhO6LgZyJ8TINZjSo7gmEEyQeKdAW8PhMA7LhZN2PVJjijJmJSpPNW/uQo81Ah6z5Vd9VXnB3nSKLy2pnfA1oguzenJ4dPDEzBKmKY1QU4DBpCq9tAiJLFPTHYzrRbBMOdNZm9Qnh6N5+IPXCDAJVbYWr1m5KSOFoIS/4owlYqDAh648hBiZxKyWTI2emLk6gTml4OU6do6DlEkgbBncoyxzxbBvd4xBg1EF5kXsNW6QHyGuBUj0WCcXDOFYr3SFW5rckYHtoikmYZzkNiuvUT/Gi2Y4LRD46kU6g9CR4Bv40LjO+UUX38kUazljbXWCi4UWmQOjKX+kEDzrJl6wNXyIS7FnlfSMvh84YetslnhXGAckZmKsv6zByPp0NdykiXUm16Z8NwoxwEpSTDXbjgS5F+6Sa5MvjRpjETurv+t2D02YFkxxNMrx0EpPt5RXmhQIMO4XMtlr1iZSmmKEYQeO1tByZHWhYT+nPurqslQqPZ6jksFDNPk+5r/4VD2dZeddj+3d+uQEUmLWTmgs7b2Ifv1FEM0Vdi1zMOGwj7JTNEN0NOWw3eJri8hzvhixDz2CwWzf+jkfF9f8m/Wff/0PMaOYCDsEELhYw7SZ6DdCJpJHRE6heQfNkok+LlbGEg2L5vrwPcYD0EgS0QKznAp7o9YTQNq47oCKZEMN8rdf8ouycA5r2524d+ru2mIjJVr2t81Ut6Z83e2wEy2caY7uEPcFCKPaNcuDeyYwaq9GhOK539GOqVv0DtrRupjdmmZQWjA4xGlc+hJ1R0MTPgYHCSFzOEpn8Ro+MFOjzaEFaOTR1GzEAiGznpSgC+uU2fFoUxE0yOGAbvaCr+IaJ5qUsYl9pI4o/N3HNRWMthoxMk1XBMA92y3+GBFPDX5WolP9NIgRwwuzO1M4Y+pckrBGURfA0BLbvifwRNvw5khY+zvBU/sumzEYRt7Jb+Q0CZ6aIofawIYTogcP+ZxVMgo8Snh8FRH2E3ZPNxPt2Izosfy6P5B0sjXy2KmROzMTJ5FQP+dHqLGRG8OQCT14aIowpBDWMCXk2FyAPsEATcEOABbc1C5Vxy3qM3jtqMXZ82UZpy+lMAGwW3ww9QqaD6PCB1coEy5zDmYZMiN3NhM2d2dqffV/dKtO6yoEADMntewBVpFJ//W72RmY06PWqIGZOJGx17SLp74Bxo74qWOwmnCM4UQmVx7hnbI2R/clgUHn03TEmDEkcWrBeWByMCPutHFL3/PYJGkOe5ScvjFG8vE1sZ0Gp0ex2r6QtJz44qJTocRIK8mXFQW1ZjypZZPSs+XaxqocC5SE0qlinUHp56QdW4TtSM+6xNyuNIQ1BZP7qvNZUfKWG0JXiVPARj61e9Czm19+5Wtl7A4P5vzJHUhWFvCWhJCVJEcsAVjDAdGhWqmryrVeMz91gRHAFBRnTOXIlH55UI3uEKPowu3n4JT2ZLGWFZaCCylFYvZghZEVZF1VoH5mKQ9NezBkbl+z2snFgQKeN7XjVC9ffMdjWatxZ1djcKfzGA/2GZXGleV+Z+ia4XJ2Ao33HNk1G2vhdXXfAT2jYr17DUUZV4/VTgV9P2vBUbTGcucU5jm6S33ncUSjC+FxvpDbE825DrppDXKIrbRe5Y8UYmjD3s0uoF1Gdy/WYp1BfSxVSeo9IBVmArRrNqFtWm+mr6vGUVE1degiVvSA3o3TILwJD/7QEtQSjqMG5KCGi+GfutvPw6tOnW7kA13swNQCBAUOTUTR7BT3l9rPLAFDuDBn8M3xiq2eseJepirRcm7Edh3hyxjUsgYHPovSnmZoiYzVvQApRSXrY5GqB3M66n0oAYqA2UdqOKO7MElqnwzs0gYAPAUpddxv/lg7jW9YtKAxpZc4yn2CJHb81qBmUlf3aj5TG59EL7NdgDQLM4D9GIEBaOSkh+MqoU3rEU3Mcs6aBaiTI4lILl6XTJ1H6cWJIplZy/YjaqxdNyRYzYpBB2lGIES2hXnNh3QqZrYmuZk1wCo0TkcihunVZCrtp7JN1aNWl7sFFXDL5jSVzhRXZ2w+E6tfx50mMQQ5cxojE7ObgC8+JLMDQ2XKCY73K+dpoZH/pmsdq2VXtFbI66wVXOcBv1zhnYieG31CvUsDma3+ynPphwWU48vgaydv4KVUK2daurbPw51/iOEtm8TJYR18vk8qz1mH3qU5X43qls5igpPEYze//fIHAYn7lncPkca+6sTGZSVymjxrRKwsDEh3VPsY68ah4Ooa1Jhtd3CnTX1Ry9HXMCVQdfPFj76itaQrzOseEHwA2CF7FHZw1ESHCsGUjq7xb8suUhcfqRMy4XFLvXOAM/H68shurOl/ol15M5616yGoHV88uPsmhvhV0pmwHzbuerp/SngyEDC92B2MIXQ7TttgWGDCpn63fH8H9Ja6iTulzs6TY9BnEGiR60GeIhWT2a706p7WpOFThi/9XA8gU20ar4jT2iv5C97EPzLCZgwwldeGRw3MzkrLR2WptxPDlKD25+e1PFKaWeUdV2W7PjGbd72O1MR2okcKAUcmzRBbyfAAoDs0QruzUesVDLo0IJqANOWIQCui5CQeaCLFrlLjQXqqIAqmNiefAezDD8DaConc6vUSwxqckwe6zLvxAkGxg7iBjs4uQOFQb8Z6FcZy8YwX8axSjsZTC0A9Wa1fuz98MXqXaa19+dJv1bfYTthp6uRLv5ImAxyuibYJn3wm7OPmwLZ29TGKTeArsxve18cFiPMhK1smEi4xt/46Fy41p5RtOkzRTcLK19pHEhv+sSp2RGEOAfJmRGtTY7NGan3blzmYZ0L742UAuJvcDfO7RD9TxY9bBdgbX/Qqn6Px5ut1vK7+9iUdDzG9czWZJgTSdZUew0CXYjRbHg6JWgOFpHf0AK9DN5zHQseHMdK+4SYbaQ4tGkVih2ZEOZ/tJPOgTTkwLvuTPQkdZbizR/XuT+x4kYW1Nsrw9N7Ta5eUX37703NtjNfC6g4xqYUgI0ijnIki8WQXNVHljkYeGuipO3Xkud8cOqtELItn08dBz32hHE7zBvwv6/M0wOZLMxISdnr/yQ4a1VWzfl6NRU3mh0CA68S69nrrBnz5VNjIPYRvv+abZBPrcW0VTkaBNTMwmlfZzsOlf44aNRdKTC2O3r3voxNA+h1VE2+2Wn/u3yw5Qy1yD8TlrAnMEgQr/08Vh0gs8SNiAFLtCMdMRE/MkT4sQGZsZBIo68AmNAMzRxTM2l8zOyO9T5sLbyJqRPD7XpTqFNpmX9ZIQK/D+HEbr7uztts5Vf7mk8fL2mD0Mk0JPUJL6IsMD2ctBHtivMQPGHUO2hOTqK6jqDMRcQtaJpYWNOWRCGhmpIEJ81BxdTgPm1jb008+FoC5fVB3XNAkNmI1bydfpPwbLdOaTVWkezmDqZGXijc7Ns/6ppvmTkuclKam6IiaQu+os9j0uCEDdDa5amiTNDAoaqf4e8IRCRYGZsXWd2kW3RdE+AJMLfiUnjGffO0RLVoGY0cMu3MkIV1+T+WDVgsGBJd4EEYCcdMd5KH9fXIbSfeNbensHRBME0U3IjoSa84X/o2XPDehfj3tdWQz0TJu6tNCrwCvjRHrHuImLChtYjC5yLRh0aK1h7CGxGg22y6Wzwwfkylhs/bXYSyI8byabynMCrjejsUmUuM/wzvoqDuc09NDGlL7N+bRzHmAKTZ2dlfnjEHw6/wAhi/xNOamKEmhI/1LejJINLf1uG4/ZdiRiQfipE3wdHZE6J6KLkM1mAhnBQLvEJz1HgUfiO+Zjp5WGVFfj6ojGHUQoQPgVgZ1hrYDJ1oXQ2cAQNcu+5MpOWcS4fG59q0SaM//eT2tjW7DY1mp5WUBa4LdcQXLTGFedYIdjjvoJq1R7YOpzsbF6XeynbPHMWSCzblr36hL7F6ktQ0yLgSTGZ7wm85KeUaJpTOjNo/FR+1V2aZeyQ4ec/Xsdmjv9wVzSWrt1eoJaE2H3kU6Or6WGwAkvSceiGbmWk/4GLA5eSfavA3PWIKL8g7JsfHUIW2nbqnHLhytWwuAdvpWmo7tr5VqvztpRCYN6cFlR0dTE4NIwoDwKQY5KFKMH7yTQEX4Y384EERld5CKOZFVydS/6WrhX6g/YgcMZaKC1tGNCGDdfbginOBvYPg1EiRZowbgiGAH6bkDgoO0Khkpv2CE5hxOWrPG1OjqlNCxrIVtp86fKgMYO0/yzoRyV/j7RUUk6I663m3e/IIvcE0qad2Z59M16Rn78G9mB3n4nRPPEp7eVVcwMdCEPi0LKGeNjoCpl+m3X05H0Dl2V7qiUzqWKSKVSsM8wUV9aM6fWrMAYZMEUo//M5+oWPTyXOfUxxdKOrlzVdqbFAkR+ksu0PIYRSbxrmsDnyKxPkaHZsGB3ZiimEKDw2wx04KXQNc7O8uIwHjfAyaSuudjYL1u7x4CL5Wm8wSjyihuoonyTeKMCAt6JlA6RAwdHpEYSUe8fyG9zhU9wwcfOYsl1+ftdGJuADFTWbcz+cFvtiQqJDRuSmCvHPDxbs7yRBWCZqCf0EGUUTSSTWxOVp+eheo07g7i1sSCRuAnSgqh+QBXcs4tLX/GQ1kwZJCUkyzXcYbGtDi3sOasghljzQ81zZwgsezlcC6+/KBbLAMNvuc11Ze/vmgKkhFZdA3C4cxJ7c7IS0jV9SuYOlG1f/sMvE57iM5ooSkL32kU4112IYhx5nybWY90ZFN3w/H2ElErjf6eq9LDh0CLb0LCIPOq9coJs6hTpjUThrsE6XuGgU0yWoYUlTdK+uiky4a8WdjZ2+OzApv4IUqv+V861kvU+ytffJd22fdI/NXi6mdyEUFmRntF+MRG8Gg64Wshfp9LJmJ2OnS6HZg+s/wYIrXE5EUrIm+DpyjJqTUVYdKk/trrZ0UoImVHo4p2FMmxBiNTCzDlFN+DYaMFDOyZ2MDXr5q9yfBCN41tAEPcwDZHKoG6kWhH5sQ2FnQxTYhnzFg+YTfkqXXSdgQwBHZOU8IuTq4DvnHvPKCdfBWp4VBTpl82OWJmZwRHWPSLByzMpvStLnYZhz6DH60hxlo2zzskAhg63M3Hu01quk+BQ4GInccd0FiWoB47i9PDfqQ34gx7dPUostbuJtDSC0ROSTvym/HnptaoV+KKoGvPyJ/OefS5pqvMJLe9YHQgfSLyrQDy08yR7Y3PGhVmWPm5hty9Izd8sttrVFKYVGV/9Njb7jU4s6tVTACC/8AC13p9n2VdTLlu4i52cklvAHlnZe8Fqo1BbDhyWa2ZbNxthJMIs/OIaANeN9vL/b1EB5hkaXjXvTHRSx771hHNZO1Z0xiYmK7ou0kXtJMna+gOcOb2vnImTtqd/2EnwIQejfUGm6xlzY4UFA45kRObRvmKOKUzjsOcS9QZUERT2se2ukJBGQpnbvFrnmQYHFCeg/bA7rPIGTrGpTmh/xm8wC6z9J4ELat1tDE0cEHJZIXZ5lXT5N+eh3QfUPWjBaEL1dPsfoq3x4ppDJzmRqWmEgjFuuTfqOam2ujsERnGIgghadCNs+WELA7azLXpxfqd+MbPIB4JbF92HpgHmfck1R71Ea0Nvvla6QJcX1fSzmgmRScTOgdYytp9l35RkWA7ypc+MKvTdVhMCcarN4CXTkIe9cSZ7/TNnO6TTHPZj8AhW4a2CkZj992SE1EBpA+whx4MjxxydB5OWkNUAnC2qtA4MRhF6j67BZfYu4mbA2xgsdJSWJKCcdLkwal0uw5OmCoJw0lQG3ihwDT46Ma1Y6NG6tOC3dcXohN80pfyj1FjU4/TfLb6LCLsiTMZar/Sx6OQXtcgkGAOyZ1UkVoC8SZWunYzitLUSXiL5k5azkR1IyZyYVzFoLvorjEA1upZro4gpxcHPohpSkwTvxSaEjX2ZiUs4jW3L+QYLObiF5uT61nsnaEm8/t8P0YMCZXpDrTSsz5tfpAeFx/EDwzFsxO0ztgGJvH1j7/6KQ9OvxUT7QAABk1JREFUsYxWVtV1XHl1zUTjskkoXaX/6zmRrMDhz2Dw04eH6WuCZoUIjoUvtzEg2DTlmdEwsnepUF0X29wZid/eLok0fqmD73is3vG7mzR/jzzDRj8hwDtm0qpnb9VVOcYCzeMSCxC1NXixgwHtwG84dY3d5TQzoKRPk+gLLyk9/6OEHT6yCAopdcwixXLSu2qYiaXsCHeJnTanfnBR6Ucqoh9YfB3lFA17prgcMdQSMD2GMTWTib7ER3rN6/qrRtxxNwmkOdTmro+5kW9GDDvvVWUDRZ1mbham3GcUJw8FEWYkaeWJPgtPwkyQdjlPx1AIpe9PT184IGATnIqXzbanKTFNR29tdK+dtDZe1PYIfPyQpTG3/TZws5GJvRMLm4ketAGnzo3Ff3pCLDs89z7NMNP5IQBN3cb9RIy7yckpPZknfWKe6dU/e9cpZwBcB/CNK+T7WQXOeg5IN2fcPfo6rSZf2Nvzb44KFMt2NsQFTZlYAzYdUJcaJhNFCyyOqpyKoXli//GRorGJBQDB1BHRIWIa6g6+vZgIi21ydmDlREtTEKM7ohJxhLT1itOmMFzoSzsrLGVdfSAnWtk0LWOB5tb4d71OT3Fwxv/Sn6Oze83rQ3Lo780C8d84L81+nBlrK+f37E38L50SW3P7uo+nin2ckBAN/Q4h6oPgZzsGcIYxGG06naRv4J+b4fH7PqFTZ/j7SKXrWnPvG2BqgfodI3wndA53a9ZUwNzlQeGf3/5x80qCyAs1fAgKBM0vuenBUpWzDSs3fL6XvVIeu8zNnSii0VNV6jD8binUswJ6r8TTnnY0XvCS6ivgPV3+kVh++yO7GbzGL+4itc7HyBphM5IAOq1//fZ78D27GlLOq7zj0shZZsZ+DMVrIlyxlZFmLLB/IRXO3XWvB10uxuPr1y/4JybAGqRWq5GE5gkIAPgFQwQAKKG3ChhojUDwnl+aze0+m3RZbAz2BQDJpx7Cb3e0K/Jf1tnZ5ePtuRvBEHCTbc8bzvXcDyRI+/glyJzO6Ggc52eX6QVvlpDgrBxsLwOQoNbddC2iFjGYoPVnhi66wXON3LPln7Xzy7eeI0tzksEjc3U2L91bxkKs9SLRjLiDoA/xvpKK4gomGyVGIDLUcrv9fO5mYpaYZoacnnrK/GudubXxsna+MXxYyH2Q3bsJo1qJd90vYxsYHxx8ToqkqfmJLntqgPSf4BMSRPZWq0ffssW4yu5+bu8GvEp9/ZJnr3kC24/DsDY09dtQkSpwWu/C0TdMu7vfdt595cdYODF3BJmw/BFzhm1Py0M58eQmtJMDNYl6PWDfI8kCiuaCmuLB4NHkUYSN8AuDD63V5autxeoVn5FYJ9u1NVrq5jpuXZQBefPDFnTw+fbQyz4lwj0tb4AVycE1Xc98OHYZgh7dADQtk+3D5P9/MlP/iIJQyQnl4GXxDYzV8xCJGQ7EzCKMnOoih2lTm8LknCrv04PPsvJY9DKAW/MR+/2W6rv+Dh6nIKkpQCWk39c0byK1AH4Idc8mSJrv2/wPS9OFnq0+4vfX/7dRM8tcJ2Wf9AbeX+29Hp8zkYMwJ8x/pWRfRmltkvcZL2cT2BoHch42z77el07H6+w/XRGtARPkcySIzuB3MlaQzz39kehvjjR1huRoyH8JVvSRqE71Z7xS3D2L3umgWmfA74AVnT06wWPkbwVwWhh6+gIHa2P5zMCA/wXiX45wIpGY5i2Gt47rG8wmRvgzpLcM3hQfdm432Qebelpfq/mGzgfTdBuVdeo9uuKM0ZrgDy+1b0T2yf7MwGcGflIGenhyNcjrdSj/5Y9ZV/a4DgTT75ir+znMJf7WMvaT4v/vNHOu0Y8JvMf7vvSO/mz/WzLgOepjpt+6drkuOueo+JjBt1BzZzaWf5LNt3y9z58uX318X6HS0XoXm9T7Wx1zRxLO/CYgtPeGTiPn0XXyP+nPDLyXgY/NyPcsvCtbq8hHbpq8a+dT+B/NQMeLle3xTPzYugX037UAvX877XM63gbvs/l/JQN/a7vxX9ipj8Wfrd199fleZ65Lte8hP+WfGfjMwGcGfnIG/rt2QD+5c5/mfmoGzsuuk/6pTjS2nurojvhz4/tvSPBh8nkoP7bfOUz8APm5A/qB5H2qfmbgMwM/loH/BTwXrbxd/J5sAAAAAElFTkSuQmCC\n",
                  "image/jpeg": "/9j/4AAQSkZJRgABAQAAAQABAAD/2wBDAAgGBgcGBQgHBwcJCQgKDBQNDAsLDBkSEw8UHRofHh0aHBwgJC4nICIsIxwcKDcpLDAxNDQ0Hyc5PTgyPC4zNDL/2wBDAQkJCQwLDBgNDRgyIRwhMjIyMjIyMjIyMjIyMjIyMjIyMjIyMjIyMjIyMjIyMjIyMjIyMjIyMjIyMjIyMjIyMjL/wAARCAEgAYADASIAAhEBAxEB/8QAHwAAAQUBAQEBAQEAAAAAAAAAAAECAwQFBgcICQoL/8QAtRAAAgEDAwIEAwUFBAQAAAF9AQIDAAQRBRIhMUEGE1FhByJxFDKBkaEII0KxwRVS0fAkM2JyggkKFhcYGRolJicoKSo0NTY3ODk6Q0RFRkdISUpTVFVWV1hZWmNkZWZnaGlqc3R1dnd4eXqDhIWGh4iJipKTlJWWl5iZmqKjpKWmp6ipqrKztLW2t7i5usLDxMXGx8jJytLT1NXW19jZ2uHi4+Tl5ufo6erx8vP09fb3+Pn6/8QAHwEAAwEBAQEBAQEBAQAAAAAAAAECAwQFBgcICQoL/8QAtREAAgECBAQDBAcFBAQAAQJ3AAECAxEEBSExBhJBUQdhcRMiMoEIFEKRobHBCSMzUvAVYnLRChYkNOEl8RcYGRomJygpKjU2Nzg5OkNERUZHSElKU1RVVldYWVpjZGVmZ2hpanN0dXZ3eHl6goOEhYaHiImKkpOUlZaXmJmaoqOkpaanqKmqsrO0tba3uLm6wsPExcbHyMnK0tPU1dbX2Nna4uPk5ebn6Onq8vP09fb3+Pn6/9oADAMBAAIRAxEAPwDwCipcUuMnpSuBBijFT4FLgUXAr4oxVrAowKLgVsH0owfSrO0elG0elFwK1FWMClwKBlWirWBS4FAFTFLirgA9BTsD0FMChRV8AelKBQBn0taFLQBm0VpYopXAzaK0qBRcDNorT/E0fiaYGZRWpRQIy6K06KVwMyitOii4GZRWnRRcDMorSoouBm0Vp0lFwM2itKii4GbRWnRRcDMorTpKLgZtFaVFFwM2itHNNzRcRQoq84+Q1SySepp3GTYNKKWlFSAgpaWigBKUUhp1MAoopaQCUUUUDAdadTR1p1ABS0lLTABSikFKKACiloqbgLRRRQAtFFFABQKKBQIKKKKAFopKKACiiigAooopgJRRS0CEopaKAG0UpNFABRRRSGJRRRQAlFLRQAlJinUmaYgYfIRVDPNaGeD9Kzz1poCelBptOApDHUUUUAFFFFIAFFFFAC0UUUxgOtOpo606gApaKWlcAxS02nUMApaSlpCFpDS0hpgOpcUlFIAooooASilopgLSGjJopgJRRRRYAooooEFFFFABRRRQAlFFFIYUUUUAIaKDRQAUUUUAFFJRTEL6/Ss89a0P8Kzz1pgT0tJSipGOooopgFFGKMUAFLSUtIBaKKKAAUooFKKAFooopAFLSUtABS0lLQAUtJQaAFopBS0xBTqbTqAG4NLilopgFGKu2+k6hdxiSG1cxH/lo2FX8zgGq7wSxD50K/Wi47EGDRg06igQ3BowadRQA2iiigBTSUppKAEooooASilooAKKKKAEooooAKKKKAA/0rPPWtA/0rPPWqAsUtIKcKgYoooooAXFGKWigBtFKRSUALRRRSAKKKKAHUU2nUALRRRQAtLSUUwFpabRQAtKKSigQ4UtNoHWgB9XtMit5LhjcoHjQZ2E4Un3qjWnoVlJf6mkEcZfKkn2FS3YpK5bvPEFzdTkuY40B+VIUCKP8aoyXbzTea0pY/3T0rd8S6B9j0eyu4rYRHkSc8n681yALDtxSTuXyly5CPiRQqk9VXpVWjcTS1RDGGkpTSVRIUUUUgCiiigBKKKKYBRRRQAUUhpaBhRSUUgAUtJQKYDj/SszvWmf6Vmd6aAsinCminCpAWlA4popw6UALRS0GgBKKKKAEooopAFFFFABR3oo70AOpaSloAWkoopgLRSCloAKWkpcUxC0UlLSAfWnoN9LYatFJHKYwx2P7g1md8Va0/T77Ur1bfT7Se5uM8JEuSPc+gqJRbWhSdj1XWVgutKVbgsEYAnB7+nvXNXPw/8AEepWqy6Tod0bZQSC4WIt7/MQT+VejeA/AXiN2jufFKwhYsGGFmDMPQsAOa9dSLEYXAGBjFKEGtzT2iaPiq9sLvTLlrW+t3t51OGSTrUFfXmv+CtA8RQSR6hp1u0jjidUAcH69a+d/Hfw8vvB1xvB82yc5STuB6H3rWxDOJopaSgkKKWikA00lONJQAmaSlpKYBmkzRQaQC0mKWkNABikp1NpgFLSUooAU/0rNPWtI/0rNPWmgLNKKSlqQFpaSloAUdKWkHSloAKQ0tIaAENFBopALRSUtABRRR3oAdS0lFABS0lFMBwrvtC8GaJ4h8Ox3MV5c2t4OHkGHTPuvX8jXAjpW34b8R3OgXodG3W7kebGehFTKTRpGw3XPC2q6BIWuIGktSfkuU5Vh/SsgHjNe+2t3YaxYBl2tbTLgr1HuPrXn+ufC3Wo7pp9HijvbeQ5VI3USL7FSamMubccoJI4QUtalx4X8QWUhhudC1KOQf8ATszD8wCDT7Xw7qb31rDd6ZfwxTSqm57Z1z9CRWtjIg0XRNR168W0020knkJ5dV+VB6k19MfDvwPB4S0tQ8SG7kUGWQnkn1rc8OaLY6JosUFraLEdoJwuDU1zfFIJHG4EcAN3qXKwi99rQXAgUZ96bJfATmEL06nNYkd4V/fMcHGapi5lnZyDl5T19BUOTA6iSdVVSD+VYHiyyh1jQbm0nQOpQsp/ukVftlK24Q8nHXNUdTm8uwvJGYARxE81SkUj5OvYPs93JHjgMQKgq5qsxl1KViOpJqnVJjYlBoooJEptOooASkpaSkAUUUUAIaSlNJTASkpaSgApaSlpgKf6VnHrWif6Vnd6aAs0opKdUgFLRTqACiiigApDS4oxTASkpaKkAop1FADaB1opR1oAWlpKBQAtFFGKACiiikM1dK17UdJyLO6ZFPVSMj8jXfeGfH4e6giuz5MxkHzrkq/+FeXdKlhfZLE+cFXBrOUOpXMz7Os7qOe3jkQ8MoIyKZqN3BbIktxAkxU5TcAdp9RXE6d400iHSbVJdUsophEPledQR+Gaq3/jPRZgDPr1iQvQCZT/ACpKb2JudefEbOclAF9BVeS7e/YceXCDlj/erzm/+JHh6xXEVw96458u3Xg/Vj0p3hPxhqnjHVLiGO0jgtIlzGofoff1ouxHe3Mgu5RBbDI7gda0LSxFpF5knXtWRZWslrOZGJMp9DwK1xNJKQLhiAOeaYFlGwpJrkPiBeNb+FL1k6u+zPoK6SS48yZFi+4M8V5f8W/ESQwx6RCykn5pPY1SKR4zKd0zt6mmUpOc0laIUhKKKKBCGig0UAKabTu1NpAJRRRQA00ppDQaoBpopaTFIAFLQBS0wA9PwrO71onp+FZ3emgLVKKQCnCpAKKO1HegB1FFFAAelNpT0pKbAWjvRR3qQHUUDrRQMTFGKWimIKKWigBKWgCloAWiiikMKWkpaADA9F/KngD+6v8A3yKQU4UWQDlBZ0RVG5jgAcZrv/A2u6X4MS7l1R7kXch4jgQSYX6g4rjtMjjSSS4dEdl+WNX6FjXo/hj4e2OpaatzqyXEskpyscRMYVfXip5UTyMux/GXT45Q39nX2w8sxC8fSqt58ajPJ/o+iSOgPAkm25+oANb0nwb8NzxgRS30Oe6zZ/Qg1Wk+B+ieYCmtX6eoKIT/ACFVyIqxn2PxnVpJnuNBkTah2rA+/B9T6CvMdZ1WbWb+S8lQq0jE4JzX0DoPwy8N6PcGSOae+kdGRmuXHcdlAAFeDeJtNXS9cubNPuxyED0600hoxc0UuKMcUxMbQKU0gpCFoooFACGkpTSUgA00040lACUUUlACUUUUwCiiimMPX6Vn960PX6Vn96aEWadTxA3pUi27VHMVyEOaXNWBanvSi2NTzD5GVwTSjOKti1p32XjpT5gUGUiOKbjmr4tR3qQWqntS50P2ZmEYNKPpWp9kUnpT/sKntRzofs2ZNFaw0xW6U4aQDT9og9mzIFGBWx/YgP8AGaDoTY4c0c6F7NmPS4rSOiTjo4pv9j3I6EU+dByMoCir50i69j+NN/sm9zhYt30NHMhcjKVFXDpd8vW3aozZ3IOPIk/75o5kFmV8UtPMMqnDROD7rTduOoI+tFxWYDrT+1NAGetaeh6Ff+I9QWx06EySE4Zv4UHqTSEaHhKwOq65Z2oICJJ5spI7DpX0HpcUsQkMqMqkgIT2Udqz/BvgOw8I2QMmJtRcfvXcZwfQV0cr8NyCall82pKM4BSnyGN1Uv8ALIvcVn/bGjHAGRURvGbczMqn0NTzEJMuvGDdJJGRyRntXzt8RFC+Lr3HeQ17kLuSa7ijBJ+YdDivDviLFLF4uvFlADb88VaZdjkaDS4oxVkDcUYpaKBDaWjFGKAEopTSUhjaCMUuKWgQykp1JQAlFLRTAZRTqKLjE9fpWeev41oev0rPPX8apCN4LTxGasLF61MsHpXG5nWolMRH0p4iOavLbE1Klox7UucrkKIip4hyK0VsGbtUo09vSpcxqKMsQH0p4t61V09s9DUn9nn0pe0RdkZQtgO1OEOO1aos8dRTxae1S6gWRkiNuwp4Rx2rWFn7U4WRJ6VPtB2RkgPnpUgL+lai2J9KlWwJpe0CyMfa/wDdqRQ39yttNOJ7VKum+wqHVaFZGEoOeUFSqnolba6YPSpRpqY5FHt2FkYfl5xlaetvGxGUNbS6cmelPGnqKl1pC5UZSQxD/ln+Yp621vKWyiDHUlRWoLNfYCp7fRn1C7t7CIYM7fOfRe9VCrJsiSSMzRfCD+JdRNrp0NvHCOJ7p4gQvsvvXr+geGtM8JaWtnpsMfmdZJiAGc+9aemWNro+nx2trb4RRwqD5m9ye9Vrye2jJMkVxz/tYr0It2OR7jJJ2QHdChyeu6s+5uR02Kn0OajmmgcEwpPj/bYGsXUNSS23JHhpfQdqmdSxShcs3N/HB95+tAlLgHrkZFcg4lkcuzMWPvWtpVy0YMM0nH8Oa5VWuzTksdBBeTREJGIQSR8zIDivOPihpV5feIfPxH5RQbZBGQp9eQK9FtYUuDzMie5Ga3R9kjs3srlGuEkHIx/jXVGWhDPmb/hFr4gFXhIPT5jTG8LarniKNh6hxXrOv6N/YN6FSE/Y5QWiY9h6Vjh4j/ywFRLEcpShc84Ph3Vh/wAuZP0YVC2jamh5sJvyzXqK+R08oj8aeBH/AA5/OksUg9keStYXqnDWc4/7Zmo2hmQkNDIuPVCK9g2Ie5pht4G5Y/pVfWoi9kePHaOrAfWkBU9CK9hNnZP94r/wJBUUmj6fNnMdu+fWMVSxMBezPI9tNIr1OTwvpj/8u0H4DFVZPCOmt0tkX6ORVfWIMHTPNCKbXfzeDbEdFkH0eqMnhCHJ2PMv1wapVYh7NnHUV1D+EGByLkge6VCfCdxnC3Ef/fNV7SJPs2c9S4rePhG7AyJ4yfoaYfC2oL08s/jR7SI/ZswTwKzz1/Gunl8OagisTGMAZ4NcwRhiPQ1cWnsTJWO+S2yelWo7ReMirUcRHarKRD0rynM7kVBZg9KnSyx3q5HH7VYSMZ6VLkO5SS1ftUyWz+laCRjFTxqM9qzc2K5nrbMO1P8AspPatVYwalWAGlzMLmL9j9qlWwz2raW1HepBbqDRdiuYy6fxytSLYqP4a2BCOwpRbE0tQuZi2a+lSrZr6VoizNSraGjlY7mYLMelPFl6CtQWhp4tiKfIwuZf2TA+7Tfsxz0rXMBNKLVj3qeULmR9lPpT/svtWuLZu4FO+zN6U+UZiizDEZFdT4O0dfPm1CVCCPkjz6Vn+SQQmw7m4GK7qxthZ2EUA7AE100KfU5qkiVgvHOCOhrK1TULKLAuLVn9XV6vzuFUnNcvq8yynyz69hXVOTS0MYxuzP1DVo5wUsbd4xj70rfyArFMMr5JXrWskUa9uaUxg9+K4ZTlI6lCxifZZOuKd5LAcgZFbQgQjkio2tlzjNZWaZVitaXDxDDfh7V0Gn3Mk+HZclO/rWP9lUdDzV3TrryH8p1+U966qU+hjUgbuqWEWu6RJbtgSAZjJ7NXmDWn2eRoZUIkQ4Ye9enQzFSHTpmsXxRYwTXSXduyl2GJEHY+tXVimrjgzjBbgjIFHkYrWW1I4Ipj2oPY1xSVmamYUAFN8sVfa1UetMMKj1pAUDCTTfKK9qvm3J6E00wMvepuIo7iOxFKScVZKNUZX1FVcCuzMe1QSM1XCMdqjI9qfMwKDbj1pu0+lXtinsKPLX0p8zCxT5Hanb8fw1ZKrTSqmq52FivJJGYHBQ52HP5V4zL/AK5/9417RPGohk/3G/lXi0v+uk/3jXoYNtp3MKq2PXlgPpViOIcZqyrJ/d/SpVKZ6CvPub3GR2wK5BqdbYDvU0Qj7H8qnVVpBcrrbccVItsc1aTbUqgZpWHcrpavVhbZh1qymKnXBFOwiosTdKcImzV1UXrU6Qp1JqrDKCREVMsZFXRCnY1IIlHenygUlU56Gp1XHarCxjtT/JNVYCAYPtUyRxHqacIfWniEHtRYBv2eE9KUWy+tKI9pqQY7mjlGR+SKPKwelSZGetIdvZuaaiJsv6VY+ZcrMy/KnIPvWtNLgk561ywmuIXDRykAdgeKnk8SW8Uix3oKE/xKMj8a3hJJGEotmhdXGRgVhzwmaXdVqe4VkM0ciyIeQVNU/trf3MUpyuEI2I2s8HrQbZgvWpzePjIxj6VBJdOT2rBo2TK7JtPU1CysD1NSST57c1XaRz2xUtDuOJx3pgd1YEH8KQ7zWZe6zBZShGSSRx/CiZpbCepujVZoLd1iC7yPvMeF96qadOzqRLKHkbqxPWuO1HXnuz+4t3VR1STIz+lRWGuXFu/z2bqP9g7hVObsNQR28ksiOR5eRSeee6c1mWWuxahei3EbA7eGKkCugtNMuLos7MsMC9Xb+lZNodiiZA3VAKQ+WT90VPMiRvsjcyj+/jFRFfaiwhh2egppEZ6in7BTTHRYCIwxnoaY1spFPZHpjBgKTQFZ7YZqM2o9anKuT1ppR6LCK5th61G1uwq3samncPegVykYD6U027Vby3ajJ7imFzOnhbypOP4G/lXiEv8Arn/3jXvM5zBL/uH+VeDS/wCtk/3jXo4PZmNU98jRf7tWQqd0H5VEk6Y681IsqMOK85I2JBDF12gU8Rx9BSKARUiIBVJACxjtUirT41FSqq+lUkIaisDjFSAMD0qaMLVhVWnYdysC/oakVnHarKhc9qkAX0qrDK6lyalUsO1ShB6VIqCmBErsKnWQ96eIwe1SLBQFxgcYqRW4pwgp4hFAXIiRijYGHWrAthjmj7LxxQBTaJgcZ4pPKI5q39nYDBrPu9QksXYS2czRL0kijaTP4DpVCHSMEViR0GfrXMXPmSStLN1Y8D0rSvvEenSR4+y6jG69R9klGf8Ax2sT+3I2bd/Y2oyehKYH6mm1YaNnQbFYbWeUtlpHzjtWn5Y64rH0jXIAZftkEtip5VZBuz/3znH41tQajp1xzFdRn68fzrNtCsNZARjbTDb8ZxV7z7X/AJ7xf99CoZ7iAL8k0efTPWi6GZ8vkRcynH4UkcUcvKkEetTC6gORIyVXnuIAv7pgD7Um0A6WBUQtmsORGNwWR3Rs9VJBq60zSdWJqPauelQwK7fbSoAu5WX0YK38xUsMjx48yCxkx1822Un9BUuB6UCUxsGTGR6jNRK5SZvWNrA0H2i5trSGEDOEj2lv1qK/1L7UgiFq/wBnXptk2n8sVkTX088qtIwwOijgU9bw45AqOULkrS2eMNBfL9Cjf4Uf6CVz59wn+9b5/kaYLoHqBTTMp6AVaTC44JAeUvoPo6uv8xUbMFJBZW91PBpr4YdBmmCMn6U9RDiy+tN+U0GI0wxNS1EBVewpPLBppDg0ZcUwuI0ZHaoWRgfu1Nvems5PUU7EsqkEHpQVyOlTkjbzUW4UWEV54v8AR5f9w/yrwGb/AF0n+8a+gpz+4l/3D/Kvn2b/AF0n+8a78GtGZVD3ZYTmpkiIxgmnIpqwq1wI3EjLDipwXFIg56VYVQe1NARhnFSozZ6VIiZ7VYRAO1WkIahIHSp0lx1p6gY6VIqIe1MBquDUyMDSqiAdKdhR0pgPDKO9SKRUG2ncg0wLcZFWVIrOUt2qwjMBRYC6OalGAKpJI3Tmp1Y4oGWQaduFV1c08OM07BcmGCKCAOgpocUMwIoERXcKXcJikL7T6MRWNP4WiI/dTk57OM1uqSeMU8DHbND1KucdL4bukyFCke3FUZdKuUzuiY/UV6CSMVAwBzkA1m6aA86fTX/55HP0pgs5FP3D+VeiGJP7oz9Kha3jPVB+VHIhnCeS4/hNPERHPNdk1nGW+4KU2cRH+rX8qXII49cjjmnYNdHNpUZJIFUn0wrmlygY5YgVG0h9K0ZLTb2quYfalJAU9/PegPU7Qc0nk47UrAR7j60m9vWn+VR5YoAaJGFTJPTDHTfLINAFxXDd6cQKphmFOEjetAFggU0xj0pgl9qeJaBEZj56UjRDrU24UhYVRJVaIHtTPJHpVkkGmmkBUnh/cSn/AGG/lXzvP/r5P94/zr6NnP7iX/cP8q+cp/8Aj4k/3z/Ou/CbMxqbn0FGBmrKLk1CkVWEjOeDXAom5IEHapkXFMVTipkU1okBIgqVRUajFPBpgSing4qEE09cmnYCdW4608cmoBnNWYhxzTsA5UPWp44wRyBTVwO9TLgd6LAOWMDtUqx0iMvrUy4NAAsS1IEGKRakAoswBUFO8sU4A07FMVxnlijyqlAFSKBRYdyBYuakMfHWpcCkbA5oFcgKGoGBBqyzAc5FQvIvTIosO5XYsvXmmmcUk0gwayp52B60rBc0muUBxmmtdRjvWK87bs5NRmVj3NSO5t/a0PcU03EbDtWIWPrRvYDqRUgajrG+eKpSwICSKrtcSKPvVCbyXODQO4+SOoStDXRPaoTcHPSkK5IQaQZpgnU08SKe9AAVNJtp3mL60hcetKwXGleKZt5qQkUw0corjeKdTMijOadhXH5oNIKdTsK42kp1JTsFyC4H7mX/AHD/ACr5zn/4+JP98/zr6OnH7mX/AHD/ACr5xn/4+Jf98/zrtwysmZVHqfRSCrKDpVdOtWFPFcVjYlFTIOKhWpkYUwuPApQCaAalXFMQKhqVY6FxUox600MRY6lCHHFKuKepApgNCmpFDU4YpwpgIA1SgsOhpAKeBTsAqyuDVlJj3FQLHk1OEpWC5Ks3tUocGoki5qUR07EjgakBFRhDS7TTsA/dUUkopXRgOKgMbt2osO5BK7NwKgMchFWzEaQqQKXKBQaNz1qFrbd1FaRAphApcozIe054BqM2nrmtchfSmkL6Clyhcyvsh7Co3tjWuQvriomUGlyjuYzW7d6geDBrZaMc1XaLdRyhcyzDmk8itPyaTyvajkJuZn2cY+7SeRjtWn5PFN8mp5QuZxhppiPrWiYx6VC6Y6UWGUdpHakwaskYppXmiwFcoaTJWp2WomFOwrgGp26oTS5NKwiYGjFRB6dvHrQIJ/8AUy/7h/lXzdP/AMfEn++f519HTN+4l/3D/KvnGf8A4+JP98/zrtw2zM57n0RHISOalEvPWvm/NJmp+q+Y3M+l1kp6ufWvmWjJo+q+Yc59Po59amEnvXy1mjNP6t5h7Q+qFf3qVZBnrXynz60ZPrT+reYe0PrVHGKkVga+RsmjJo+r+Y/an18Dxmng8dK+PcmjJo+r+YvaH2IHqQHNfG+TRk1X1fzH7Q+zkBxViME18U5NGTR7DzFzn26q1Ior4eoo9j5i5z7lFPAFfC9FHsfMfOfdOBjpTSq+lfDFFHsV3Fzn3G4UdqgdR2FfEdKM0ex8x859oycGoCSTXxrzRil7HzD2h9kMcVCWOa+PaKPYeYe0PsE0xunWvkCjNHsPMftD66YZzyaZjb3r5Joo9h5i9ofWpNNzzXyZSUew8w5z61pDivkuil9W8w5z6ufrUTLkV8r9qTJo+rruHOfUbJUbDFfMGTRk0vq3mHtD6bIqMjmvmiin9XXcXOfSbDFMJxXzhSUfV/MOc+jd4o3CvnLNGaPq/mHOfRcrf6PL/uH+VfPE/wDx8Sf75/nUeaK1p0+Qlu5//9k=\n"
                },
                "metadata": {}
              }
            ]
          }
        },
        "b0734afae6d44ebcb0a64de4546de31f": {
          "model_module": "@jupyter-widgets/base",
          "model_name": "LayoutModel",
          "model_module_version": "1.2.0",
          "state": {
            "_model_module": "@jupyter-widgets/base",
            "_model_module_version": "1.2.0",
            "_model_name": "LayoutModel",
            "_view_count": null,
            "_view_module": "@jupyter-widgets/base",
            "_view_module_version": "1.2.0",
            "_view_name": "LayoutView",
            "align_content": null,
            "align_items": null,
            "align_self": null,
            "border": null,
            "bottom": null,
            "display": null,
            "flex": null,
            "flex_flow": null,
            "grid_area": null,
            "grid_auto_columns": null,
            "grid_auto_flow": null,
            "grid_auto_rows": null,
            "grid_column": null,
            "grid_gap": null,
            "grid_row": null,
            "grid_template_areas": null,
            "grid_template_columns": null,
            "grid_template_rows": null,
            "height": null,
            "justify_content": null,
            "justify_items": null,
            "left": null,
            "margin": null,
            "max_height": null,
            "max_width": null,
            "min_height": null,
            "min_width": null,
            "object_fit": null,
            "object_position": null,
            "order": null,
            "overflow": null,
            "overflow_x": null,
            "overflow_y": null,
            "padding": null,
            "right": null,
            "top": null,
            "visibility": null,
            "width": null
          }
        },
        "d6d6b141b32f434386d76e522638caea": {
          "model_module": "@jupyter-widgets/controls",
          "model_name": "IntSliderModel",
          "model_module_version": "1.5.0",
          "state": {
            "_dom_classes": [],
            "_model_module": "@jupyter-widgets/controls",
            "_model_module_version": "1.5.0",
            "_model_name": "IntSliderModel",
            "_view_count": null,
            "_view_module": "@jupyter-widgets/controls",
            "_view_module_version": "1.5.0",
            "_view_name": "IntSliderView",
            "continuous_update": true,
            "description": "",
            "description_tooltip": null,
            "disabled": false,
            "layout": "IPY_MODEL_c60a98da4764484f812fa6031d2869c3",
            "max": 1873,
            "min": 0,
            "orientation": "horizontal",
            "readout": true,
            "readout_format": "d",
            "step": 1,
            "style": "IPY_MODEL_d56800d354fa4a828d870912a43faa85",
            "value": 1456
          }
        },
        "c60a98da4764484f812fa6031d2869c3": {
          "model_module": "@jupyter-widgets/base",
          "model_name": "LayoutModel",
          "model_module_version": "1.2.0",
          "state": {
            "_model_module": "@jupyter-widgets/base",
            "_model_module_version": "1.2.0",
            "_model_name": "LayoutModel",
            "_view_count": null,
            "_view_module": "@jupyter-widgets/base",
            "_view_module_version": "1.2.0",
            "_view_name": "LayoutView",
            "align_content": null,
            "align_items": null,
            "align_self": null,
            "border": null,
            "bottom": null,
            "display": null,
            "flex": null,
            "flex_flow": null,
            "grid_area": null,
            "grid_auto_columns": null,
            "grid_auto_flow": null,
            "grid_auto_rows": null,
            "grid_column": null,
            "grid_gap": null,
            "grid_row": null,
            "grid_template_areas": null,
            "grid_template_columns": null,
            "grid_template_rows": null,
            "height": null,
            "justify_content": null,
            "justify_items": null,
            "left": null,
            "margin": null,
            "max_height": null,
            "max_width": null,
            "min_height": null,
            "min_width": null,
            "object_fit": null,
            "object_position": null,
            "order": null,
            "overflow": null,
            "overflow_x": null,
            "overflow_y": null,
            "padding": null,
            "right": null,
            "top": null,
            "visibility": null,
            "width": null
          }
        },
        "d56800d354fa4a828d870912a43faa85": {
          "model_module": "@jupyter-widgets/controls",
          "model_name": "SliderStyleModel",
          "model_module_version": "1.5.0",
          "state": {
            "_model_module": "@jupyter-widgets/controls",
            "_model_module_version": "1.5.0",
            "_model_name": "SliderStyleModel",
            "_view_count": null,
            "_view_module": "@jupyter-widgets/base",
            "_view_module_version": "1.2.0",
            "_view_name": "StyleView",
            "description_width": "",
            "handle_color": null
          }
        },
        "29ab8100f7774599bb8b583b1a85b39c": {
          "model_module": "@jupyter-widgets/controls",
          "model_name": "HBoxModel",
          "model_module_version": "1.5.0",
          "state": {
            "_dom_classes": [],
            "_model_module": "@jupyter-widgets/controls",
            "_model_module_version": "1.5.0",
            "_model_name": "HBoxModel",
            "_view_count": null,
            "_view_module": "@jupyter-widgets/controls",
            "_view_module_version": "1.5.0",
            "_view_name": "HBoxView",
            "box_style": "",
            "children": [
              "IPY_MODEL_12853ee5f9624f0cb6ca05a7e609ca81",
              "IPY_MODEL_49757925f4e4494a9ff89e91bb30647b",
              "IPY_MODEL_a71eec3fb39041b2914da303bb3288ba",
              "IPY_MODEL_f06fdb68f4d549d28823fe26d259c991",
              "IPY_MODEL_d5626630f68d4981a444e6459c956c8c",
              "IPY_MODEL_7a6b6a7202094fa2b5cfe83644acb696"
            ],
            "layout": "IPY_MODEL_ba51e380e3fc4ae69460c4719267b20a"
          }
        },
        "12853ee5f9624f0cb6ca05a7e609ca81": {
          "model_module": "@jupyter-widgets/controls",
          "model_name": "ButtonModel",
          "model_module_version": "1.5.0",
          "state": {
            "_dom_classes": [],
            "_model_module": "@jupyter-widgets/controls",
            "_model_module_version": "1.5.0",
            "_model_name": "ButtonModel",
            "_view_count": null,
            "_view_module": "@jupyter-widgets/controls",
            "_view_module_version": "1.5.0",
            "_view_name": "ButtonView",
            "button_style": "",
            "description": "<<",
            "disabled": false,
            "icon": "",
            "layout": "IPY_MODEL_1838c30af1dd47748088adb48f7451fb",
            "style": "IPY_MODEL_12178fb955ba482a84bb8ba65b5d3adb",
            "tooltip": ""
          }
        },
        "49757925f4e4494a9ff89e91bb30647b": {
          "model_module": "@jupyter-widgets/controls",
          "model_name": "ButtonModel",
          "model_module_version": "1.5.0",
          "state": {
            "_dom_classes": [],
            "_model_module": "@jupyter-widgets/controls",
            "_model_module_version": "1.5.0",
            "_model_name": "ButtonModel",
            "_view_count": null,
            "_view_module": "@jupyter-widgets/controls",
            "_view_module_version": "1.5.0",
            "_view_name": "ButtonView",
            "button_style": "",
            "description": "<",
            "disabled": false,
            "icon": "",
            "layout": "IPY_MODEL_ea8baaa323e048389c0f0a6915784083",
            "style": "IPY_MODEL_a92cc84bbebe4bbda80fecd4cc2295f3",
            "tooltip": ""
          }
        },
        "a71eec3fb39041b2914da303bb3288ba": {
          "model_module": "@jupyter-widgets/controls",
          "model_name": "ButtonModel",
          "model_module_version": "1.5.0",
          "state": {
            "_dom_classes": [],
            "_model_module": "@jupyter-widgets/controls",
            "_model_module_version": "1.5.0",
            "_model_name": "ButtonModel",
            "_view_count": null,
            "_view_module": "@jupyter-widgets/controls",
            "_view_module_version": "1.5.0",
            "_view_name": "ButtonView",
            "button_style": "",
            "description": "o",
            "disabled": false,
            "icon": "",
            "layout": "IPY_MODEL_0d81f79a52e64ccc8cf57a7964d5a2f9",
            "style": "IPY_MODEL_5d427b53e8094c3eb973b81e12cc5012",
            "tooltip": ""
          }
        },
        "f06fdb68f4d549d28823fe26d259c991": {
          "model_module": "@jupyter-widgets/controls",
          "model_name": "ButtonModel",
          "model_module_version": "1.5.0",
          "state": {
            "_dom_classes": [],
            "_model_module": "@jupyter-widgets/controls",
            "_model_module_version": "1.5.0",
            "_model_name": "ButtonModel",
            "_view_count": null,
            "_view_module": "@jupyter-widgets/controls",
            "_view_module_version": "1.5.0",
            "_view_name": "ButtonView",
            "button_style": "",
            "description": "x",
            "disabled": false,
            "icon": "",
            "layout": "IPY_MODEL_8d404fe6f6924823a72b9966f8382c1e",
            "style": "IPY_MODEL_0a536aa6064b4acdb10fb473f8a0c544",
            "tooltip": ""
          }
        },
        "d5626630f68d4981a444e6459c956c8c": {
          "model_module": "@jupyter-widgets/controls",
          "model_name": "ButtonModel",
          "model_module_version": "1.5.0",
          "state": {
            "_dom_classes": [],
            "_model_module": "@jupyter-widgets/controls",
            "_model_module_version": "1.5.0",
            "_model_name": "ButtonModel",
            "_view_count": null,
            "_view_module": "@jupyter-widgets/controls",
            "_view_module_version": "1.5.0",
            "_view_name": "ButtonView",
            "button_style": "",
            "description": ">",
            "disabled": false,
            "icon": "",
            "layout": "IPY_MODEL_c8ee0d912f1645fbafd23ed50f0ac88b",
            "style": "IPY_MODEL_b812692c503b43debbf507df898b7191",
            "tooltip": ""
          }
        },
        "7a6b6a7202094fa2b5cfe83644acb696": {
          "model_module": "@jupyter-widgets/controls",
          "model_name": "ButtonModel",
          "model_module_version": "1.5.0",
          "state": {
            "_dom_classes": [],
            "_model_module": "@jupyter-widgets/controls",
            "_model_module_version": "1.5.0",
            "_model_name": "ButtonModel",
            "_view_count": null,
            "_view_module": "@jupyter-widgets/controls",
            "_view_module_version": "1.5.0",
            "_view_name": "ButtonView",
            "button_style": "",
            "description": ">>",
            "disabled": false,
            "icon": "",
            "layout": "IPY_MODEL_4625f132b36543f6bcd8af9476e7037a",
            "style": "IPY_MODEL_33194acadc944f7fb852087db7139663",
            "tooltip": ""
          }
        },
        "ba51e380e3fc4ae69460c4719267b20a": {
          "model_module": "@jupyter-widgets/base",
          "model_name": "LayoutModel",
          "model_module_version": "1.2.0",
          "state": {
            "_model_module": "@jupyter-widgets/base",
            "_model_module_version": "1.2.0",
            "_model_name": "LayoutModel",
            "_view_count": null,
            "_view_module": "@jupyter-widgets/base",
            "_view_module_version": "1.2.0",
            "_view_name": "LayoutView",
            "align_content": null,
            "align_items": null,
            "align_self": null,
            "border": null,
            "bottom": null,
            "display": null,
            "flex": null,
            "flex_flow": null,
            "grid_area": null,
            "grid_auto_columns": null,
            "grid_auto_flow": null,
            "grid_auto_rows": null,
            "grid_column": null,
            "grid_gap": null,
            "grid_row": null,
            "grid_template_areas": null,
            "grid_template_columns": null,
            "grid_template_rows": null,
            "height": null,
            "justify_content": null,
            "justify_items": null,
            "left": null,
            "margin": null,
            "max_height": null,
            "max_width": null,
            "min_height": null,
            "min_width": null,
            "object_fit": null,
            "object_position": null,
            "order": null,
            "overflow": null,
            "overflow_x": null,
            "overflow_y": null,
            "padding": null,
            "right": null,
            "top": null,
            "visibility": null,
            "width": null
          }
        },
        "1838c30af1dd47748088adb48f7451fb": {
          "model_module": "@jupyter-widgets/base",
          "model_name": "LayoutModel",
          "model_module_version": "1.2.0",
          "state": {
            "_model_module": "@jupyter-widgets/base",
            "_model_module_version": "1.2.0",
            "_model_name": "LayoutModel",
            "_view_count": null,
            "_view_module": "@jupyter-widgets/base",
            "_view_module_version": "1.2.0",
            "_view_name": "LayoutView",
            "align_content": null,
            "align_items": null,
            "align_self": null,
            "border": null,
            "bottom": null,
            "display": null,
            "flex": null,
            "flex_flow": null,
            "grid_area": null,
            "grid_auto_columns": null,
            "grid_auto_flow": null,
            "grid_auto_rows": null,
            "grid_column": null,
            "grid_gap": null,
            "grid_row": null,
            "grid_template_areas": null,
            "grid_template_columns": null,
            "grid_template_rows": null,
            "height": null,
            "justify_content": null,
            "justify_items": null,
            "left": null,
            "margin": null,
            "max_height": null,
            "max_width": null,
            "min_height": null,
            "min_width": null,
            "object_fit": null,
            "object_position": null,
            "order": null,
            "overflow": null,
            "overflow_x": null,
            "overflow_y": null,
            "padding": null,
            "right": null,
            "top": null,
            "visibility": null,
            "width": null
          }
        },
        "12178fb955ba482a84bb8ba65b5d3adb": {
          "model_module": "@jupyter-widgets/controls",
          "model_name": "ButtonStyleModel",
          "model_module_version": "1.5.0",
          "state": {
            "_model_module": "@jupyter-widgets/controls",
            "_model_module_version": "1.5.0",
            "_model_name": "ButtonStyleModel",
            "_view_count": null,
            "_view_module": "@jupyter-widgets/base",
            "_view_module_version": "1.2.0",
            "_view_name": "StyleView",
            "button_color": null,
            "font_weight": ""
          }
        },
        "ea8baaa323e048389c0f0a6915784083": {
          "model_module": "@jupyter-widgets/base",
          "model_name": "LayoutModel",
          "model_module_version": "1.2.0",
          "state": {
            "_model_module": "@jupyter-widgets/base",
            "_model_module_version": "1.2.0",
            "_model_name": "LayoutModel",
            "_view_count": null,
            "_view_module": "@jupyter-widgets/base",
            "_view_module_version": "1.2.0",
            "_view_name": "LayoutView",
            "align_content": null,
            "align_items": null,
            "align_self": null,
            "border": null,
            "bottom": null,
            "display": null,
            "flex": null,
            "flex_flow": null,
            "grid_area": null,
            "grid_auto_columns": null,
            "grid_auto_flow": null,
            "grid_auto_rows": null,
            "grid_column": null,
            "grid_gap": null,
            "grid_row": null,
            "grid_template_areas": null,
            "grid_template_columns": null,
            "grid_template_rows": null,
            "height": null,
            "justify_content": null,
            "justify_items": null,
            "left": null,
            "margin": null,
            "max_height": null,
            "max_width": null,
            "min_height": null,
            "min_width": null,
            "object_fit": null,
            "object_position": null,
            "order": null,
            "overflow": null,
            "overflow_x": null,
            "overflow_y": null,
            "padding": null,
            "right": null,
            "top": null,
            "visibility": null,
            "width": null
          }
        },
        "a92cc84bbebe4bbda80fecd4cc2295f3": {
          "model_module": "@jupyter-widgets/controls",
          "model_name": "ButtonStyleModel",
          "model_module_version": "1.5.0",
          "state": {
            "_model_module": "@jupyter-widgets/controls",
            "_model_module_version": "1.5.0",
            "_model_name": "ButtonStyleModel",
            "_view_count": null,
            "_view_module": "@jupyter-widgets/base",
            "_view_module_version": "1.2.0",
            "_view_name": "StyleView",
            "button_color": null,
            "font_weight": ""
          }
        },
        "0d81f79a52e64ccc8cf57a7964d5a2f9": {
          "model_module": "@jupyter-widgets/base",
          "model_name": "LayoutModel",
          "model_module_version": "1.2.0",
          "state": {
            "_model_module": "@jupyter-widgets/base",
            "_model_module_version": "1.2.0",
            "_model_name": "LayoutModel",
            "_view_count": null,
            "_view_module": "@jupyter-widgets/base",
            "_view_module_version": "1.2.0",
            "_view_name": "LayoutView",
            "align_content": null,
            "align_items": null,
            "align_self": null,
            "border": null,
            "bottom": null,
            "display": null,
            "flex": null,
            "flex_flow": null,
            "grid_area": null,
            "grid_auto_columns": null,
            "grid_auto_flow": null,
            "grid_auto_rows": null,
            "grid_column": null,
            "grid_gap": null,
            "grid_row": null,
            "grid_template_areas": null,
            "grid_template_columns": null,
            "grid_template_rows": null,
            "height": null,
            "justify_content": null,
            "justify_items": null,
            "left": null,
            "margin": null,
            "max_height": null,
            "max_width": null,
            "min_height": null,
            "min_width": null,
            "object_fit": null,
            "object_position": null,
            "order": null,
            "overflow": null,
            "overflow_x": null,
            "overflow_y": null,
            "padding": null,
            "right": null,
            "top": null,
            "visibility": null,
            "width": null
          }
        },
        "5d427b53e8094c3eb973b81e12cc5012": {
          "model_module": "@jupyter-widgets/controls",
          "model_name": "ButtonStyleModel",
          "model_module_version": "1.5.0",
          "state": {
            "_model_module": "@jupyter-widgets/controls",
            "_model_module_version": "1.5.0",
            "_model_name": "ButtonStyleModel",
            "_view_count": null,
            "_view_module": "@jupyter-widgets/base",
            "_view_module_version": "1.2.0",
            "_view_name": "StyleView",
            "button_color": null,
            "font_weight": ""
          }
        },
        "8d404fe6f6924823a72b9966f8382c1e": {
          "model_module": "@jupyter-widgets/base",
          "model_name": "LayoutModel",
          "model_module_version": "1.2.0",
          "state": {
            "_model_module": "@jupyter-widgets/base",
            "_model_module_version": "1.2.0",
            "_model_name": "LayoutModel",
            "_view_count": null,
            "_view_module": "@jupyter-widgets/base",
            "_view_module_version": "1.2.0",
            "_view_name": "LayoutView",
            "align_content": null,
            "align_items": null,
            "align_self": null,
            "border": null,
            "bottom": null,
            "display": null,
            "flex": null,
            "flex_flow": null,
            "grid_area": null,
            "grid_auto_columns": null,
            "grid_auto_flow": null,
            "grid_auto_rows": null,
            "grid_column": null,
            "grid_gap": null,
            "grid_row": null,
            "grid_template_areas": null,
            "grid_template_columns": null,
            "grid_template_rows": null,
            "height": null,
            "justify_content": null,
            "justify_items": null,
            "left": null,
            "margin": null,
            "max_height": null,
            "max_width": null,
            "min_height": null,
            "min_width": null,
            "object_fit": null,
            "object_position": null,
            "order": null,
            "overflow": null,
            "overflow_x": null,
            "overflow_y": null,
            "padding": null,
            "right": null,
            "top": null,
            "visibility": null,
            "width": null
          }
        },
        "0a536aa6064b4acdb10fb473f8a0c544": {
          "model_module": "@jupyter-widgets/controls",
          "model_name": "ButtonStyleModel",
          "model_module_version": "1.5.0",
          "state": {
            "_model_module": "@jupyter-widgets/controls",
            "_model_module_version": "1.5.0",
            "_model_name": "ButtonStyleModel",
            "_view_count": null,
            "_view_module": "@jupyter-widgets/base",
            "_view_module_version": "1.2.0",
            "_view_name": "StyleView",
            "button_color": null,
            "font_weight": ""
          }
        },
        "c8ee0d912f1645fbafd23ed50f0ac88b": {
          "model_module": "@jupyter-widgets/base",
          "model_name": "LayoutModel",
          "model_module_version": "1.2.0",
          "state": {
            "_model_module": "@jupyter-widgets/base",
            "_model_module_version": "1.2.0",
            "_model_name": "LayoutModel",
            "_view_count": null,
            "_view_module": "@jupyter-widgets/base",
            "_view_module_version": "1.2.0",
            "_view_name": "LayoutView",
            "align_content": null,
            "align_items": null,
            "align_self": null,
            "border": null,
            "bottom": null,
            "display": null,
            "flex": null,
            "flex_flow": null,
            "grid_area": null,
            "grid_auto_columns": null,
            "grid_auto_flow": null,
            "grid_auto_rows": null,
            "grid_column": null,
            "grid_gap": null,
            "grid_row": null,
            "grid_template_areas": null,
            "grid_template_columns": null,
            "grid_template_rows": null,
            "height": null,
            "justify_content": null,
            "justify_items": null,
            "left": null,
            "margin": null,
            "max_height": null,
            "max_width": null,
            "min_height": null,
            "min_width": null,
            "object_fit": null,
            "object_position": null,
            "order": null,
            "overflow": null,
            "overflow_x": null,
            "overflow_y": null,
            "padding": null,
            "right": null,
            "top": null,
            "visibility": null,
            "width": null
          }
        },
        "b812692c503b43debbf507df898b7191": {
          "model_module": "@jupyter-widgets/controls",
          "model_name": "ButtonStyleModel",
          "model_module_version": "1.5.0",
          "state": {
            "_model_module": "@jupyter-widgets/controls",
            "_model_module_version": "1.5.0",
            "_model_name": "ButtonStyleModel",
            "_view_count": null,
            "_view_module": "@jupyter-widgets/base",
            "_view_module_version": "1.2.0",
            "_view_name": "StyleView",
            "button_color": null,
            "font_weight": ""
          }
        },
        "4625f132b36543f6bcd8af9476e7037a": {
          "model_module": "@jupyter-widgets/base",
          "model_name": "LayoutModel",
          "model_module_version": "1.2.0",
          "state": {
            "_model_module": "@jupyter-widgets/base",
            "_model_module_version": "1.2.0",
            "_model_name": "LayoutModel",
            "_view_count": null,
            "_view_module": "@jupyter-widgets/base",
            "_view_module_version": "1.2.0",
            "_view_name": "LayoutView",
            "align_content": null,
            "align_items": null,
            "align_self": null,
            "border": null,
            "bottom": null,
            "display": null,
            "flex": null,
            "flex_flow": null,
            "grid_area": null,
            "grid_auto_columns": null,
            "grid_auto_flow": null,
            "grid_auto_rows": null,
            "grid_column": null,
            "grid_gap": null,
            "grid_row": null,
            "grid_template_areas": null,
            "grid_template_columns": null,
            "grid_template_rows": null,
            "height": null,
            "justify_content": null,
            "justify_items": null,
            "left": null,
            "margin": null,
            "max_height": null,
            "max_width": null,
            "min_height": null,
            "min_width": null,
            "object_fit": null,
            "object_position": null,
            "order": null,
            "overflow": null,
            "overflow_x": null,
            "overflow_y": null,
            "padding": null,
            "right": null,
            "top": null,
            "visibility": null,
            "width": null
          }
        },
        "33194acadc944f7fb852087db7139663": {
          "model_module": "@jupyter-widgets/controls",
          "model_name": "ButtonStyleModel",
          "model_module_version": "1.5.0",
          "state": {
            "_model_module": "@jupyter-widgets/controls",
            "_model_module_version": "1.5.0",
            "_model_name": "ButtonStyleModel",
            "_view_count": null,
            "_view_module": "@jupyter-widgets/base",
            "_view_module_version": "1.2.0",
            "_view_name": "StyleView",
            "button_color": null,
            "font_weight": ""
          }
        }
      }
    }
  },
  "nbformat": 4,
  "nbformat_minor": 0
}